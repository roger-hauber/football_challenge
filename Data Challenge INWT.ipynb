{
 "cells": [
  {
   "cell_type": "markdown",
   "id": "020b9d3a",
   "metadata": {},
   "source": [
    "# Data Preparation"
   ]
  },
  {
   "cell_type": "markdown",
   "id": "272fa0bb",
   "metadata": {},
   "source": [
    "Bringing the data into the desired format, where each match is represented by two rows with home and away team switched."
   ]
  },
  {
   "cell_type": "markdown",
   "id": "fdf4492d",
   "metadata": {},
   "source": [
    "**1 - Imports and reading csv files**"
   ]
  },
  {
   "cell_type": "code",
   "execution_count": 44,
   "id": "d7c20ca0",
   "metadata": {},
   "outputs": [],
   "source": [
    "#imports\n",
    "import pandas as pd\n",
    "import numpy as np"
   ]
  },
  {
   "cell_type": "code",
   "execution_count": 60,
   "id": "d6bfa6c5",
   "metadata": {},
   "outputs": [],
   "source": [
    "#Read the train.csv and test.csv data ()\n",
    "train = pd.read_csv(\"train.csv\", encoding = \"ISO-8859-1\")\n",
    "\n",
    "#test.csv has rows wrapped in \"\", which makes parsing a bit difficult. \n",
    "#quoting = 3 ignores all quotes and we can get rid of them manually\n",
    "test = pd.read_csv(\"test.csv\", encoding=\"ISO-8859-1\", quoting=3)"
   ]
  },
  {
   "cell_type": "code",
   "execution_count": 61,
   "id": "65fae409",
   "metadata": {},
   "outputs": [
    {
     "data": {
      "text/html": [
       "<div>\n",
       "<style scoped>\n",
       "    .dataframe tbody tr th:only-of-type {\n",
       "        vertical-align: middle;\n",
       "    }\n",
       "\n",
       "    .dataframe tbody tr th {\n",
       "        vertical-align: top;\n",
       "    }\n",
       "\n",
       "    .dataframe thead th {\n",
       "        text-align: right;\n",
       "    }\n",
       "</style>\n",
       "<table border=\"1\" class=\"dataframe\">\n",
       "  <thead>\n",
       "    <tr style=\"text-align: right;\">\n",
       "      <th></th>\n",
       "      <th>Unnamed: 0</th>\n",
       "      <th>eventBegin</th>\n",
       "      <th>paarung</th>\n",
       "      <th>score</th>\n",
       "      <th>RefOdd1</th>\n",
       "      <th>RefOddX</th>\n",
       "      <th>RefOdd2</th>\n",
       "      <th>RefOddOver</th>\n",
       "    </tr>\n",
       "  </thead>\n",
       "  <tbody>\n",
       "    <tr>\n",
       "      <th>0</th>\n",
       "      <td>1</td>\n",
       "      <td>2015-01-30 20:35:32</td>\n",
       "      <td>VfL Wolfsburg - Bayern München</td>\n",
       "      <td>4:1 (2:0)</td>\n",
       "      <td>7.49272</td>\n",
       "      <td>4.85413</td>\n",
       "      <td>1.51180</td>\n",
       "      <td>1.69718</td>\n",
       "    </tr>\n",
       "    <tr>\n",
       "      <th>1</th>\n",
       "      <td>2</td>\n",
       "      <td>2015-01-31 15:30:19</td>\n",
       "      <td>SC Freiburg - Eintracht Frankfurt</td>\n",
       "      <td>4:1 (0:1)</td>\n",
       "      <td>2.97516</td>\n",
       "      <td>3.94175</td>\n",
       "      <td>2.42760</td>\n",
       "      <td>1.70712</td>\n",
       "    </tr>\n",
       "    <tr>\n",
       "      <th>2</th>\n",
       "      <td>3</td>\n",
       "      <td>2015-01-31 15:30:56</td>\n",
       "      <td>Hamburger SV - 1.FC Köln</td>\n",
       "      <td>0:2 (0:0)</td>\n",
       "      <td>2.54718</td>\n",
       "      <td>3.33901</td>\n",
       "      <td>3.26786</td>\n",
       "      <td>2.59439</td>\n",
       "    </tr>\n",
       "    <tr>\n",
       "      <th>3</th>\n",
       "      <td>4</td>\n",
       "      <td>2015-01-31 15:31:11</td>\n",
       "      <td>Schalke 04 - Hannover 96</td>\n",
       "      <td>1:0 (1:0)</td>\n",
       "      <td>2.07487</td>\n",
       "      <td>3.81712</td>\n",
       "      <td>3.88638</td>\n",
       "      <td>1.82383</td>\n",
       "    </tr>\n",
       "    <tr>\n",
       "      <th>4</th>\n",
       "      <td>5</td>\n",
       "      <td>2015-01-31 15:31:21</td>\n",
       "      <td>FSV Mainz 05 - SC Paderborn</td>\n",
       "      <td>5:0 (1:0)</td>\n",
       "      <td>2.00676</td>\n",
       "      <td>3.76686</td>\n",
       "      <td>4.25880</td>\n",
       "      <td>1.87892</td>\n",
       "    </tr>\n",
       "  </tbody>\n",
       "</table>\n",
       "</div>"
      ],
      "text/plain": [
       "   Unnamed: 0           eventBegin                            paarung  \\\n",
       "0           1  2015-01-30 20:35:32     VfL Wolfsburg - Bayern München   \n",
       "1           2  2015-01-31 15:30:19  SC Freiburg - Eintracht Frankfurt   \n",
       "2           3  2015-01-31 15:30:56           Hamburger SV - 1.FC Köln   \n",
       "3           4  2015-01-31 15:31:11           Schalke 04 - Hannover 96   \n",
       "4           5  2015-01-31 15:31:21        FSV Mainz 05 - SC Paderborn   \n",
       "\n",
       "       score  RefOdd1  RefOddX  RefOdd2  RefOddOver  \n",
       "0  4:1 (2:0)  7.49272  4.85413  1.51180     1.69718  \n",
       "1  4:1 (0:1)  2.97516  3.94175  2.42760     1.70712  \n",
       "2  0:2 (0:0)  2.54718  3.33901  3.26786     2.59439  \n",
       "3  1:0 (1:0)  2.07487  3.81712  3.88638     1.82383  \n",
       "4  5:0 (1:0)  2.00676  3.76686  4.25880     1.87892  "
      ]
     },
     "execution_count": 61,
     "metadata": {},
     "output_type": "execute_result"
    }
   ],
   "source": [
    "#Check out the data frames\n",
    "train.head()"
   ]
  },
  {
   "cell_type": "code",
   "execution_count": 62,
   "id": "0ec9df7a",
   "metadata": {},
   "outputs": [],
   "source": [
    "#manually get rid of quotes\n",
    "test.columns = train.columns\n",
    "for col in test.select_dtypes(include=\"object\"):\n",
    "    test[col] = test[col].str.strip(\"\\\"\")"
   ]
  },
  {
   "cell_type": "code",
   "execution_count": 63,
   "id": "57f01e58",
   "metadata": {},
   "outputs": [
    {
     "data": {
      "text/html": [
       "<div>\n",
       "<style scoped>\n",
       "    .dataframe tbody tr th:only-of-type {\n",
       "        vertical-align: middle;\n",
       "    }\n",
       "\n",
       "    .dataframe tbody tr th {\n",
       "        vertical-align: top;\n",
       "    }\n",
       "\n",
       "    .dataframe thead th {\n",
       "        text-align: right;\n",
       "    }\n",
       "</style>\n",
       "<table border=\"1\" class=\"dataframe\">\n",
       "  <thead>\n",
       "    <tr style=\"text-align: right;\">\n",
       "      <th></th>\n",
       "      <th>Unnamed: 0</th>\n",
       "      <th>eventBegin</th>\n",
       "      <th>paarung</th>\n",
       "      <th>score</th>\n",
       "      <th>RefOdd1</th>\n",
       "      <th>RefOddX</th>\n",
       "      <th>RefOdd2</th>\n",
       "      <th>RefOddOver</th>\n",
       "    </tr>\n",
       "  </thead>\n",
       "  <tbody>\n",
       "    <tr>\n",
       "      <th>0</th>\n",
       "      <td>1467</td>\n",
       "      <td>2019-10-25 20:30:06</td>\n",
       "      <td>FSV Mainz 05 - 1.FC Köln</td>\n",
       "      <td>NaN</td>\n",
       "      <td>NaN</td>\n",
       "      <td>NaN</td>\n",
       "      <td>NaN</td>\n",
       "      <td>NA</td>\n",
       "    </tr>\n",
       "    <tr>\n",
       "      <th>1</th>\n",
       "      <td>1468</td>\n",
       "      <td>2019-10-26 15:30:00</td>\n",
       "      <td>SC Freiburg  - RB Leipzig</td>\n",
       "      <td>NaN</td>\n",
       "      <td>NaN</td>\n",
       "      <td>NaN</td>\n",
       "      <td>NaN</td>\n",
       "      <td>NA</td>\n",
       "    </tr>\n",
       "    <tr>\n",
       "      <th>2</th>\n",
       "      <td>1469</td>\n",
       "      <td>2019-10-26 15:30:35</td>\n",
       "      <td>SC Paderborn - Fortuna Düsseldorf</td>\n",
       "      <td>NaN</td>\n",
       "      <td>NaN</td>\n",
       "      <td>NaN</td>\n",
       "      <td>NaN</td>\n",
       "      <td>NA</td>\n",
       "    </tr>\n",
       "    <tr>\n",
       "      <th>3</th>\n",
       "      <td>1470</td>\n",
       "      <td>2019-10-26 15:30:42</td>\n",
       "      <td>Bayern München - FC Union Berlin</td>\n",
       "      <td>NaN</td>\n",
       "      <td>NaN</td>\n",
       "      <td>NaN</td>\n",
       "      <td>NaN</td>\n",
       "      <td>NA</td>\n",
       "    </tr>\n",
       "    <tr>\n",
       "      <th>4</th>\n",
       "      <td>1471</td>\n",
       "      <td>2019-10-26 15:31:02</td>\n",
       "      <td>Hertha BSC - 1899 Hoffenheim</td>\n",
       "      <td>NaN</td>\n",
       "      <td>NaN</td>\n",
       "      <td>NaN</td>\n",
       "      <td>NaN</td>\n",
       "      <td>NA</td>\n",
       "    </tr>\n",
       "  </tbody>\n",
       "</table>\n",
       "</div>"
      ],
      "text/plain": [
       "  Unnamed: 0           eventBegin                            paarung  score  \\\n",
       "0       1467  2019-10-25 20:30:06           FSV Mainz 05 - 1.FC Köln    NaN   \n",
       "1       1468  2019-10-26 15:30:00          SC Freiburg  - RB Leipzig    NaN   \n",
       "2       1469  2019-10-26 15:30:35  SC Paderborn - Fortuna Düsseldorf    NaN   \n",
       "3       1470  2019-10-26 15:30:42   Bayern München - FC Union Berlin    NaN   \n",
       "4       1471  2019-10-26 15:31:02       Hertha BSC - 1899 Hoffenheim    NaN   \n",
       "\n",
       "   RefOdd1  RefOddX  RefOdd2 RefOddOver  \n",
       "0      NaN      NaN      NaN         NA  \n",
       "1      NaN      NaN      NaN         NA  \n",
       "2      NaN      NaN      NaN         NA  \n",
       "3      NaN      NaN      NaN         NA  \n",
       "4      NaN      NaN      NaN         NA  "
      ]
     },
     "execution_count": 63,
     "metadata": {},
     "output_type": "execute_result"
    }
   ],
   "source": [
    "test.head()"
   ]
  },
  {
   "cell_type": "markdown",
   "id": "b47db3c1",
   "metadata": {},
   "source": [
    "**2 - Parsing both teams from \"paarung\" variable**"
   ]
  },
  {
   "cell_type": "code",
   "execution_count": 64,
   "id": "ff0afbbc",
   "metadata": {},
   "outputs": [],
   "source": [
    "#defining a couple of functions\n",
    "def home_team(row):\n",
    "    team = row[\"paarung\"].split(\"-\")[0]\n",
    "    team = team.strip()\n",
    "    return team\n",
    "\n",
    "def away_team(row):\n",
    "    team = row[\"paarung\"].split(\"-\")[1]\n",
    "    team = team.strip()\n",
    "    return team"
   ]
  },
  {
   "cell_type": "code",
   "execution_count": 65,
   "id": "3bfdfb5b",
   "metadata": {},
   "outputs": [],
   "source": [
    "#Apply both functions to the train and test df\n",
    "train[\"team1\"] = train.apply(lambda row: home_team(row), axis = 1)\n",
    "train[\"team2\"] = train.apply(lambda row: away_team(row), axis = 1)"
   ]
  },
  {
   "cell_type": "code",
   "execution_count": 66,
   "id": "a0e75385",
   "metadata": {},
   "outputs": [],
   "source": [
    "#test df\n",
    "test[\"team1\"] = test.apply(lambda row: home_team(row), axis = 1)\n",
    "test[\"team2\"] = test.apply(lambda row: away_team(row), axis = 1)"
   ]
  },
  {
   "cell_type": "code",
   "execution_count": 67,
   "id": "22aa5e98",
   "metadata": {},
   "outputs": [
    {
     "data": {
      "text/plain": [
       "array(['VfL Wolfsburg', 'SC Freiburg', 'Hamburger SV', 'Schalke 04',\n",
       "       'FSV Mainz 05', 'VfB Stuttgart', 'Bayer Leverkusen',\n",
       "       'Werder Bremen', 'FC Augsburg', 'Eintracht Frankfurt',\n",
       "       'Hannover 96', \"Bor. M'gladbach\", 'Bayern München',\n",
       "       '1899 Hoffenheim', 'Paderborn', 'Hertha BSC', '1.FC Köln',\n",
       "       'Bor. Dortmund', 'Wolfsburg', 'FSV Mainz', \"B. M'gladbach\",\n",
       "       'Borussia Dortmund', 'SC Paderborn', \"Borussia M'gladbach\",\n",
       "       'Mainz 05', 'Eint. Frankfurt', 'Hoffenheim', 'Bay. München',\n",
       "       \"M'gladbach\", 'B. Dortmund', 'Karlsruher SC', 'SV Darmstadt 98',\n",
       "       'FC Ingolstadt', 'Ingolstadt', 'Ein. Frankfurt', 'Augsburg',\n",
       "       'E. Frankfurt', '1. FC Nürnberg', 'RB Leipzig', 'Freiburg',\n",
       "       'E. Braunschweig', 'Holstein Kiel', 'Fortuna Düsseldorf',\n",
       "       'B. Leverkusen', 'Fort. Düsseldorf', 'Eintr. Frankfurt',\n",
       "       'F. Düsseldorf', 'FC Union Berlin', 'Union Berlin'], dtype=object)"
      ]
     },
     "execution_count": 67,
     "metadata": {},
     "output_type": "execute_result"
    }
   ],
   "source": [
    "#check unique values of team1 and team2\n",
    "train[\"team1\"].unique()"
   ]
  },
  {
   "cell_type": "code",
   "execution_count": 68,
   "id": "a6c7e92d",
   "metadata": {},
   "outputs": [
    {
     "data": {
      "text/plain": [
       "array(['Bayern München', 'Eintracht Frankfurt', '1.FC Köln',\n",
       "       'Hannover 96', 'SC Paderborn', \"Borussia M'gladbach\",\n",
       "       'Borussia Dortmund', 'Hertha BSC', '1899 Hoffenheim',\n",
       "       'VfL Wolfsburg', 'FSV Mainz 05', 'SC Freiburg', 'Schalke 04',\n",
       "       'Werder Bremen', 'Hamburger SV', 'Bayer Leverkusen',\n",
       "       'VfB Stuttgart', 'FC Augsburg', 'Hoffenheim', 'Bor. Dortmund',\n",
       "       'FSV Mainz', 'Wolfsburg', \"Bor. M'gladbach\", 'Bay. München',\n",
       "       \"B. M'gladbach\", 'Eintr. Frankfurt', 'Augsburg', 'FC Köln',\n",
       "       'Tabellendritter 2.BL', 'Karlsruher SC', 'FC Ingolstadt',\n",
       "       'E. Frankfurt', 'Darmstadt 98', 'TSG 1899 Hoffenheim',\n",
       "       'SV Darmstadt 98', 'Bayern Munich', 'Ein. Frankfurt',\n",
       "       '1 FSV Mainz 05', 'Eint. Frankfurt', 'Ingolstadt',\n",
       "       '1. FC Nürnberg', 'RB Leipzig', 'E. Braunschweig', 'Holstein Kiel',\n",
       "       'Fortuna Düsseldorf', 'B. Dortmund', 'B. Leverkusen',\n",
       "       'Union Berlin', 'FC Union Berlin', 'F. Düsseldorf'], dtype=object)"
      ]
     },
     "execution_count": 68,
     "metadata": {},
     "output_type": "execute_result"
    }
   ],
   "source": [
    "train[\"team2\"].unique()"
   ]
  },
  {
   "cell_type": "code",
   "execution_count": 69,
   "id": "3897c4bd",
   "metadata": {},
   "outputs": [],
   "source": [
    "#team2 contains the unspecified \"Tabellendritter 2 BL\" - drop those rows\n",
    "train = train.loc[train.team2 != \"Tabellendritter 2.BL\", ]"
   ]
  },
  {
   "cell_type": "code",
   "execution_count": 70,
   "id": "4bee54b3",
   "metadata": {},
   "outputs": [],
   "source": [
    "#a lot of variability in naming of same teams - clean that up with a couple of steps\n",
    "\n",
    "#function that returns the longer element of the team name (usually the city name, but for a few exceptions..)\n",
    "def clean_name(row, team):\n",
    "    \n",
    "    name = max(row[team].split(), key=len)\n",
    "    name = name.strip()\n",
    "    #handle exceptions \"Eintracht Frankfurt\" \"1.FC Köln\" and \"Borussia Dortmund\" and \"Bayern Munich\"\n",
    "    if name == \"Eintracht\":\n",
    "        name = \"Frankfurt\"\n",
    "    elif name == \"1.FC\":\n",
    "        name = \"Köln\"\n",
    "    elif name ==  \"Borussia\":\n",
    "        name = \"Dortmund\"\n",
    "    elif name == \"Bayern\":\n",
    "        name = \"München\"\n",
    "        \n",
    "    \n",
    "    return name"
   ]
  },
  {
   "cell_type": "code",
   "execution_count": 71,
   "id": "bdcc6285",
   "metadata": {},
   "outputs": [],
   "source": [
    "#Apply both functions to the train and test df\n",
    "train[\"team1\"] = train.apply(lambda row: clean_name(row, \"team1\"), axis = 1)\n",
    "train[\"team2\"] = train.apply(lambda row: clean_name(row, \"team2\"), axis = 1)"
   ]
  },
  {
   "cell_type": "code",
   "execution_count": 72,
   "id": "0c114c0c",
   "metadata": {},
   "outputs": [],
   "source": [
    "#test df\n",
    "test[\"team1\"] = test.apply(lambda row: clean_name(row, \"team1\"), axis = 1)\n",
    "test[\"team2\"] = test.apply(lambda row: clean_name(row, \"team2\"), axis = 1)"
   ]
  },
  {
   "cell_type": "markdown",
   "id": "239c7ecc",
   "metadata": {},
   "source": [
    "**3 - Parsing scores from \"score\" - only for train (obviously)**"
   ]
  },
  {
   "cell_type": "code",
   "execution_count": 74,
   "id": "fa171d30",
   "metadata": {},
   "outputs": [],
   "source": [
    "train.loc[:, \"score1\"] = train.loc[:, \"score\"].str[0]\n",
    "train.loc[:, \"score2\"] = train.loc[:, \"score\"].str[2]"
   ]
  },
  {
   "cell_type": "code",
   "execution_count": 76,
   "id": "f84267ff",
   "metadata": {},
   "outputs": [],
   "source": [
    "#add empty score1 and score2 columns to test df - to keep the same shape and format\n",
    "test.loc[:, \"score1\"] = None\n",
    "test.loc[:, \"score2\"] = None"
   ]
  },
  {
   "cell_type": "markdown",
   "id": "4f022f7d",
   "metadata": {},
   "source": [
    "**4 - bring dataframe in required format**"
   ]
  },
  {
   "cell_type": "code",
   "execution_count": 79,
   "id": "0eb48757",
   "metadata": {},
   "outputs": [],
   "source": [
    "#for now still with one row per match\n",
    "train = train.loc[:, [\"eventBegin\", \"team1\", \"team2\", \"score1\", \"score2\", \"RefOdd1\", \"RefOddX\", \"RefOdd2\", \"RefOddOver\"]]\n",
    "test = test.loc[:, [\"eventBegin\", \"team1\", \"team2\", \"score1\", \"score2\", \"RefOdd1\", \"RefOddX\", \"RefOdd2\", \"RefOddOver\"]]"
   ]
  },
  {
   "cell_type": "code",
   "execution_count": 80,
   "id": "eba9d4a8",
   "metadata": {},
   "outputs": [],
   "source": [
    "#add a \"home\" variable and set it to 1\n",
    "train[\"home\"] = 1\n",
    "test[\"home\"] = 1"
   ]
  },
  {
   "cell_type": "code",
   "execution_count": 85,
   "id": "c2036ea5",
   "metadata": {},
   "outputs": [],
   "source": [
    "#create alternative dataframes that swap team1 and 2, score1 and 2 and RefOdd1 and 1 and add \"home\" = 0\n",
    "train_alt = pd.concat([train.eventBegin, train.team2, train.team1, \n",
    "                          train.score2, train.score1, train.RefOdd2, train.RefOddX, train.RefOdd1, \n",
    "                          train.RefOddOver], axis=1)\n",
    "train_alt[\"home\"] = 0\n",
    "\n",
    "test_alt = pd.concat([test.eventBegin, test.team2, test.team1, \n",
    "                          test.score2, test.score1, test.RefOdd2, test.RefOddX, test.RefOdd1, \n",
    "                          test.RefOddOver], axis=1)\n",
    "test_alt[\"home\"] = 0"
   ]
  },
  {
   "cell_type": "code",
   "execution_count": 88,
   "id": "459ddea1",
   "metadata": {},
   "outputs": [
    {
     "data": {
      "text/html": [
       "<div>\n",
       "<style scoped>\n",
       "    .dataframe tbody tr th:only-of-type {\n",
       "        vertical-align: middle;\n",
       "    }\n",
       "\n",
       "    .dataframe tbody tr th {\n",
       "        vertical-align: top;\n",
       "    }\n",
       "\n",
       "    .dataframe thead th {\n",
       "        text-align: right;\n",
       "    }\n",
       "</style>\n",
       "<table border=\"1\" class=\"dataframe\">\n",
       "  <thead>\n",
       "    <tr style=\"text-align: right;\">\n",
       "      <th></th>\n",
       "      <th>eventBegin</th>\n",
       "      <th>team1</th>\n",
       "      <th>team2</th>\n",
       "      <th>score1</th>\n",
       "      <th>score2</th>\n",
       "      <th>RefOdd1</th>\n",
       "      <th>RefOddX</th>\n",
       "      <th>RefOdd2</th>\n",
       "      <th>RefOddOver</th>\n",
       "      <th>home</th>\n",
       "    </tr>\n",
       "  </thead>\n",
       "  <tbody>\n",
       "    <tr>\n",
       "      <th>0</th>\n",
       "      <td>2015-01-30 20:35:32</td>\n",
       "      <td>München</td>\n",
       "      <td>Wolfsburg</td>\n",
       "      <td>1</td>\n",
       "      <td>4</td>\n",
       "      <td>1.51180</td>\n",
       "      <td>4.85413</td>\n",
       "      <td>7.49272</td>\n",
       "      <td>1.69718</td>\n",
       "      <td>0</td>\n",
       "    </tr>\n",
       "    <tr>\n",
       "      <th>1</th>\n",
       "      <td>2015-01-31 15:30:19</td>\n",
       "      <td>Frankfurt</td>\n",
       "      <td>Freiburg</td>\n",
       "      <td>1</td>\n",
       "      <td>4</td>\n",
       "      <td>2.42760</td>\n",
       "      <td>3.94175</td>\n",
       "      <td>2.97516</td>\n",
       "      <td>1.70712</td>\n",
       "      <td>0</td>\n",
       "    </tr>\n",
       "    <tr>\n",
       "      <th>2</th>\n",
       "      <td>2015-01-31 15:30:56</td>\n",
       "      <td>Köln</td>\n",
       "      <td>Hamburger</td>\n",
       "      <td>2</td>\n",
       "      <td>0</td>\n",
       "      <td>3.26786</td>\n",
       "      <td>3.33901</td>\n",
       "      <td>2.54718</td>\n",
       "      <td>2.59439</td>\n",
       "      <td>0</td>\n",
       "    </tr>\n",
       "    <tr>\n",
       "      <th>3</th>\n",
       "      <td>2015-01-31 15:31:11</td>\n",
       "      <td>Hannover</td>\n",
       "      <td>Schalke</td>\n",
       "      <td>0</td>\n",
       "      <td>1</td>\n",
       "      <td>3.88638</td>\n",
       "      <td>3.81712</td>\n",
       "      <td>2.07487</td>\n",
       "      <td>1.82383</td>\n",
       "      <td>0</td>\n",
       "    </tr>\n",
       "    <tr>\n",
       "      <th>4</th>\n",
       "      <td>2015-01-31 15:31:21</td>\n",
       "      <td>Paderborn</td>\n",
       "      <td>Mainz</td>\n",
       "      <td>0</td>\n",
       "      <td>5</td>\n",
       "      <td>4.25880</td>\n",
       "      <td>3.76686</td>\n",
       "      <td>2.00676</td>\n",
       "      <td>1.87892</td>\n",
       "      <td>0</td>\n",
       "    </tr>\n",
       "  </tbody>\n",
       "</table>\n",
       "</div>"
      ],
      "text/plain": [
       "            eventBegin      team1      team2 score1 score2  RefOdd1  RefOddX  \\\n",
       "0  2015-01-30 20:35:32    München  Wolfsburg      1      4  1.51180  4.85413   \n",
       "1  2015-01-31 15:30:19  Frankfurt   Freiburg      1      4  2.42760  3.94175   \n",
       "2  2015-01-31 15:30:56       Köln  Hamburger      2      0  3.26786  3.33901   \n",
       "3  2015-01-31 15:31:11   Hannover    Schalke      0      1  3.88638  3.81712   \n",
       "4  2015-01-31 15:31:21  Paderborn      Mainz      0      5  4.25880  3.76686   \n",
       "\n",
       "   RefOdd2  RefOddOver  home  \n",
       "0  7.49272     1.69718     0  \n",
       "1  2.97516     1.70712     0  \n",
       "2  2.54718     2.59439     0  \n",
       "3  2.07487     1.82383     0  \n",
       "4  2.00676     1.87892     0  "
      ]
     },
     "execution_count": 88,
     "metadata": {},
     "output_type": "execute_result"
    }
   ],
   "source": [
    "train_alt.head()"
   ]
  },
  {
   "cell_type": "code",
   "execution_count": 89,
   "id": "58e5b0b8",
   "metadata": {},
   "outputs": [],
   "source": [
    "#rename columns\n",
    "train_alt.columns = train.columns\n",
    "test_alt.columns = test.columns"
   ]
  },
  {
   "cell_type": "code",
   "execution_count": 109,
   "id": "5790f521",
   "metadata": {},
   "outputs": [],
   "source": [
    "#combine the two dfs each with concat and then sort by index and home (make index explicit)\n",
    "train_compl = pd.concat([train, train_alt], axis = 0)\n",
    "test_compl = pd.concat([test, test_alt], axis = 0)"
   ]
  },
  {
   "cell_type": "code",
   "execution_count": null,
   "id": "6cfc9a19",
   "metadata": {},
   "outputs": [],
   "source": []
  },
  {
   "cell_type": "code",
   "execution_count": 110,
   "id": "0c8d3293",
   "metadata": {},
   "outputs": [],
   "source": [
    "#reset index\n",
    "train_compl = train_compl.reset_index()"
   ]
  },
  {
   "cell_type": "code",
   "execution_count": 111,
   "id": "6192c4ab",
   "metadata": {},
   "outputs": [],
   "source": [
    "#sort\n",
    "train_compl = train_compl.sort_values(by=[\"index\", \"home\"], ascending=[True, False])\n",
    "#drop old index column\n",
    "train_compl = train_compl.drop(columns= \"index\")\n",
    "#reset index again (no new column)\n",
    "train_compl = train_compl.reset_index(drop=True)"
   ]
  },
  {
   "cell_type": "code",
   "execution_count": 113,
   "id": "a999adbc",
   "metadata": {},
   "outputs": [],
   "source": [
    "#repeat for test df\n",
    "test_compl = test_compl.reset_index()\n",
    "test_compl = test_compl.sort_values(by=[\"index\", \"home\"], ascending=[True, False])\n",
    "test_compl = test_compl.drop(columns=\"index\")\n",
    "test_compl = test_compl.reset_index(drop=True)"
   ]
  },
  {
   "cell_type": "markdown",
   "id": "e007880b",
   "metadata": {},
   "source": [
    "**One last glance and overview over dfs**"
   ]
  },
  {
   "cell_type": "code",
   "execution_count": 127,
   "id": "2981344c",
   "metadata": {},
   "outputs": [],
   "source": [
    "#the team names are only the city names and not the \"proper\" club names - let's replace them\n",
    "\n",
    "#make a dictionary from the raw_names and the proper names\n",
    "\n",
    "#keys\n",
    "raw_names = train_compl.team1.unique()\n",
    "#values\n",
    "proper_names = [\"VfL Wolfsburg\", \"Bayern München\", \"SC Freiburg\", \"Eintracht Frankfurt\", \"Hamburger SV\", \"1.FC Köln\",\n",
    "             \"Schalke 04\", \"Hannover 96\", \"Mainz 05\", \"Paderborn SC\", \"VfB Stuttgart\", \"Borussia M'gladbach\",\n",
    "             \"Bayer Leverkusen\", \"Borussia Dortmund\", \"Werder Bremen\", \"Hertha BSC\", \"FC Augsburg\", \"TSG Hoffenheim\", \n",
    "             \"Karlsruher SC\", \"FC Ingolstadt\", \"SV Darmstadt\", \"FC Nürnberg\", \"RB Leipzig\", \"Eintracht Braunschweig\",\n",
    "             \"Holstein Kiel\", \"Fortuna Düsseldorf\", \"Union Berlin\"]"
   ]
  },
  {
   "cell_type": "code",
   "execution_count": 128,
   "id": "948b25fd",
   "metadata": {},
   "outputs": [],
   "source": [
    "#set up dict\n",
    "team_dict = {}\n",
    "for i in range(len(raw_names)):\n",
    "    team_dict[raw_names[i]] = proper_names[i]"
   ]
  },
  {
   "cell_type": "code",
   "execution_count": 130,
   "id": "b4d436c0",
   "metadata": {},
   "outputs": [],
   "source": [
    "#replace\n",
    "train_compl = train_compl.replace({\"team1\": team_dict, \"team2\": team_dict})\n",
    "test_compl = test_compl.replace({\"team1\": team_dict, \"team2\": team_dict})"
   ]
  },
  {
   "cell_type": "code",
   "execution_count": 120,
   "id": "93d78d84",
   "metadata": {},
   "outputs": [
    {
     "name": "stdout",
     "output_type": "stream",
     "text": [
      "<class 'pandas.core.frame.DataFrame'>\n",
      "Int64Index: 2928 entries, 0 to 2929\n",
      "Data columns (total 10 columns):\n",
      " #   Column      Non-Null Count  Dtype  \n",
      "---  ------      --------------  -----  \n",
      " 0   eventBegin  2928 non-null   object \n",
      " 1   team1       2928 non-null   object \n",
      " 2   team2       2928 non-null   object \n",
      " 3   score1      2928 non-null   object \n",
      " 4   score2      2928 non-null   object \n",
      " 5   RefOdd1     2902 non-null   float64\n",
      " 6   RefOddX     2902 non-null   float64\n",
      " 7   RefOdd2     2902 non-null   float64\n",
      " 8   RefOddOver  2902 non-null   float64\n",
      " 9   home        2928 non-null   int64  \n",
      "dtypes: float64(4), int64(1), object(5)\n",
      "memory usage: 251.6+ KB\n"
     ]
    }
   ],
   "source": [
    "train_compl.info()"
   ]
  },
  {
   "cell_type": "code",
   "execution_count": 119,
   "id": "a3c2eb2c",
   "metadata": {},
   "outputs": [],
   "source": [
    "#two missing rows for score - drop these\n",
    "train_compl = train_compl.loc[~train_compl[\"score1\"].isna(), ]"
   ]
  },
  {
   "cell_type": "code",
   "execution_count": 124,
   "id": "5da4fed7",
   "metadata": {},
   "outputs": [
    {
     "name": "stdout",
     "output_type": "stream",
     "text": [
      "<class 'pandas.core.frame.DataFrame'>\n",
      "RangeIndex: 18 entries, 0 to 17\n",
      "Data columns (total 10 columns):\n",
      " #   Column      Non-Null Count  Dtype  \n",
      "---  ------      --------------  -----  \n",
      " 0   eventBegin  18 non-null     object \n",
      " 1   team1       18 non-null     object \n",
      " 2   team2       18 non-null     object \n",
      " 3   score1      0 non-null      object \n",
      " 4   score2      0 non-null      object \n",
      " 5   RefOdd1     0 non-null      float64\n",
      " 6   RefOddX     0 non-null      float64\n",
      " 7   RefOdd2     0 non-null      float64\n",
      " 8   RefOddOver  0 non-null      object \n",
      " 9   home        18 non-null     int64  \n",
      "dtypes: float64(3), int64(1), object(6)\n",
      "memory usage: 1.5+ KB\n"
     ]
    }
   ],
   "source": [
    "#test df\n",
    "test_compl.info()"
   ]
  },
  {
   "cell_type": "code",
   "execution_count": 123,
   "id": "feb787fe",
   "metadata": {},
   "outputs": [],
   "source": [
    "#test dfs RefOddOver is actually treated as a character column\n",
    "test_compl[\"RefOddOver\"] = None"
   ]
  },
  {
   "cell_type": "markdown",
   "id": "15ac56da",
   "metadata": {},
   "source": [
    "**Final cleaned up and reformatted dataframe of the train data**"
   ]
  },
  {
   "cell_type": "code",
   "execution_count": 132,
   "id": "033aea18",
   "metadata": {},
   "outputs": [
    {
     "data": {
      "text/html": [
       "<div>\n",
       "<style scoped>\n",
       "    .dataframe tbody tr th:only-of-type {\n",
       "        vertical-align: middle;\n",
       "    }\n",
       "\n",
       "    .dataframe tbody tr th {\n",
       "        vertical-align: top;\n",
       "    }\n",
       "\n",
       "    .dataframe thead th {\n",
       "        text-align: right;\n",
       "    }\n",
       "</style>\n",
       "<table border=\"1\" class=\"dataframe\">\n",
       "  <thead>\n",
       "    <tr style=\"text-align: right;\">\n",
       "      <th></th>\n",
       "      <th>eventBegin</th>\n",
       "      <th>team1</th>\n",
       "      <th>team2</th>\n",
       "      <th>score1</th>\n",
       "      <th>score2</th>\n",
       "      <th>RefOdd1</th>\n",
       "      <th>RefOddX</th>\n",
       "      <th>RefOdd2</th>\n",
       "      <th>RefOddOver</th>\n",
       "      <th>home</th>\n",
       "    </tr>\n",
       "  </thead>\n",
       "  <tbody>\n",
       "    <tr>\n",
       "      <th>0</th>\n",
       "      <td>2015-01-30 20:35:32</td>\n",
       "      <td>VfL Wolfsburg</td>\n",
       "      <td>Bayern München</td>\n",
       "      <td>4</td>\n",
       "      <td>1</td>\n",
       "      <td>7.49272</td>\n",
       "      <td>4.85413</td>\n",
       "      <td>1.51180</td>\n",
       "      <td>1.69718</td>\n",
       "      <td>1</td>\n",
       "    </tr>\n",
       "    <tr>\n",
       "      <th>1</th>\n",
       "      <td>2015-01-30 20:35:32</td>\n",
       "      <td>Bayern München</td>\n",
       "      <td>VfL Wolfsburg</td>\n",
       "      <td>1</td>\n",
       "      <td>4</td>\n",
       "      <td>1.51180</td>\n",
       "      <td>4.85413</td>\n",
       "      <td>7.49272</td>\n",
       "      <td>1.69718</td>\n",
       "      <td>0</td>\n",
       "    </tr>\n",
       "    <tr>\n",
       "      <th>2</th>\n",
       "      <td>2015-01-31 15:30:19</td>\n",
       "      <td>SC Freiburg</td>\n",
       "      <td>Eintracht Frankfurt</td>\n",
       "      <td>4</td>\n",
       "      <td>1</td>\n",
       "      <td>2.97516</td>\n",
       "      <td>3.94175</td>\n",
       "      <td>2.42760</td>\n",
       "      <td>1.70712</td>\n",
       "      <td>1</td>\n",
       "    </tr>\n",
       "    <tr>\n",
       "      <th>3</th>\n",
       "      <td>2015-01-31 15:30:19</td>\n",
       "      <td>Eintracht Frankfurt</td>\n",
       "      <td>SC Freiburg</td>\n",
       "      <td>1</td>\n",
       "      <td>4</td>\n",
       "      <td>2.42760</td>\n",
       "      <td>3.94175</td>\n",
       "      <td>2.97516</td>\n",
       "      <td>1.70712</td>\n",
       "      <td>0</td>\n",
       "    </tr>\n",
       "    <tr>\n",
       "      <th>4</th>\n",
       "      <td>2015-01-31 15:30:56</td>\n",
       "      <td>Hamburger SV</td>\n",
       "      <td>1.FC Köln</td>\n",
       "      <td>0</td>\n",
       "      <td>2</td>\n",
       "      <td>2.54718</td>\n",
       "      <td>3.33901</td>\n",
       "      <td>3.26786</td>\n",
       "      <td>2.59439</td>\n",
       "      <td>1</td>\n",
       "    </tr>\n",
       "  </tbody>\n",
       "</table>\n",
       "</div>"
      ],
      "text/plain": [
       "            eventBegin                team1                team2 score1  \\\n",
       "0  2015-01-30 20:35:32        VfL Wolfsburg       Bayern München      4   \n",
       "1  2015-01-30 20:35:32       Bayern München        VfL Wolfsburg      1   \n",
       "2  2015-01-31 15:30:19          SC Freiburg  Eintracht Frankfurt      4   \n",
       "3  2015-01-31 15:30:19  Eintracht Frankfurt          SC Freiburg      1   \n",
       "4  2015-01-31 15:30:56         Hamburger SV            1.FC Köln      0   \n",
       "\n",
       "  score2  RefOdd1  RefOddX  RefOdd2  RefOddOver  home  \n",
       "0      1  7.49272  4.85413  1.51180     1.69718     1  \n",
       "1      4  1.51180  4.85413  7.49272     1.69718     0  \n",
       "2      1  2.97516  3.94175  2.42760     1.70712     1  \n",
       "3      4  2.42760  3.94175  2.97516     1.70712     0  \n",
       "4      2  2.54718  3.33901  3.26786     2.59439     1  "
      ]
     },
     "execution_count": 132,
     "metadata": {},
     "output_type": "execute_result"
    }
   ],
   "source": [
    "train_compl.head()"
   ]
  },
  {
   "cell_type": "markdown",
   "id": "f9c9f8ee",
   "metadata": {},
   "source": [
    "# Model selection"
   ]
  },
  {
   "cell_type": "markdown",
   "id": "5f150daf",
   "metadata": {},
   "source": [
    "We are dealing with a multi-class classification problem, as there are three possible outcomes: home win, draw, away win.\n",
    "Since the only data we have available in the test data (the upcoming match day) are the teams involved in the matches we will need to rely on the past outcomes of those teams to predict the outcomes/the outcome probabilities.\n",
    "\n",
    "I would suggest using Gradient Boosting as a modelling algorithm - an ensemble method combining multiple decision trees. It handles multi class classification well and typically outperforms for example random forests."
   ]
  },
  {
   "cell_type": "markdown",
   "id": "331372e5",
   "metadata": {},
   "source": [
    "# Fitting a model"
   ]
  },
  {
   "cell_type": "markdown",
   "id": "98bbc6d8",
   "metadata": {},
   "source": [
    "**1 - prepping the data for fitting**"
   ]
  },
  {
   "cell_type": "code",
   "execution_count": 133,
   "id": "606404cf",
   "metadata": {},
   "outputs": [],
   "source": [
    "# first step: create an outcome variable by comparing the scores \n",
    "def match_result(row):\n",
    "    if row[\"score1\"] == row[\"score2\"]:\n",
    "            return \"draw\"\n",
    "    \n",
    "    elif row[\"home\"] == 1:\n",
    "    \n",
    "        if row[\"score1\"] > row[\"score2\"]:\n",
    "            return \"home\"\n",
    "    \n",
    "        elif row[\"score1\"] < row[\"score2\"]:\n",
    "            return \"away\"\n",
    "    \n",
    "    elif row[\"home\"] == 0:\n",
    "        \n",
    "        if row[\"score1\"] < row[\"score2\"]:\n",
    "            return \"home\"\n",
    "        \n",
    "        elif row[\"score1\"] > row[\"score2\"]:\n",
    "            return \"away\""
   ]
  },
  {
   "cell_type": "code",
   "execution_count": 134,
   "id": "5e9b267e",
   "metadata": {},
   "outputs": [],
   "source": [
    "train_compl[\"result\"] = train_compl.apply(lambda row: match_result(row), axis = 1)"
   ]
  },
  {
   "cell_type": "code",
   "execution_count": 135,
   "id": "cfc246d5",
   "metadata": {},
   "outputs": [
    {
     "data": {
      "text/html": [
       "<div>\n",
       "<style scoped>\n",
       "    .dataframe tbody tr th:only-of-type {\n",
       "        vertical-align: middle;\n",
       "    }\n",
       "\n",
       "    .dataframe tbody tr th {\n",
       "        vertical-align: top;\n",
       "    }\n",
       "\n",
       "    .dataframe thead th {\n",
       "        text-align: right;\n",
       "    }\n",
       "</style>\n",
       "<table border=\"1\" class=\"dataframe\">\n",
       "  <thead>\n",
       "    <tr style=\"text-align: right;\">\n",
       "      <th></th>\n",
       "      <th>eventBegin</th>\n",
       "      <th>team1</th>\n",
       "      <th>team2</th>\n",
       "      <th>score1</th>\n",
       "      <th>score2</th>\n",
       "      <th>RefOdd1</th>\n",
       "      <th>RefOddX</th>\n",
       "      <th>RefOdd2</th>\n",
       "      <th>RefOddOver</th>\n",
       "      <th>home</th>\n",
       "      <th>result</th>\n",
       "    </tr>\n",
       "  </thead>\n",
       "  <tbody>\n",
       "    <tr>\n",
       "      <th>0</th>\n",
       "      <td>2015-01-30 20:35:32</td>\n",
       "      <td>VfL Wolfsburg</td>\n",
       "      <td>Bayern München</td>\n",
       "      <td>4</td>\n",
       "      <td>1</td>\n",
       "      <td>7.49272</td>\n",
       "      <td>4.85413</td>\n",
       "      <td>1.51180</td>\n",
       "      <td>1.69718</td>\n",
       "      <td>1</td>\n",
       "      <td>home</td>\n",
       "    </tr>\n",
       "    <tr>\n",
       "      <th>1</th>\n",
       "      <td>2015-01-30 20:35:32</td>\n",
       "      <td>Bayern München</td>\n",
       "      <td>VfL Wolfsburg</td>\n",
       "      <td>1</td>\n",
       "      <td>4</td>\n",
       "      <td>1.51180</td>\n",
       "      <td>4.85413</td>\n",
       "      <td>7.49272</td>\n",
       "      <td>1.69718</td>\n",
       "      <td>0</td>\n",
       "      <td>home</td>\n",
       "    </tr>\n",
       "    <tr>\n",
       "      <th>2</th>\n",
       "      <td>2015-01-31 15:30:19</td>\n",
       "      <td>SC Freiburg</td>\n",
       "      <td>Eintracht Frankfurt</td>\n",
       "      <td>4</td>\n",
       "      <td>1</td>\n",
       "      <td>2.97516</td>\n",
       "      <td>3.94175</td>\n",
       "      <td>2.42760</td>\n",
       "      <td>1.70712</td>\n",
       "      <td>1</td>\n",
       "      <td>home</td>\n",
       "    </tr>\n",
       "    <tr>\n",
       "      <th>3</th>\n",
       "      <td>2015-01-31 15:30:19</td>\n",
       "      <td>Eintracht Frankfurt</td>\n",
       "      <td>SC Freiburg</td>\n",
       "      <td>1</td>\n",
       "      <td>4</td>\n",
       "      <td>2.42760</td>\n",
       "      <td>3.94175</td>\n",
       "      <td>2.97516</td>\n",
       "      <td>1.70712</td>\n",
       "      <td>0</td>\n",
       "      <td>home</td>\n",
       "    </tr>\n",
       "    <tr>\n",
       "      <th>4</th>\n",
       "      <td>2015-01-31 15:30:56</td>\n",
       "      <td>Hamburger SV</td>\n",
       "      <td>1.FC Köln</td>\n",
       "      <td>0</td>\n",
       "      <td>2</td>\n",
       "      <td>2.54718</td>\n",
       "      <td>3.33901</td>\n",
       "      <td>3.26786</td>\n",
       "      <td>2.59439</td>\n",
       "      <td>1</td>\n",
       "      <td>away</td>\n",
       "    </tr>\n",
       "  </tbody>\n",
       "</table>\n",
       "</div>"
      ],
      "text/plain": [
       "            eventBegin                team1                team2 score1  \\\n",
       "0  2015-01-30 20:35:32        VfL Wolfsburg       Bayern München      4   \n",
       "1  2015-01-30 20:35:32       Bayern München        VfL Wolfsburg      1   \n",
       "2  2015-01-31 15:30:19          SC Freiburg  Eintracht Frankfurt      4   \n",
       "3  2015-01-31 15:30:19  Eintracht Frankfurt          SC Freiburg      1   \n",
       "4  2015-01-31 15:30:56         Hamburger SV            1.FC Köln      0   \n",
       "\n",
       "  score2  RefOdd1  RefOddX  RefOdd2  RefOddOver  home result  \n",
       "0      1  7.49272  4.85413  1.51180     1.69718     1   home  \n",
       "1      4  1.51180  4.85413  7.49272     1.69718     0   home  \n",
       "2      1  2.97516  3.94175  2.42760     1.70712     1   home  \n",
       "3      4  2.42760  3.94175  2.97516     1.70712     0   home  \n",
       "4      2  2.54718  3.33901  3.26786     2.59439     1   away  "
      ]
     },
     "execution_count": 135,
     "metadata": {},
     "output_type": "execute_result"
    }
   ],
   "source": [
    "train_compl.head()"
   ]
  },
  {
   "cell_type": "markdown",
   "id": "1c31b1f3",
   "metadata": {},
   "source": [
    "**For fitting I will only use the home == 1 rows but then use both team1 and team2 as features for the model**"
   ]
  },
  {
   "cell_type": "code",
   "execution_count": null,
   "id": "73053aaf",
   "metadata": {},
   "outputs": [],
   "source": [
    "from sklearn.preprocessing import OneHotEncoder\n",
    "from sklearn.preprocessing import LabelEncoder"
   ]
  },
  {
   "cell_type": "code",
   "execution_count": 143,
   "id": "d13c00e1",
   "metadata": {},
   "outputs": [],
   "source": [
    "#prepare the columns for encoding\n",
    "X_train = np.array(train_compl.loc[train_compl.home == 1, [\"team1\", \"team2\"]])"
   ]
  },
  {
   "cell_type": "code",
   "execution_count": 144,
   "id": "628647a7",
   "metadata": {},
   "outputs": [],
   "source": [
    "#set up an encoder instance\n",
    "ohe = OneHotEncoder(sparse_output=False)"
   ]
  },
  {
   "cell_type": "code",
   "execution_count": 145,
   "id": "5de2a639",
   "metadata": {},
   "outputs": [],
   "source": [
    "#fit and transform the feature variables\n",
    "X_train = ohe.fit_transform(X_train)"
   ]
  },
  {
   "cell_type": "code",
   "execution_count": 172,
   "id": "41ebce38",
   "metadata": {},
   "outputs": [],
   "source": [
    "#now apply same encoding to X_test\n",
    "X_test = np.array(test_compl.loc[test_compl.home == 1, [\"team1\", \"team2\"]])"
   ]
  },
  {
   "cell_type": "code",
   "execution_count": 173,
   "id": "3730732c",
   "metadata": {},
   "outputs": [],
   "source": [
    "X_test = ohe.transform(X_test)"
   ]
  },
  {
   "cell_type": "code",
   "execution_count": null,
   "id": "88b164f1",
   "metadata": {},
   "outputs": [],
   "source": [
    "# Label Encode the outcome variable"
   ]
  },
  {
   "cell_type": "code",
   "execution_count": 149,
   "id": "13987351",
   "metadata": {},
   "outputs": [],
   "source": [
    "#encoder instance\n",
    "lab_enc = LabelEncoder()"
   ]
  },
  {
   "cell_type": "code",
   "execution_count": 169,
   "id": "6e8b2e07",
   "metadata": {},
   "outputs": [],
   "source": [
    "y_train = np.array(train_compl.loc[train_compl.home == 1, \"result\"])"
   ]
  },
  {
   "cell_type": "code",
   "execution_count": 170,
   "id": "b6b63c69",
   "metadata": {},
   "outputs": [],
   "source": [
    "y_train = lab_enc.fit_transform(y_train)"
   ]
  },
  {
   "cell_type": "code",
   "execution_count": null,
   "id": "c2e1b2ff",
   "metadata": {},
   "outputs": [],
   "source": []
  },
  {
   "cell_type": "markdown",
   "id": "7eb1b2a8",
   "metadata": {},
   "source": [
    "**2 - Fitting the model**"
   ]
  },
  {
   "cell_type": "code",
   "execution_count": 155,
   "id": "8f7783a5",
   "metadata": {},
   "outputs": [],
   "source": [
    "from sklearn.ensemble import GradientBoostingClassifier"
   ]
  },
  {
   "cell_type": "code",
   "execution_count": 156,
   "id": "a27cdee1",
   "metadata": {},
   "outputs": [],
   "source": [
    "#set up model instance with default hyperparameters\n",
    "mod = GradientBoostingClassifier()"
   ]
  },
  {
   "cell_type": "code",
   "execution_count": 171,
   "id": "ad5cfb62",
   "metadata": {},
   "outputs": [
    {
     "data": {
      "text/html": [
       "<style>#sk-container-id-2 {color: black;background-color: white;}#sk-container-id-2 pre{padding: 0;}#sk-container-id-2 div.sk-toggleable {background-color: white;}#sk-container-id-2 label.sk-toggleable__label {cursor: pointer;display: block;width: 100%;margin-bottom: 0;padding: 0.3em;box-sizing: border-box;text-align: center;}#sk-container-id-2 label.sk-toggleable__label-arrow:before {content: \"▸\";float: left;margin-right: 0.25em;color: #696969;}#sk-container-id-2 label.sk-toggleable__label-arrow:hover:before {color: black;}#sk-container-id-2 div.sk-estimator:hover label.sk-toggleable__label-arrow:before {color: black;}#sk-container-id-2 div.sk-toggleable__content {max-height: 0;max-width: 0;overflow: hidden;text-align: left;background-color: #f0f8ff;}#sk-container-id-2 div.sk-toggleable__content pre {margin: 0.2em;color: black;border-radius: 0.25em;background-color: #f0f8ff;}#sk-container-id-2 input.sk-toggleable__control:checked~div.sk-toggleable__content {max-height: 200px;max-width: 100%;overflow: auto;}#sk-container-id-2 input.sk-toggleable__control:checked~label.sk-toggleable__label-arrow:before {content: \"▾\";}#sk-container-id-2 div.sk-estimator input.sk-toggleable__control:checked~label.sk-toggleable__label {background-color: #d4ebff;}#sk-container-id-2 div.sk-label input.sk-toggleable__control:checked~label.sk-toggleable__label {background-color: #d4ebff;}#sk-container-id-2 input.sk-hidden--visually {border: 0;clip: rect(1px 1px 1px 1px);clip: rect(1px, 1px, 1px, 1px);height: 1px;margin: -1px;overflow: hidden;padding: 0;position: absolute;width: 1px;}#sk-container-id-2 div.sk-estimator {font-family: monospace;background-color: #f0f8ff;border: 1px dotted black;border-radius: 0.25em;box-sizing: border-box;margin-bottom: 0.5em;}#sk-container-id-2 div.sk-estimator:hover {background-color: #d4ebff;}#sk-container-id-2 div.sk-parallel-item::after {content: \"\";width: 100%;border-bottom: 1px solid gray;flex-grow: 1;}#sk-container-id-2 div.sk-label:hover label.sk-toggleable__label {background-color: #d4ebff;}#sk-container-id-2 div.sk-serial::before {content: \"\";position: absolute;border-left: 1px solid gray;box-sizing: border-box;top: 0;bottom: 0;left: 50%;z-index: 0;}#sk-container-id-2 div.sk-serial {display: flex;flex-direction: column;align-items: center;background-color: white;padding-right: 0.2em;padding-left: 0.2em;position: relative;}#sk-container-id-2 div.sk-item {position: relative;z-index: 1;}#sk-container-id-2 div.sk-parallel {display: flex;align-items: stretch;justify-content: center;background-color: white;position: relative;}#sk-container-id-2 div.sk-item::before, #sk-container-id-2 div.sk-parallel-item::before {content: \"\";position: absolute;border-left: 1px solid gray;box-sizing: border-box;top: 0;bottom: 0;left: 50%;z-index: -1;}#sk-container-id-2 div.sk-parallel-item {display: flex;flex-direction: column;z-index: 1;position: relative;background-color: white;}#sk-container-id-2 div.sk-parallel-item:first-child::after {align-self: flex-end;width: 50%;}#sk-container-id-2 div.sk-parallel-item:last-child::after {align-self: flex-start;width: 50%;}#sk-container-id-2 div.sk-parallel-item:only-child::after {width: 0;}#sk-container-id-2 div.sk-dashed-wrapped {border: 1px dashed gray;margin: 0 0.4em 0.5em 0.4em;box-sizing: border-box;padding-bottom: 0.4em;background-color: white;}#sk-container-id-2 div.sk-label label {font-family: monospace;font-weight: bold;display: inline-block;line-height: 1.2em;}#sk-container-id-2 div.sk-label-container {text-align: center;}#sk-container-id-2 div.sk-container {/* jupyter's `normalize.less` sets `[hidden] { display: none; }` but bootstrap.min.css set `[hidden] { display: none !important; }` so we also need the `!important` here to be able to override the default hidden behavior on the sphinx rendered scikit-learn.org. See: https://github.com/scikit-learn/scikit-learn/issues/21755 */display: inline-block !important;position: relative;}#sk-container-id-2 div.sk-text-repr-fallback {display: none;}</style><div id=\"sk-container-id-2\" class=\"sk-top-container\"><div class=\"sk-text-repr-fallback\"><pre>GradientBoostingClassifier()</pre><b>In a Jupyter environment, please rerun this cell to show the HTML representation or trust the notebook. <br />On GitHub, the HTML representation is unable to render, please try loading this page with nbviewer.org.</b></div><div class=\"sk-container\" hidden><div class=\"sk-item\"><div class=\"sk-estimator sk-toggleable\"><input class=\"sk-toggleable__control sk-hidden--visually\" id=\"sk-estimator-id-2\" type=\"checkbox\" checked><label for=\"sk-estimator-id-2\" class=\"sk-toggleable__label sk-toggleable__label-arrow\">GradientBoostingClassifier</label><div class=\"sk-toggleable__content\"><pre>GradientBoostingClassifier()</pre></div></div></div></div></div>"
      ],
      "text/plain": [
       "GradientBoostingClassifier()"
      ]
     },
     "execution_count": 171,
     "metadata": {},
     "output_type": "execute_result"
    }
   ],
   "source": [
    "#and fit the model\n",
    "mod.fit(X_train, y_train)"
   ]
  },
  {
   "cell_type": "markdown",
   "id": "a15a4368",
   "metadata": {},
   "source": [
    "**3 - Predict probabilities for X_test**"
   ]
  },
  {
   "cell_type": "code",
   "execution_count": 176,
   "id": "91637cec",
   "metadata": {},
   "outputs": [],
   "source": [
    "#predict \n",
    "probs_predicted = mod.predict_proba(X_test)"
   ]
  },
  {
   "cell_type": "code",
   "execution_count": 188,
   "id": "c7be162e",
   "metadata": {
    "scrolled": true
   },
   "outputs": [
    {
     "data": {
      "text/plain": [
       "array([[0.46877033, 0.29141752, 0.23981215],\n",
       "       [0.41082921, 0.22077229, 0.3683985 ],\n",
       "       [0.11879092, 0.16074306, 0.72046603],\n",
       "       [0.54808491, 0.40684763, 0.04506746],\n",
       "       [0.41058378, 0.35616195, 0.23325427],\n",
       "       [0.26096237, 0.33457843, 0.4044592 ],\n",
       "       [0.46031006, 0.25442209, 0.28526786],\n",
       "       [0.43622631, 0.31595179, 0.2478219 ],\n",
       "       [0.64988602, 0.12259908, 0.2275149 ]])"
      ]
     },
     "execution_count": 188,
     "metadata": {},
     "output_type": "execute_result"
    }
   ],
   "source": [
    "probs_predicted"
   ]
  },
  {
   "cell_type": "code",
   "execution_count": 178,
   "id": "bf94daec",
   "metadata": {},
   "outputs": [],
   "source": [
    "#rearrange columns in array from [away, draw, home] to [home, draw, away] like in the dataframes\n",
    "probs_predicted = probs_predicted[:, [2,1,0]]"
   ]
  },
  {
   "cell_type": "code",
   "execution_count": 186,
   "id": "990d2f42",
   "metadata": {},
   "outputs": [],
   "source": [
    "#fill in the missing odds in test df\n",
    "test_compl.loc[test_compl.home==1, [\"RefOdd1\", \"RefOddX\", \"RefOdd2\"]] = 1/probs_predicted\n",
    "#switched order for home == 0\n",
    "test_compl.loc[test_compl.home==0, [\"RefOdd1\", \"RefOddX\", \"RefOdd2\"]] = 1/probs_predicted[:, [2,1,0]]"
   ]
  },
  {
   "cell_type": "markdown",
   "id": "75163266",
   "metadata": {},
   "source": [
    "**Predicted (inverted) probabilities in the test dataframe**"
   ]
  },
  {
   "cell_type": "code",
   "execution_count": 189,
   "id": "479b5b86",
   "metadata": {},
   "outputs": [
    {
     "data": {
      "text/html": [
       "<div>\n",
       "<style scoped>\n",
       "    .dataframe tbody tr th:only-of-type {\n",
       "        vertical-align: middle;\n",
       "    }\n",
       "\n",
       "    .dataframe tbody tr th {\n",
       "        vertical-align: top;\n",
       "    }\n",
       "\n",
       "    .dataframe thead th {\n",
       "        text-align: right;\n",
       "    }\n",
       "</style>\n",
       "<table border=\"1\" class=\"dataframe\">\n",
       "  <thead>\n",
       "    <tr style=\"text-align: right;\">\n",
       "      <th></th>\n",
       "      <th>eventBegin</th>\n",
       "      <th>team1</th>\n",
       "      <th>team2</th>\n",
       "      <th>score1</th>\n",
       "      <th>score2</th>\n",
       "      <th>RefOdd1</th>\n",
       "      <th>RefOddX</th>\n",
       "      <th>RefOdd2</th>\n",
       "      <th>RefOddOver</th>\n",
       "      <th>home</th>\n",
       "    </tr>\n",
       "  </thead>\n",
       "  <tbody>\n",
       "    <tr>\n",
       "      <th>0</th>\n",
       "      <td>2019-10-25 20:30:06</td>\n",
       "      <td>Mainz 05</td>\n",
       "      <td>1.FC Köln</td>\n",
       "      <td>None</td>\n",
       "      <td>None</td>\n",
       "      <td>2.133241</td>\n",
       "      <td>3.431503</td>\n",
       "      <td>4.169931</td>\n",
       "      <td>None</td>\n",
       "      <td>1</td>\n",
       "    </tr>\n",
       "    <tr>\n",
       "      <th>1</th>\n",
       "      <td>2019-10-25 20:30:06</td>\n",
       "      <td>1.FC Köln</td>\n",
       "      <td>Mainz 05</td>\n",
       "      <td>None</td>\n",
       "      <td>None</td>\n",
       "      <td>4.169931</td>\n",
       "      <td>3.431503</td>\n",
       "      <td>2.133241</td>\n",
       "      <td>None</td>\n",
       "      <td>0</td>\n",
       "    </tr>\n",
       "    <tr>\n",
       "      <th>2</th>\n",
       "      <td>2019-10-26 15:30:00</td>\n",
       "      <td>SC Freiburg</td>\n",
       "      <td>RB Leipzig</td>\n",
       "      <td>None</td>\n",
       "      <td>None</td>\n",
       "      <td>2.434101</td>\n",
       "      <td>4.529554</td>\n",
       "      <td>2.714452</td>\n",
       "      <td>None</td>\n",
       "      <td>1</td>\n",
       "    </tr>\n",
       "    <tr>\n",
       "      <th>3</th>\n",
       "      <td>2019-10-26 15:30:00</td>\n",
       "      <td>RB Leipzig</td>\n",
       "      <td>SC Freiburg</td>\n",
       "      <td>None</td>\n",
       "      <td>None</td>\n",
       "      <td>2.714452</td>\n",
       "      <td>4.529554</td>\n",
       "      <td>2.434101</td>\n",
       "      <td>None</td>\n",
       "      <td>0</td>\n",
       "    </tr>\n",
       "    <tr>\n",
       "      <th>4</th>\n",
       "      <td>2019-10-26 15:30:35</td>\n",
       "      <td>Paderborn SC</td>\n",
       "      <td>Fortuna Düsseldorf</td>\n",
       "      <td>None</td>\n",
       "      <td>None</td>\n",
       "      <td>8.418152</td>\n",
       "      <td>6.221109</td>\n",
       "      <td>1.387990</td>\n",
       "      <td>None</td>\n",
       "      <td>1</td>\n",
       "    </tr>\n",
       "    <tr>\n",
       "      <th>5</th>\n",
       "      <td>2019-10-26 15:30:35</td>\n",
       "      <td>Fortuna Düsseldorf</td>\n",
       "      <td>Paderborn SC</td>\n",
       "      <td>None</td>\n",
       "      <td>None</td>\n",
       "      <td>1.387990</td>\n",
       "      <td>6.221109</td>\n",
       "      <td>8.418152</td>\n",
       "      <td>None</td>\n",
       "      <td>0</td>\n",
       "    </tr>\n",
       "    <tr>\n",
       "      <th>6</th>\n",
       "      <td>2019-10-26 15:30:42</td>\n",
       "      <td>Bayern München</td>\n",
       "      <td>Union Berlin</td>\n",
       "      <td>None</td>\n",
       "      <td>None</td>\n",
       "      <td>1.824535</td>\n",
       "      <td>2.457923</td>\n",
       "      <td>22.188957</td>\n",
       "      <td>None</td>\n",
       "      <td>1</td>\n",
       "    </tr>\n",
       "    <tr>\n",
       "      <th>7</th>\n",
       "      <td>2019-10-26 15:30:42</td>\n",
       "      <td>Union Berlin</td>\n",
       "      <td>Bayern München</td>\n",
       "      <td>None</td>\n",
       "      <td>None</td>\n",
       "      <td>22.188957</td>\n",
       "      <td>2.457923</td>\n",
       "      <td>1.824535</td>\n",
       "      <td>None</td>\n",
       "      <td>0</td>\n",
       "    </tr>\n",
       "    <tr>\n",
       "      <th>8</th>\n",
       "      <td>2019-10-26 15:31:02</td>\n",
       "      <td>Hertha BSC</td>\n",
       "      <td>TSG Hoffenheim</td>\n",
       "      <td>None</td>\n",
       "      <td>None</td>\n",
       "      <td>2.435557</td>\n",
       "      <td>2.807712</td>\n",
       "      <td>4.287167</td>\n",
       "      <td>None</td>\n",
       "      <td>1</td>\n",
       "    </tr>\n",
       "    <tr>\n",
       "      <th>9</th>\n",
       "      <td>2019-10-26 15:31:02</td>\n",
       "      <td>TSG Hoffenheim</td>\n",
       "      <td>Hertha BSC</td>\n",
       "      <td>None</td>\n",
       "      <td>None</td>\n",
       "      <td>4.287167</td>\n",
       "      <td>2.807712</td>\n",
       "      <td>2.435557</td>\n",
       "      <td>None</td>\n",
       "      <td>0</td>\n",
       "    </tr>\n",
       "    <tr>\n",
       "      <th>10</th>\n",
       "      <td>2019-10-26 15:32:57</td>\n",
       "      <td>Schalke 04</td>\n",
       "      <td>Borussia Dortmund</td>\n",
       "      <td>None</td>\n",
       "      <td>None</td>\n",
       "      <td>3.831970</td>\n",
       "      <td>2.988836</td>\n",
       "      <td>2.472437</td>\n",
       "      <td>None</td>\n",
       "      <td>1</td>\n",
       "    </tr>\n",
       "    <tr>\n",
       "      <th>11</th>\n",
       "      <td>2019-10-26 15:32:57</td>\n",
       "      <td>Borussia Dortmund</td>\n",
       "      <td>Schalke 04</td>\n",
       "      <td>None</td>\n",
       "      <td>None</td>\n",
       "      <td>2.472437</td>\n",
       "      <td>2.988836</td>\n",
       "      <td>3.831970</td>\n",
       "      <td>None</td>\n",
       "      <td>0</td>\n",
       "    </tr>\n",
       "    <tr>\n",
       "      <th>12</th>\n",
       "      <td>2019-10-26 18:30:02</td>\n",
       "      <td>Bayer Leverkusen</td>\n",
       "      <td>Werder Bremen</td>\n",
       "      <td>None</td>\n",
       "      <td>None</td>\n",
       "      <td>2.172449</td>\n",
       "      <td>3.930476</td>\n",
       "      <td>3.505477</td>\n",
       "      <td>None</td>\n",
       "      <td>1</td>\n",
       "    </tr>\n",
       "    <tr>\n",
       "      <th>13</th>\n",
       "      <td>2019-10-26 18:30:02</td>\n",
       "      <td>Werder Bremen</td>\n",
       "      <td>Bayer Leverkusen</td>\n",
       "      <td>None</td>\n",
       "      <td>None</td>\n",
       "      <td>3.505477</td>\n",
       "      <td>3.930476</td>\n",
       "      <td>2.172449</td>\n",
       "      <td>None</td>\n",
       "      <td>0</td>\n",
       "    </tr>\n",
       "    <tr>\n",
       "      <th>14</th>\n",
       "      <td>2019-10-27 15:30:16</td>\n",
       "      <td>VfL Wolfsburg</td>\n",
       "      <td>FC Augsburg</td>\n",
       "      <td>None</td>\n",
       "      <td>None</td>\n",
       "      <td>2.292388</td>\n",
       "      <td>3.165040</td>\n",
       "      <td>4.035156</td>\n",
       "      <td>None</td>\n",
       "      <td>1</td>\n",
       "    </tr>\n",
       "    <tr>\n",
       "      <th>15</th>\n",
       "      <td>2019-10-27 15:30:16</td>\n",
       "      <td>FC Augsburg</td>\n",
       "      <td>VfL Wolfsburg</td>\n",
       "      <td>None</td>\n",
       "      <td>None</td>\n",
       "      <td>4.035156</td>\n",
       "      <td>3.165040</td>\n",
       "      <td>2.292388</td>\n",
       "      <td>None</td>\n",
       "      <td>0</td>\n",
       "    </tr>\n",
       "    <tr>\n",
       "      <th>16</th>\n",
       "      <td>2019-10-27 18:01:11</td>\n",
       "      <td>Borussia M'gladbach</td>\n",
       "      <td>Eintracht Frankfurt</td>\n",
       "      <td>None</td>\n",
       "      <td>None</td>\n",
       "      <td>1.538731</td>\n",
       "      <td>8.156668</td>\n",
       "      <td>4.395317</td>\n",
       "      <td>None</td>\n",
       "      <td>1</td>\n",
       "    </tr>\n",
       "    <tr>\n",
       "      <th>17</th>\n",
       "      <td>2019-10-27 18:01:11</td>\n",
       "      <td>Eintracht Frankfurt</td>\n",
       "      <td>Borussia M'gladbach</td>\n",
       "      <td>None</td>\n",
       "      <td>None</td>\n",
       "      <td>4.395317</td>\n",
       "      <td>8.156668</td>\n",
       "      <td>1.538731</td>\n",
       "      <td>None</td>\n",
       "      <td>0</td>\n",
       "    </tr>\n",
       "  </tbody>\n",
       "</table>\n",
       "</div>"
      ],
      "text/plain": [
       "             eventBegin                team1                team2 score1  \\\n",
       "0   2019-10-25 20:30:06             Mainz 05            1.FC Köln   None   \n",
       "1   2019-10-25 20:30:06            1.FC Köln             Mainz 05   None   \n",
       "2   2019-10-26 15:30:00          SC Freiburg           RB Leipzig   None   \n",
       "3   2019-10-26 15:30:00           RB Leipzig          SC Freiburg   None   \n",
       "4   2019-10-26 15:30:35         Paderborn SC   Fortuna Düsseldorf   None   \n",
       "5   2019-10-26 15:30:35   Fortuna Düsseldorf         Paderborn SC   None   \n",
       "6   2019-10-26 15:30:42       Bayern München         Union Berlin   None   \n",
       "7   2019-10-26 15:30:42         Union Berlin       Bayern München   None   \n",
       "8   2019-10-26 15:31:02           Hertha BSC       TSG Hoffenheim   None   \n",
       "9   2019-10-26 15:31:02       TSG Hoffenheim           Hertha BSC   None   \n",
       "10  2019-10-26 15:32:57           Schalke 04    Borussia Dortmund   None   \n",
       "11  2019-10-26 15:32:57    Borussia Dortmund           Schalke 04   None   \n",
       "12  2019-10-26 18:30:02     Bayer Leverkusen        Werder Bremen   None   \n",
       "13  2019-10-26 18:30:02        Werder Bremen     Bayer Leverkusen   None   \n",
       "14  2019-10-27 15:30:16        VfL Wolfsburg          FC Augsburg   None   \n",
       "15  2019-10-27 15:30:16          FC Augsburg        VfL Wolfsburg   None   \n",
       "16  2019-10-27 18:01:11  Borussia M'gladbach  Eintracht Frankfurt   None   \n",
       "17  2019-10-27 18:01:11  Eintracht Frankfurt  Borussia M'gladbach   None   \n",
       "\n",
       "   score2    RefOdd1   RefOddX    RefOdd2 RefOddOver  home  \n",
       "0    None   2.133241  3.431503   4.169931       None     1  \n",
       "1    None   4.169931  3.431503   2.133241       None     0  \n",
       "2    None   2.434101  4.529554   2.714452       None     1  \n",
       "3    None   2.714452  4.529554   2.434101       None     0  \n",
       "4    None   8.418152  6.221109   1.387990       None     1  \n",
       "5    None   1.387990  6.221109   8.418152       None     0  \n",
       "6    None   1.824535  2.457923  22.188957       None     1  \n",
       "7    None  22.188957  2.457923   1.824535       None     0  \n",
       "8    None   2.435557  2.807712   4.287167       None     1  \n",
       "9    None   4.287167  2.807712   2.435557       None     0  \n",
       "10   None   3.831970  2.988836   2.472437       None     1  \n",
       "11   None   2.472437  2.988836   3.831970       None     0  \n",
       "12   None   2.172449  3.930476   3.505477       None     1  \n",
       "13   None   3.505477  3.930476   2.172449       None     0  \n",
       "14   None   2.292388  3.165040   4.035156       None     1  \n",
       "15   None   4.035156  3.165040   2.292388       None     0  \n",
       "16   None   1.538731  8.156668   4.395317       None     1  \n",
       "17   None   4.395317  8.156668   1.538731       None     0  "
      ]
     },
     "execution_count": 189,
     "metadata": {},
     "output_type": "execute_result"
    }
   ],
   "source": [
    "test_compl"
   ]
  },
  {
   "cell_type": "markdown",
   "id": "d9c84eb3",
   "metadata": {},
   "source": [
    "# Possible Performance Metrics"
   ]
  },
  {
   "cell_type": "markdown",
   "id": "b405fde8",
   "metadata": {},
   "source": [
    "As we are interested in predicting probabilities (to infer betting odds) of all outcomes rather than predicting the exact outcome, measures such as accuracy, precision and recall (or F1 score, combining the latter two) are not entirely suited for out case.\n",
    "\n",
    "Log-loss and the Brier Score are more informative in our use case as they give a score based on the predicted probabilities vs. the true outcomes."
   ]
  },
  {
   "cell_type": "markdown",
   "id": "b2117949",
   "metadata": {},
   "source": [
    "# Model improvements and suggestions"
   ]
  },
  {
   "cell_type": "markdown",
   "id": "3ba6f0c4",
   "metadata": {},
   "source": [
    "The current model only considers the overall performance of a team and the specific match up performance of a specific team vs another team, as these are the data that are available. This is obviously a somewhat crude approach. First off, a team's most recent performance is more predictive of current or future outcomes than performance further back in time. Giving more recent matches higher predictive weight would therefore probably lead to better predictions.\n",
    "\n",
    "There are further details that could be included if the data is available such as the specific players that are available in any given match or if key contributors to the team are injured, or suspended for example. In combination with individual player performance data this can enable more precise \n",
    "\n",
    "A lot of these details are presumably included implicitly in the Reference Odds of the past games. While these odds are not available for future games, as they are more or less the goal of the prediction, we cannot directly take them into account. But it might be possible to use some of the information contained in the odds to improve the predictions based on the specific match ups of the current match day.\n",
    "\n",
    "On a more technical note: the match results have an imbalanced nature, due to an apparent homefield advantage. This can cause problems for classification models, as the model can be biased towards predicting the majority class. Given enough data one might be able to afford to downsample towards a more balanced dataset. Another approach could be to use a model that allows for differential weighting in the fitting process. As I understand it, the XGboost classifier provides this possibility. "
   ]
  },
  {
   "cell_type": "code",
   "execution_count": null,
   "id": "dc2f289c",
   "metadata": {},
   "outputs": [],
   "source": []
  }
 ],
 "metadata": {
  "kernelspec": {
   "display_name": "Python 3 (ipykernel)",
   "language": "python",
   "name": "python3"
  },
  "language_info": {
   "codemirror_mode": {
    "name": "ipython",
    "version": 3
   },
   "file_extension": ".py",
   "mimetype": "text/x-python",
   "name": "python",
   "nbconvert_exporter": "python",
   "pygments_lexer": "ipython3",
   "version": "3.10.6"
  },
  "toc": {
   "base_numbering": 1,
   "nav_menu": {},
   "number_sections": true,
   "sideBar": true,
   "skip_h1_title": false,
   "title_cell": "Table of Contents",
   "title_sidebar": "Contents",
   "toc_cell": false,
   "toc_position": {},
   "toc_section_display": true,
   "toc_window_display": false
  }
 },
 "nbformat": 4,
 "nbformat_minor": 5
}
