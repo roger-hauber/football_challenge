{
 "cells": [
  {
   "cell_type": "markdown",
   "id": "1c8e1b01",
   "metadata": {},
   "source": [
    "# Football Challenge "
   ]
  },
  {
   "cell_type": "code",
   "execution_count": 3,
   "id": "358ee650",
   "metadata": {},
   "outputs": [],
   "source": [
    "import pandas as pd\n",
    "import numpy as np\n",
    "import matplotlib.pyplot as plt\n",
    "import seaborn as sns"
   ]
  },
  {
   "cell_type": "code",
   "execution_count": 4,
   "id": "c10e53ad",
   "metadata": {},
   "outputs": [],
   "source": [
    "matches = pd.read_csv(\"train.csv\", encoding = \"ISO-8859-1\")"
   ]
  },
  {
   "cell_type": "code",
   "execution_count": 5,
   "id": "1c75ae66",
   "metadata": {},
   "outputs": [],
   "source": [
    "matches = matches.drop(columns='Unnamed: 0')"
   ]
  },
  {
   "cell_type": "code",
   "execution_count": 6,
   "id": "3fd7e684",
   "metadata": {},
   "outputs": [
    {
     "data": {
      "text/html": [
       "<div>\n",
       "<style scoped>\n",
       "    .dataframe tbody tr th:only-of-type {\n",
       "        vertical-align: middle;\n",
       "    }\n",
       "\n",
       "    .dataframe tbody tr th {\n",
       "        vertical-align: top;\n",
       "    }\n",
       "\n",
       "    .dataframe thead th {\n",
       "        text-align: right;\n",
       "    }\n",
       "</style>\n",
       "<table border=\"1\" class=\"dataframe\">\n",
       "  <thead>\n",
       "    <tr style=\"text-align: right;\">\n",
       "      <th></th>\n",
       "      <th>eventBegin</th>\n",
       "      <th>paarung</th>\n",
       "      <th>score</th>\n",
       "      <th>RefOdd1</th>\n",
       "      <th>RefOddX</th>\n",
       "      <th>RefOdd2</th>\n",
       "      <th>RefOddOver</th>\n",
       "    </tr>\n",
       "  </thead>\n",
       "  <tbody>\n",
       "    <tr>\n",
       "      <th>0</th>\n",
       "      <td>2015-01-30 20:35:32</td>\n",
       "      <td>VfL Wolfsburg - Bayern München</td>\n",
       "      <td>4:1 (2:0)</td>\n",
       "      <td>7.49272</td>\n",
       "      <td>4.85413</td>\n",
       "      <td>1.51180</td>\n",
       "      <td>1.69718</td>\n",
       "    </tr>\n",
       "    <tr>\n",
       "      <th>1</th>\n",
       "      <td>2015-01-31 15:30:19</td>\n",
       "      <td>SC Freiburg - Eintracht Frankfurt</td>\n",
       "      <td>4:1 (0:1)</td>\n",
       "      <td>2.97516</td>\n",
       "      <td>3.94175</td>\n",
       "      <td>2.42760</td>\n",
       "      <td>1.70712</td>\n",
       "    </tr>\n",
       "    <tr>\n",
       "      <th>2</th>\n",
       "      <td>2015-01-31 15:30:56</td>\n",
       "      <td>Hamburger SV - 1.FC Köln</td>\n",
       "      <td>0:2 (0:0)</td>\n",
       "      <td>2.54718</td>\n",
       "      <td>3.33901</td>\n",
       "      <td>3.26786</td>\n",
       "      <td>2.59439</td>\n",
       "    </tr>\n",
       "    <tr>\n",
       "      <th>3</th>\n",
       "      <td>2015-01-31 15:31:11</td>\n",
       "      <td>Schalke 04 - Hannover 96</td>\n",
       "      <td>1:0 (1:0)</td>\n",
       "      <td>2.07487</td>\n",
       "      <td>3.81712</td>\n",
       "      <td>3.88638</td>\n",
       "      <td>1.82383</td>\n",
       "    </tr>\n",
       "    <tr>\n",
       "      <th>4</th>\n",
       "      <td>2015-01-31 15:31:21</td>\n",
       "      <td>FSV Mainz 05 - SC Paderborn</td>\n",
       "      <td>5:0 (1:0)</td>\n",
       "      <td>2.00676</td>\n",
       "      <td>3.76686</td>\n",
       "      <td>4.25880</td>\n",
       "      <td>1.87892</td>\n",
       "    </tr>\n",
       "  </tbody>\n",
       "</table>\n",
       "</div>"
      ],
      "text/plain": [
       "            eventBegin                            paarung      score  RefOdd1  \\\n",
       "0  2015-01-30 20:35:32     VfL Wolfsburg - Bayern München  4:1 (2:0)  7.49272   \n",
       "1  2015-01-31 15:30:19  SC Freiburg - Eintracht Frankfurt  4:1 (0:1)  2.97516   \n",
       "2  2015-01-31 15:30:56           Hamburger SV - 1.FC Köln  0:2 (0:0)  2.54718   \n",
       "3  2015-01-31 15:31:11           Schalke 04 - Hannover 96  1:0 (1:0)  2.07487   \n",
       "4  2015-01-31 15:31:21        FSV Mainz 05 - SC Paderborn  5:0 (1:0)  2.00676   \n",
       "\n",
       "   RefOddX  RefOdd2  RefOddOver  \n",
       "0  4.85413  1.51180     1.69718  \n",
       "1  3.94175  2.42760     1.70712  \n",
       "2  3.33901  3.26786     2.59439  \n",
       "3  3.81712  3.88638     1.82383  \n",
       "4  3.76686  4.25880     1.87892  "
      ]
     },
     "execution_count": 6,
     "metadata": {},
     "output_type": "execute_result"
    }
   ],
   "source": [
    "matches.head()"
   ]
  },
  {
   "cell_type": "code",
   "execution_count": 7,
   "id": "729dff86",
   "metadata": {},
   "outputs": [],
   "source": [
    "matches.loc[:,\"score1\"] = matches.loc[:,\"score\"].str[0]"
   ]
  },
  {
   "cell_type": "code",
   "execution_count": 8,
   "id": "cb04655b",
   "metadata": {},
   "outputs": [],
   "source": [
    "matches.loc[:, \"score2\"] = matches.loc[:, \"score\"].str[2]"
   ]
  },
  {
   "cell_type": "code",
   "execution_count": 9,
   "id": "d0d090ad",
   "metadata": {},
   "outputs": [
    {
     "data": {
      "text/html": [
       "<div>\n",
       "<style scoped>\n",
       "    .dataframe tbody tr th:only-of-type {\n",
       "        vertical-align: middle;\n",
       "    }\n",
       "\n",
       "    .dataframe tbody tr th {\n",
       "        vertical-align: top;\n",
       "    }\n",
       "\n",
       "    .dataframe thead th {\n",
       "        text-align: right;\n",
       "    }\n",
       "</style>\n",
       "<table border=\"1\" class=\"dataframe\">\n",
       "  <thead>\n",
       "    <tr style=\"text-align: right;\">\n",
       "      <th></th>\n",
       "      <th>eventBegin</th>\n",
       "      <th>paarung</th>\n",
       "      <th>score</th>\n",
       "      <th>RefOdd1</th>\n",
       "      <th>RefOddX</th>\n",
       "      <th>RefOdd2</th>\n",
       "      <th>RefOddOver</th>\n",
       "      <th>score1</th>\n",
       "      <th>score2</th>\n",
       "    </tr>\n",
       "  </thead>\n",
       "  <tbody>\n",
       "    <tr>\n",
       "      <th>0</th>\n",
       "      <td>2015-01-30 20:35:32</td>\n",
       "      <td>VfL Wolfsburg - Bayern München</td>\n",
       "      <td>4:1 (2:0)</td>\n",
       "      <td>7.49272</td>\n",
       "      <td>4.85413</td>\n",
       "      <td>1.51180</td>\n",
       "      <td>1.69718</td>\n",
       "      <td>4</td>\n",
       "      <td>1</td>\n",
       "    </tr>\n",
       "    <tr>\n",
       "      <th>1</th>\n",
       "      <td>2015-01-31 15:30:19</td>\n",
       "      <td>SC Freiburg - Eintracht Frankfurt</td>\n",
       "      <td>4:1 (0:1)</td>\n",
       "      <td>2.97516</td>\n",
       "      <td>3.94175</td>\n",
       "      <td>2.42760</td>\n",
       "      <td>1.70712</td>\n",
       "      <td>4</td>\n",
       "      <td>1</td>\n",
       "    </tr>\n",
       "    <tr>\n",
       "      <th>2</th>\n",
       "      <td>2015-01-31 15:30:56</td>\n",
       "      <td>Hamburger SV - 1.FC Köln</td>\n",
       "      <td>0:2 (0:0)</td>\n",
       "      <td>2.54718</td>\n",
       "      <td>3.33901</td>\n",
       "      <td>3.26786</td>\n",
       "      <td>2.59439</td>\n",
       "      <td>0</td>\n",
       "      <td>2</td>\n",
       "    </tr>\n",
       "    <tr>\n",
       "      <th>3</th>\n",
       "      <td>2015-01-31 15:31:11</td>\n",
       "      <td>Schalke 04 - Hannover 96</td>\n",
       "      <td>1:0 (1:0)</td>\n",
       "      <td>2.07487</td>\n",
       "      <td>3.81712</td>\n",
       "      <td>3.88638</td>\n",
       "      <td>1.82383</td>\n",
       "      <td>1</td>\n",
       "      <td>0</td>\n",
       "    </tr>\n",
       "    <tr>\n",
       "      <th>4</th>\n",
       "      <td>2015-01-31 15:31:21</td>\n",
       "      <td>FSV Mainz 05 - SC Paderborn</td>\n",
       "      <td>5:0 (1:0)</td>\n",
       "      <td>2.00676</td>\n",
       "      <td>3.76686</td>\n",
       "      <td>4.25880</td>\n",
       "      <td>1.87892</td>\n",
       "      <td>5</td>\n",
       "      <td>0</td>\n",
       "    </tr>\n",
       "  </tbody>\n",
       "</table>\n",
       "</div>"
      ],
      "text/plain": [
       "            eventBegin                            paarung      score  RefOdd1  \\\n",
       "0  2015-01-30 20:35:32     VfL Wolfsburg - Bayern München  4:1 (2:0)  7.49272   \n",
       "1  2015-01-31 15:30:19  SC Freiburg - Eintracht Frankfurt  4:1 (0:1)  2.97516   \n",
       "2  2015-01-31 15:30:56           Hamburger SV - 1.FC Köln  0:2 (0:0)  2.54718   \n",
       "3  2015-01-31 15:31:11           Schalke 04 - Hannover 96  1:0 (1:0)  2.07487   \n",
       "4  2015-01-31 15:31:21        FSV Mainz 05 - SC Paderborn  5:0 (1:0)  2.00676   \n",
       "\n",
       "   RefOddX  RefOdd2  RefOddOver score1 score2  \n",
       "0  4.85413  1.51180     1.69718      4      1  \n",
       "1  3.94175  2.42760     1.70712      4      1  \n",
       "2  3.33901  3.26786     2.59439      0      2  \n",
       "3  3.81712  3.88638     1.82383      1      0  \n",
       "4  3.76686  4.25880     1.87892      5      0  "
      ]
     },
     "execution_count": 9,
     "metadata": {},
     "output_type": "execute_result"
    }
   ],
   "source": [
    "matches.head()"
   ]
  },
  {
   "cell_type": "code",
   "execution_count": 99,
   "id": "6b2357e5",
   "metadata": {},
   "outputs": [],
   "source": [
    "def match_result(row):\n",
    "    if row[\"score1\"] == row[\"score2\"]:\n",
    "            return \"draw\"\n",
    "    \n",
    "    elif row[\"home\"] == 1:\n",
    "    \n",
    "        if row[\"score1\"] > row[\"score2\"]:\n",
    "            return \"home\"\n",
    "    \n",
    "        elif row[\"score1\"] < row[\"score2\"]:\n",
    "            return \"away\"\n",
    "    \n",
    "    elif row[\"home\"] == 0:\n",
    "        \n",
    "        if row[\"score1\"] < row[\"score2\"]:\n",
    "            return \"home\"\n",
    "        \n",
    "        elif row[\"score1\"] > row[\"score2\"]:\n",
    "            return \"away\""
   ]
  },
  {
   "cell_type": "code",
   "execution_count": 138,
   "id": "8a41162f",
   "metadata": {},
   "outputs": [],
   "source": [
    "#matches.loc[:, \"result\"] = matches.apply(lambda row: match_result(row), axis =1)"
   ]
  },
  {
   "cell_type": "code",
   "execution_count": 11,
   "id": "d47b7ddc",
   "metadata": {},
   "outputs": [
    {
     "data": {
      "text/html": [
       "<div>\n",
       "<style scoped>\n",
       "    .dataframe tbody tr th:only-of-type {\n",
       "        vertical-align: middle;\n",
       "    }\n",
       "\n",
       "    .dataframe tbody tr th {\n",
       "        vertical-align: top;\n",
       "    }\n",
       "\n",
       "    .dataframe thead th {\n",
       "        text-align: right;\n",
       "    }\n",
       "</style>\n",
       "<table border=\"1\" class=\"dataframe\">\n",
       "  <thead>\n",
       "    <tr style=\"text-align: right;\">\n",
       "      <th></th>\n",
       "      <th>eventBegin</th>\n",
       "      <th>paarung</th>\n",
       "      <th>score</th>\n",
       "      <th>RefOdd1</th>\n",
       "      <th>RefOddX</th>\n",
       "      <th>RefOdd2</th>\n",
       "      <th>RefOddOver</th>\n",
       "      <th>score1</th>\n",
       "      <th>score2</th>\n",
       "    </tr>\n",
       "  </thead>\n",
       "  <tbody>\n",
       "    <tr>\n",
       "      <th>0</th>\n",
       "      <td>2015-01-30 20:35:32</td>\n",
       "      <td>VfL Wolfsburg - Bayern München</td>\n",
       "      <td>4:1 (2:0)</td>\n",
       "      <td>7.49272</td>\n",
       "      <td>4.85413</td>\n",
       "      <td>1.51180</td>\n",
       "      <td>1.69718</td>\n",
       "      <td>4</td>\n",
       "      <td>1</td>\n",
       "    </tr>\n",
       "    <tr>\n",
       "      <th>1</th>\n",
       "      <td>2015-01-31 15:30:19</td>\n",
       "      <td>SC Freiburg - Eintracht Frankfurt</td>\n",
       "      <td>4:1 (0:1)</td>\n",
       "      <td>2.97516</td>\n",
       "      <td>3.94175</td>\n",
       "      <td>2.42760</td>\n",
       "      <td>1.70712</td>\n",
       "      <td>4</td>\n",
       "      <td>1</td>\n",
       "    </tr>\n",
       "    <tr>\n",
       "      <th>2</th>\n",
       "      <td>2015-01-31 15:30:56</td>\n",
       "      <td>Hamburger SV - 1.FC Köln</td>\n",
       "      <td>0:2 (0:0)</td>\n",
       "      <td>2.54718</td>\n",
       "      <td>3.33901</td>\n",
       "      <td>3.26786</td>\n",
       "      <td>2.59439</td>\n",
       "      <td>0</td>\n",
       "      <td>2</td>\n",
       "    </tr>\n",
       "    <tr>\n",
       "      <th>3</th>\n",
       "      <td>2015-01-31 15:31:11</td>\n",
       "      <td>Schalke 04 - Hannover 96</td>\n",
       "      <td>1:0 (1:0)</td>\n",
       "      <td>2.07487</td>\n",
       "      <td>3.81712</td>\n",
       "      <td>3.88638</td>\n",
       "      <td>1.82383</td>\n",
       "      <td>1</td>\n",
       "      <td>0</td>\n",
       "    </tr>\n",
       "    <tr>\n",
       "      <th>4</th>\n",
       "      <td>2015-01-31 15:31:21</td>\n",
       "      <td>FSV Mainz 05 - SC Paderborn</td>\n",
       "      <td>5:0 (1:0)</td>\n",
       "      <td>2.00676</td>\n",
       "      <td>3.76686</td>\n",
       "      <td>4.25880</td>\n",
       "      <td>1.87892</td>\n",
       "      <td>5</td>\n",
       "      <td>0</td>\n",
       "    </tr>\n",
       "  </tbody>\n",
       "</table>\n",
       "</div>"
      ],
      "text/plain": [
       "            eventBegin                            paarung      score  RefOdd1  \\\n",
       "0  2015-01-30 20:35:32     VfL Wolfsburg - Bayern München  4:1 (2:0)  7.49272   \n",
       "1  2015-01-31 15:30:19  SC Freiburg - Eintracht Frankfurt  4:1 (0:1)  2.97516   \n",
       "2  2015-01-31 15:30:56           Hamburger SV - 1.FC Köln  0:2 (0:0)  2.54718   \n",
       "3  2015-01-31 15:31:11           Schalke 04 - Hannover 96  1:0 (1:0)  2.07487   \n",
       "4  2015-01-31 15:31:21        FSV Mainz 05 - SC Paderborn  5:0 (1:0)  2.00676   \n",
       "\n",
       "   RefOddX  RefOdd2  RefOddOver score1 score2  \n",
       "0  4.85413  1.51180     1.69718      4      1  \n",
       "1  3.94175  2.42760     1.70712      4      1  \n",
       "2  3.33901  3.26786     2.59439      0      2  \n",
       "3  3.81712  3.88638     1.82383      1      0  \n",
       "4  3.76686  4.25880     1.87892      5      0  "
      ]
     },
     "execution_count": 11,
     "metadata": {},
     "output_type": "execute_result"
    }
   ],
   "source": [
    "matches.head()"
   ]
  },
  {
   "cell_type": "code",
   "execution_count": 42,
   "id": "a3956cea",
   "metadata": {},
   "outputs": [],
   "source": [
    "def home_team(row):\n",
    "    team = row[\"paarung\"].split(\"-\")[0]\n",
    "    team = team.strip()\n",
    "    return team\n",
    "\n",
    "def away_team(row):\n",
    "    team = row[\"paarung\"].split(\"-\")[1]\n",
    "    team = team.strip()\n",
    "    return team\n",
    "\n",
    "def clean_name(row):\n",
    "    \n",
    "    name = max(row[\"team1\"].split(), key=len)\n",
    "    name = name.strip()\n",
    "    #handle exceptions \"Eintracht Frankfurt\" \"1.FC Köln\" and \"Borussia Dortmund\" and \"Bayern Munich\"\n",
    "    if name == \"Eintracht\":\n",
    "        name = \"Frankfurt\"\n",
    "    elif name == \"1.FC\":\n",
    "        name = \"Köln\"\n",
    "    elif name ==  \"Borussia\":\n",
    "        name = \"Dortmund\"\n",
    "    elif name == \"Bayern\":\n",
    "        name = \"München\"\n",
    "        \n",
    "    \n",
    "    return name"
   ]
  },
  {
   "cell_type": "code",
   "execution_count": 14,
   "id": "21b76640",
   "metadata": {},
   "outputs": [],
   "source": [
    "matches[\"team1\"] = matches.apply(lambda row: home_team(row), axis = 1)"
   ]
  },
  {
   "cell_type": "code",
   "execution_count": 15,
   "id": "7afc544d",
   "metadata": {},
   "outputs": [],
   "source": [
    "matches[\"team2\"] = matches.apply(lambda row: away_team(row), axis = 1)"
   ]
  },
  {
   "cell_type": "code",
   "execution_count": 16,
   "id": "77dcc35c",
   "metadata": {},
   "outputs": [
    {
     "data": {
      "text/html": [
       "<div>\n",
       "<style scoped>\n",
       "    .dataframe tbody tr th:only-of-type {\n",
       "        vertical-align: middle;\n",
       "    }\n",
       "\n",
       "    .dataframe tbody tr th {\n",
       "        vertical-align: top;\n",
       "    }\n",
       "\n",
       "    .dataframe thead th {\n",
       "        text-align: right;\n",
       "    }\n",
       "</style>\n",
       "<table border=\"1\" class=\"dataframe\">\n",
       "  <thead>\n",
       "    <tr style=\"text-align: right;\">\n",
       "      <th></th>\n",
       "      <th>eventBegin</th>\n",
       "      <th>paarung</th>\n",
       "      <th>score</th>\n",
       "      <th>RefOdd1</th>\n",
       "      <th>RefOddX</th>\n",
       "      <th>RefOdd2</th>\n",
       "      <th>RefOddOver</th>\n",
       "      <th>score1</th>\n",
       "      <th>score2</th>\n",
       "      <th>team1</th>\n",
       "      <th>team2</th>\n",
       "    </tr>\n",
       "  </thead>\n",
       "  <tbody>\n",
       "    <tr>\n",
       "      <th>0</th>\n",
       "      <td>2015-01-30 20:35:32</td>\n",
       "      <td>VfL Wolfsburg - Bayern München</td>\n",
       "      <td>4:1 (2:0)</td>\n",
       "      <td>7.49272</td>\n",
       "      <td>4.85413</td>\n",
       "      <td>1.51180</td>\n",
       "      <td>1.69718</td>\n",
       "      <td>4</td>\n",
       "      <td>1</td>\n",
       "      <td>VfL Wolfsburg</td>\n",
       "      <td>Bayern München</td>\n",
       "    </tr>\n",
       "    <tr>\n",
       "      <th>1</th>\n",
       "      <td>2015-01-31 15:30:19</td>\n",
       "      <td>SC Freiburg - Eintracht Frankfurt</td>\n",
       "      <td>4:1 (0:1)</td>\n",
       "      <td>2.97516</td>\n",
       "      <td>3.94175</td>\n",
       "      <td>2.42760</td>\n",
       "      <td>1.70712</td>\n",
       "      <td>4</td>\n",
       "      <td>1</td>\n",
       "      <td>SC Freiburg</td>\n",
       "      <td>Eintracht Frankfurt</td>\n",
       "    </tr>\n",
       "    <tr>\n",
       "      <th>2</th>\n",
       "      <td>2015-01-31 15:30:56</td>\n",
       "      <td>Hamburger SV - 1.FC Köln</td>\n",
       "      <td>0:2 (0:0)</td>\n",
       "      <td>2.54718</td>\n",
       "      <td>3.33901</td>\n",
       "      <td>3.26786</td>\n",
       "      <td>2.59439</td>\n",
       "      <td>0</td>\n",
       "      <td>2</td>\n",
       "      <td>Hamburger SV</td>\n",
       "      <td>1.FC Köln</td>\n",
       "    </tr>\n",
       "    <tr>\n",
       "      <th>3</th>\n",
       "      <td>2015-01-31 15:31:11</td>\n",
       "      <td>Schalke 04 - Hannover 96</td>\n",
       "      <td>1:0 (1:0)</td>\n",
       "      <td>2.07487</td>\n",
       "      <td>3.81712</td>\n",
       "      <td>3.88638</td>\n",
       "      <td>1.82383</td>\n",
       "      <td>1</td>\n",
       "      <td>0</td>\n",
       "      <td>Schalke 04</td>\n",
       "      <td>Hannover 96</td>\n",
       "    </tr>\n",
       "    <tr>\n",
       "      <th>4</th>\n",
       "      <td>2015-01-31 15:31:21</td>\n",
       "      <td>FSV Mainz 05 - SC Paderborn</td>\n",
       "      <td>5:0 (1:0)</td>\n",
       "      <td>2.00676</td>\n",
       "      <td>3.76686</td>\n",
       "      <td>4.25880</td>\n",
       "      <td>1.87892</td>\n",
       "      <td>5</td>\n",
       "      <td>0</td>\n",
       "      <td>FSV Mainz 05</td>\n",
       "      <td>SC Paderborn</td>\n",
       "    </tr>\n",
       "  </tbody>\n",
       "</table>\n",
       "</div>"
      ],
      "text/plain": [
       "            eventBegin                            paarung      score  RefOdd1  \\\n",
       "0  2015-01-30 20:35:32     VfL Wolfsburg - Bayern München  4:1 (2:0)  7.49272   \n",
       "1  2015-01-31 15:30:19  SC Freiburg - Eintracht Frankfurt  4:1 (0:1)  2.97516   \n",
       "2  2015-01-31 15:30:56           Hamburger SV - 1.FC Köln  0:2 (0:0)  2.54718   \n",
       "3  2015-01-31 15:31:11           Schalke 04 - Hannover 96  1:0 (1:0)  2.07487   \n",
       "4  2015-01-31 15:31:21        FSV Mainz 05 - SC Paderborn  5:0 (1:0)  2.00676   \n",
       "\n",
       "   RefOddX  RefOdd2  RefOddOver score1 score2          team1  \\\n",
       "0  4.85413  1.51180     1.69718      4      1  VfL Wolfsburg   \n",
       "1  3.94175  2.42760     1.70712      4      1    SC Freiburg   \n",
       "2  3.33901  3.26786     2.59439      0      2   Hamburger SV   \n",
       "3  3.81712  3.88638     1.82383      1      0     Schalke 04   \n",
       "4  3.76686  4.25880     1.87892      5      0   FSV Mainz 05   \n",
       "\n",
       "                 team2  \n",
       "0       Bayern München  \n",
       "1  Eintracht Frankfurt  \n",
       "2            1.FC Köln  \n",
       "3          Hannover 96  \n",
       "4         SC Paderborn  "
      ]
     },
     "execution_count": 16,
     "metadata": {},
     "output_type": "execute_result"
    }
   ],
   "source": [
    "matches.head()"
   ]
  },
  {
   "cell_type": "markdown",
   "id": "4cf6ef77",
   "metadata": {},
   "source": [
    "Drop the old \"paarung\" variable and bring the df into the required format (with one line per match still)"
   ]
  },
  {
   "cell_type": "code",
   "execution_count": 17,
   "id": "275928df",
   "metadata": {},
   "outputs": [],
   "source": [
    "matches = matches.loc[:, [\"eventBegin\", \"team1\", \"team2\", \"score1\", \"score2\", \"RefOdd1\", \"RefOddX\", \"RefOdd2\", \"RefOddOver\"]]"
   ]
  },
  {
   "cell_type": "code",
   "execution_count": 18,
   "id": "c41a34bb",
   "metadata": {},
   "outputs": [
    {
     "data": {
      "text/html": [
       "<div>\n",
       "<style scoped>\n",
       "    .dataframe tbody tr th:only-of-type {\n",
       "        vertical-align: middle;\n",
       "    }\n",
       "\n",
       "    .dataframe tbody tr th {\n",
       "        vertical-align: top;\n",
       "    }\n",
       "\n",
       "    .dataframe thead th {\n",
       "        text-align: right;\n",
       "    }\n",
       "</style>\n",
       "<table border=\"1\" class=\"dataframe\">\n",
       "  <thead>\n",
       "    <tr style=\"text-align: right;\">\n",
       "      <th></th>\n",
       "      <th>eventBegin</th>\n",
       "      <th>team1</th>\n",
       "      <th>team2</th>\n",
       "      <th>score1</th>\n",
       "      <th>score2</th>\n",
       "      <th>RefOdd1</th>\n",
       "      <th>RefOddX</th>\n",
       "      <th>RefOdd2</th>\n",
       "      <th>RefOddOver</th>\n",
       "    </tr>\n",
       "  </thead>\n",
       "  <tbody>\n",
       "    <tr>\n",
       "      <th>0</th>\n",
       "      <td>2015-01-30 20:35:32</td>\n",
       "      <td>VfL Wolfsburg</td>\n",
       "      <td>Bayern München</td>\n",
       "      <td>4</td>\n",
       "      <td>1</td>\n",
       "      <td>7.49272</td>\n",
       "      <td>4.85413</td>\n",
       "      <td>1.51180</td>\n",
       "      <td>1.69718</td>\n",
       "    </tr>\n",
       "    <tr>\n",
       "      <th>1</th>\n",
       "      <td>2015-01-31 15:30:19</td>\n",
       "      <td>SC Freiburg</td>\n",
       "      <td>Eintracht Frankfurt</td>\n",
       "      <td>4</td>\n",
       "      <td>1</td>\n",
       "      <td>2.97516</td>\n",
       "      <td>3.94175</td>\n",
       "      <td>2.42760</td>\n",
       "      <td>1.70712</td>\n",
       "    </tr>\n",
       "    <tr>\n",
       "      <th>2</th>\n",
       "      <td>2015-01-31 15:30:56</td>\n",
       "      <td>Hamburger SV</td>\n",
       "      <td>1.FC Köln</td>\n",
       "      <td>0</td>\n",
       "      <td>2</td>\n",
       "      <td>2.54718</td>\n",
       "      <td>3.33901</td>\n",
       "      <td>3.26786</td>\n",
       "      <td>2.59439</td>\n",
       "    </tr>\n",
       "    <tr>\n",
       "      <th>3</th>\n",
       "      <td>2015-01-31 15:31:11</td>\n",
       "      <td>Schalke 04</td>\n",
       "      <td>Hannover 96</td>\n",
       "      <td>1</td>\n",
       "      <td>0</td>\n",
       "      <td>2.07487</td>\n",
       "      <td>3.81712</td>\n",
       "      <td>3.88638</td>\n",
       "      <td>1.82383</td>\n",
       "    </tr>\n",
       "    <tr>\n",
       "      <th>4</th>\n",
       "      <td>2015-01-31 15:31:21</td>\n",
       "      <td>FSV Mainz 05</td>\n",
       "      <td>SC Paderborn</td>\n",
       "      <td>5</td>\n",
       "      <td>0</td>\n",
       "      <td>2.00676</td>\n",
       "      <td>3.76686</td>\n",
       "      <td>4.25880</td>\n",
       "      <td>1.87892</td>\n",
       "    </tr>\n",
       "  </tbody>\n",
       "</table>\n",
       "</div>"
      ],
      "text/plain": [
       "            eventBegin          team1                team2 score1 score2  \\\n",
       "0  2015-01-30 20:35:32  VfL Wolfsburg       Bayern München      4      1   \n",
       "1  2015-01-31 15:30:19    SC Freiburg  Eintracht Frankfurt      4      1   \n",
       "2  2015-01-31 15:30:56   Hamburger SV            1.FC Köln      0      2   \n",
       "3  2015-01-31 15:31:11     Schalke 04          Hannover 96      1      0   \n",
       "4  2015-01-31 15:31:21   FSV Mainz 05         SC Paderborn      5      0   \n",
       "\n",
       "   RefOdd1  RefOddX  RefOdd2  RefOddOver  \n",
       "0  7.49272  4.85413  1.51180     1.69718  \n",
       "1  2.97516  3.94175  2.42760     1.70712  \n",
       "2  2.54718  3.33901  3.26786     2.59439  \n",
       "3  2.07487  3.81712  3.88638     1.82383  \n",
       "4  2.00676  3.76686  4.25880     1.87892  "
      ]
     },
     "execution_count": 18,
     "metadata": {},
     "output_type": "execute_result"
    }
   ],
   "source": [
    "matches.head()"
   ]
  },
  {
   "cell_type": "code",
   "execution_count": 19,
   "id": "be465217",
   "metadata": {},
   "outputs": [],
   "source": [
    "matches.loc[:, \"home\"] = 1"
   ]
  },
  {
   "cell_type": "code",
   "execution_count": 20,
   "id": "a6a90a9b",
   "metadata": {},
   "outputs": [
    {
     "data": {
      "text/html": [
       "<div>\n",
       "<style scoped>\n",
       "    .dataframe tbody tr th:only-of-type {\n",
       "        vertical-align: middle;\n",
       "    }\n",
       "\n",
       "    .dataframe tbody tr th {\n",
       "        vertical-align: top;\n",
       "    }\n",
       "\n",
       "    .dataframe thead th {\n",
       "        text-align: right;\n",
       "    }\n",
       "</style>\n",
       "<table border=\"1\" class=\"dataframe\">\n",
       "  <thead>\n",
       "    <tr style=\"text-align: right;\">\n",
       "      <th></th>\n",
       "      <th>eventBegin</th>\n",
       "      <th>team1</th>\n",
       "      <th>team2</th>\n",
       "      <th>score1</th>\n",
       "      <th>score2</th>\n",
       "      <th>RefOdd1</th>\n",
       "      <th>RefOddX</th>\n",
       "      <th>RefOdd2</th>\n",
       "      <th>RefOddOver</th>\n",
       "      <th>home</th>\n",
       "    </tr>\n",
       "  </thead>\n",
       "  <tbody>\n",
       "    <tr>\n",
       "      <th>0</th>\n",
       "      <td>2015-01-30 20:35:32</td>\n",
       "      <td>VfL Wolfsburg</td>\n",
       "      <td>Bayern München</td>\n",
       "      <td>4</td>\n",
       "      <td>1</td>\n",
       "      <td>7.49272</td>\n",
       "      <td>4.85413</td>\n",
       "      <td>1.51180</td>\n",
       "      <td>1.69718</td>\n",
       "      <td>1</td>\n",
       "    </tr>\n",
       "    <tr>\n",
       "      <th>1</th>\n",
       "      <td>2015-01-31 15:30:19</td>\n",
       "      <td>SC Freiburg</td>\n",
       "      <td>Eintracht Frankfurt</td>\n",
       "      <td>4</td>\n",
       "      <td>1</td>\n",
       "      <td>2.97516</td>\n",
       "      <td>3.94175</td>\n",
       "      <td>2.42760</td>\n",
       "      <td>1.70712</td>\n",
       "      <td>1</td>\n",
       "    </tr>\n",
       "    <tr>\n",
       "      <th>2</th>\n",
       "      <td>2015-01-31 15:30:56</td>\n",
       "      <td>Hamburger SV</td>\n",
       "      <td>1.FC Köln</td>\n",
       "      <td>0</td>\n",
       "      <td>2</td>\n",
       "      <td>2.54718</td>\n",
       "      <td>3.33901</td>\n",
       "      <td>3.26786</td>\n",
       "      <td>2.59439</td>\n",
       "      <td>1</td>\n",
       "    </tr>\n",
       "    <tr>\n",
       "      <th>3</th>\n",
       "      <td>2015-01-31 15:31:11</td>\n",
       "      <td>Schalke 04</td>\n",
       "      <td>Hannover 96</td>\n",
       "      <td>1</td>\n",
       "      <td>0</td>\n",
       "      <td>2.07487</td>\n",
       "      <td>3.81712</td>\n",
       "      <td>3.88638</td>\n",
       "      <td>1.82383</td>\n",
       "      <td>1</td>\n",
       "    </tr>\n",
       "    <tr>\n",
       "      <th>4</th>\n",
       "      <td>2015-01-31 15:31:21</td>\n",
       "      <td>FSV Mainz 05</td>\n",
       "      <td>SC Paderborn</td>\n",
       "      <td>5</td>\n",
       "      <td>0</td>\n",
       "      <td>2.00676</td>\n",
       "      <td>3.76686</td>\n",
       "      <td>4.25880</td>\n",
       "      <td>1.87892</td>\n",
       "      <td>1</td>\n",
       "    </tr>\n",
       "  </tbody>\n",
       "</table>\n",
       "</div>"
      ],
      "text/plain": [
       "            eventBegin          team1                team2 score1 score2  \\\n",
       "0  2015-01-30 20:35:32  VfL Wolfsburg       Bayern München      4      1   \n",
       "1  2015-01-31 15:30:19    SC Freiburg  Eintracht Frankfurt      4      1   \n",
       "2  2015-01-31 15:30:56   Hamburger SV            1.FC Köln      0      2   \n",
       "3  2015-01-31 15:31:11     Schalke 04          Hannover 96      1      0   \n",
       "4  2015-01-31 15:31:21   FSV Mainz 05         SC Paderborn      5      0   \n",
       "\n",
       "   RefOdd1  RefOddX  RefOdd2  RefOddOver  home  \n",
       "0  7.49272  4.85413  1.51180     1.69718     1  \n",
       "1  2.97516  3.94175  2.42760     1.70712     1  \n",
       "2  2.54718  3.33901  3.26786     2.59439     1  \n",
       "3  2.07487  3.81712  3.88638     1.82383     1  \n",
       "4  2.00676  3.76686  4.25880     1.87892     1  "
      ]
     },
     "execution_count": 20,
     "metadata": {},
     "output_type": "execute_result"
    }
   ],
   "source": [
    "matches.head()"
   ]
  },
  {
   "cell_type": "markdown",
   "id": "4d394a41",
   "metadata": {},
   "source": [
    "Alternative dataframe from the away teams perspective (for later merge)"
   ]
  },
  {
   "cell_type": "code",
   "execution_count": 21,
   "id": "64343558",
   "metadata": {},
   "outputs": [],
   "source": [
    "matches_away = pd.concat([matches.eventBegin, matches.team2, matches.team1, \n",
    "                          matches.score2, matches.score1, matches.RefOdd2, matches.RefOddX, matches.RefOdd1, \n",
    "                          matches.RefOddOver], axis=1)"
   ]
  },
  {
   "cell_type": "code",
   "execution_count": 22,
   "id": "31856c86",
   "metadata": {},
   "outputs": [
    {
     "data": {
      "text/html": [
       "<div>\n",
       "<style scoped>\n",
       "    .dataframe tbody tr th:only-of-type {\n",
       "        vertical-align: middle;\n",
       "    }\n",
       "\n",
       "    .dataframe tbody tr th {\n",
       "        vertical-align: top;\n",
       "    }\n",
       "\n",
       "    .dataframe thead th {\n",
       "        text-align: right;\n",
       "    }\n",
       "</style>\n",
       "<table border=\"1\" class=\"dataframe\">\n",
       "  <thead>\n",
       "    <tr style=\"text-align: right;\">\n",
       "      <th></th>\n",
       "      <th>eventBegin</th>\n",
       "      <th>team2</th>\n",
       "      <th>team1</th>\n",
       "      <th>score2</th>\n",
       "      <th>score1</th>\n",
       "      <th>RefOdd2</th>\n",
       "      <th>RefOddX</th>\n",
       "      <th>RefOdd1</th>\n",
       "      <th>RefOddOver</th>\n",
       "    </tr>\n",
       "  </thead>\n",
       "  <tbody>\n",
       "    <tr>\n",
       "      <th>0</th>\n",
       "      <td>2015-01-30 20:35:32</td>\n",
       "      <td>Bayern München</td>\n",
       "      <td>VfL Wolfsburg</td>\n",
       "      <td>1</td>\n",
       "      <td>4</td>\n",
       "      <td>1.51180</td>\n",
       "      <td>4.85413</td>\n",
       "      <td>7.49272</td>\n",
       "      <td>1.69718</td>\n",
       "    </tr>\n",
       "    <tr>\n",
       "      <th>1</th>\n",
       "      <td>2015-01-31 15:30:19</td>\n",
       "      <td>Eintracht Frankfurt</td>\n",
       "      <td>SC Freiburg</td>\n",
       "      <td>1</td>\n",
       "      <td>4</td>\n",
       "      <td>2.42760</td>\n",
       "      <td>3.94175</td>\n",
       "      <td>2.97516</td>\n",
       "      <td>1.70712</td>\n",
       "    </tr>\n",
       "    <tr>\n",
       "      <th>2</th>\n",
       "      <td>2015-01-31 15:30:56</td>\n",
       "      <td>1.FC Köln</td>\n",
       "      <td>Hamburger SV</td>\n",
       "      <td>2</td>\n",
       "      <td>0</td>\n",
       "      <td>3.26786</td>\n",
       "      <td>3.33901</td>\n",
       "      <td>2.54718</td>\n",
       "      <td>2.59439</td>\n",
       "    </tr>\n",
       "    <tr>\n",
       "      <th>3</th>\n",
       "      <td>2015-01-31 15:31:11</td>\n",
       "      <td>Hannover 96</td>\n",
       "      <td>Schalke 04</td>\n",
       "      <td>0</td>\n",
       "      <td>1</td>\n",
       "      <td>3.88638</td>\n",
       "      <td>3.81712</td>\n",
       "      <td>2.07487</td>\n",
       "      <td>1.82383</td>\n",
       "    </tr>\n",
       "    <tr>\n",
       "      <th>4</th>\n",
       "      <td>2015-01-31 15:31:21</td>\n",
       "      <td>SC Paderborn</td>\n",
       "      <td>FSV Mainz 05</td>\n",
       "      <td>0</td>\n",
       "      <td>5</td>\n",
       "      <td>4.25880</td>\n",
       "      <td>3.76686</td>\n",
       "      <td>2.00676</td>\n",
       "      <td>1.87892</td>\n",
       "    </tr>\n",
       "  </tbody>\n",
       "</table>\n",
       "</div>"
      ],
      "text/plain": [
       "            eventBegin                team2          team1 score2 score1  \\\n",
       "0  2015-01-30 20:35:32       Bayern München  VfL Wolfsburg      1      4   \n",
       "1  2015-01-31 15:30:19  Eintracht Frankfurt    SC Freiburg      1      4   \n",
       "2  2015-01-31 15:30:56            1.FC Köln   Hamburger SV      2      0   \n",
       "3  2015-01-31 15:31:11          Hannover 96     Schalke 04      0      1   \n",
       "4  2015-01-31 15:31:21         SC Paderborn   FSV Mainz 05      0      5   \n",
       "\n",
       "   RefOdd2  RefOddX  RefOdd1  RefOddOver  \n",
       "0  1.51180  4.85413  7.49272     1.69718  \n",
       "1  2.42760  3.94175  2.97516     1.70712  \n",
       "2  3.26786  3.33901  2.54718     2.59439  \n",
       "3  3.88638  3.81712  2.07487     1.82383  \n",
       "4  4.25880  3.76686  2.00676     1.87892  "
      ]
     },
     "execution_count": 22,
     "metadata": {},
     "output_type": "execute_result"
    }
   ],
   "source": [
    "matches_away.head()"
   ]
  },
  {
   "cell_type": "code",
   "execution_count": 23,
   "id": "c8277088",
   "metadata": {},
   "outputs": [],
   "source": [
    "#rename columns team2, team1, score2, score1, RefOdd1, RefOdd2\n",
    "matches_away = matches_away.rename(columns={\"team2\": \"team1\", \"team1\": \"team2\", \n",
    "                                           \"score2\": \"score1\", \"score1\":\"score2\",\n",
    "                                           \"RefOdd2\": \"RefOdd1\", \"RefOdd1\": \"RefOdd2\"})"
   ]
  },
  {
   "cell_type": "code",
   "execution_count": 24,
   "id": "12884963",
   "metadata": {},
   "outputs": [],
   "source": [
    "matches_away.loc[:, \"home\"] = 0"
   ]
  },
  {
   "cell_type": "code",
   "execution_count": 25,
   "id": "91e3edf7",
   "metadata": {},
   "outputs": [
    {
     "data": {
      "text/html": [
       "<div>\n",
       "<style scoped>\n",
       "    .dataframe tbody tr th:only-of-type {\n",
       "        vertical-align: middle;\n",
       "    }\n",
       "\n",
       "    .dataframe tbody tr th {\n",
       "        vertical-align: top;\n",
       "    }\n",
       "\n",
       "    .dataframe thead th {\n",
       "        text-align: right;\n",
       "    }\n",
       "</style>\n",
       "<table border=\"1\" class=\"dataframe\">\n",
       "  <thead>\n",
       "    <tr style=\"text-align: right;\">\n",
       "      <th></th>\n",
       "      <th>eventBegin</th>\n",
       "      <th>team1</th>\n",
       "      <th>team2</th>\n",
       "      <th>score1</th>\n",
       "      <th>score2</th>\n",
       "      <th>RefOdd1</th>\n",
       "      <th>RefOddX</th>\n",
       "      <th>RefOdd2</th>\n",
       "      <th>RefOddOver</th>\n",
       "      <th>home</th>\n",
       "    </tr>\n",
       "  </thead>\n",
       "  <tbody>\n",
       "    <tr>\n",
       "      <th>0</th>\n",
       "      <td>2015-01-30 20:35:32</td>\n",
       "      <td>Bayern München</td>\n",
       "      <td>VfL Wolfsburg</td>\n",
       "      <td>1</td>\n",
       "      <td>4</td>\n",
       "      <td>1.51180</td>\n",
       "      <td>4.85413</td>\n",
       "      <td>7.49272</td>\n",
       "      <td>1.69718</td>\n",
       "      <td>0</td>\n",
       "    </tr>\n",
       "    <tr>\n",
       "      <th>1</th>\n",
       "      <td>2015-01-31 15:30:19</td>\n",
       "      <td>Eintracht Frankfurt</td>\n",
       "      <td>SC Freiburg</td>\n",
       "      <td>1</td>\n",
       "      <td>4</td>\n",
       "      <td>2.42760</td>\n",
       "      <td>3.94175</td>\n",
       "      <td>2.97516</td>\n",
       "      <td>1.70712</td>\n",
       "      <td>0</td>\n",
       "    </tr>\n",
       "    <tr>\n",
       "      <th>2</th>\n",
       "      <td>2015-01-31 15:30:56</td>\n",
       "      <td>1.FC Köln</td>\n",
       "      <td>Hamburger SV</td>\n",
       "      <td>2</td>\n",
       "      <td>0</td>\n",
       "      <td>3.26786</td>\n",
       "      <td>3.33901</td>\n",
       "      <td>2.54718</td>\n",
       "      <td>2.59439</td>\n",
       "      <td>0</td>\n",
       "    </tr>\n",
       "    <tr>\n",
       "      <th>3</th>\n",
       "      <td>2015-01-31 15:31:11</td>\n",
       "      <td>Hannover 96</td>\n",
       "      <td>Schalke 04</td>\n",
       "      <td>0</td>\n",
       "      <td>1</td>\n",
       "      <td>3.88638</td>\n",
       "      <td>3.81712</td>\n",
       "      <td>2.07487</td>\n",
       "      <td>1.82383</td>\n",
       "      <td>0</td>\n",
       "    </tr>\n",
       "    <tr>\n",
       "      <th>4</th>\n",
       "      <td>2015-01-31 15:31:21</td>\n",
       "      <td>SC Paderborn</td>\n",
       "      <td>FSV Mainz 05</td>\n",
       "      <td>0</td>\n",
       "      <td>5</td>\n",
       "      <td>4.25880</td>\n",
       "      <td>3.76686</td>\n",
       "      <td>2.00676</td>\n",
       "      <td>1.87892</td>\n",
       "      <td>0</td>\n",
       "    </tr>\n",
       "  </tbody>\n",
       "</table>\n",
       "</div>"
      ],
      "text/plain": [
       "            eventBegin                team1          team2 score1 score2  \\\n",
       "0  2015-01-30 20:35:32       Bayern München  VfL Wolfsburg      1      4   \n",
       "1  2015-01-31 15:30:19  Eintracht Frankfurt    SC Freiburg      1      4   \n",
       "2  2015-01-31 15:30:56            1.FC Köln   Hamburger SV      2      0   \n",
       "3  2015-01-31 15:31:11          Hannover 96     Schalke 04      0      1   \n",
       "4  2015-01-31 15:31:21         SC Paderborn   FSV Mainz 05      0      5   \n",
       "\n",
       "   RefOdd1  RefOddX  RefOdd2  RefOddOver  home  \n",
       "0  1.51180  4.85413  7.49272     1.69718     0  \n",
       "1  2.42760  3.94175  2.97516     1.70712     0  \n",
       "2  3.26786  3.33901  2.54718     2.59439     0  \n",
       "3  3.88638  3.81712  2.07487     1.82383     0  \n",
       "4  4.25880  3.76686  2.00676     1.87892     0  "
      ]
     },
     "execution_count": 25,
     "metadata": {},
     "output_type": "execute_result"
    }
   ],
   "source": [
    "matches_away.head()"
   ]
  },
  {
   "cell_type": "code",
   "execution_count": 26,
   "id": "24b6017c",
   "metadata": {},
   "outputs": [],
   "source": [
    "matches_compl = pd.concat([matches, matches_away], axis=0)"
   ]
  },
  {
   "cell_type": "code",
   "execution_count": 27,
   "id": "005d70d4",
   "metadata": {},
   "outputs": [
    {
     "data": {
      "text/html": [
       "<div>\n",
       "<style scoped>\n",
       "    .dataframe tbody tr th:only-of-type {\n",
       "        vertical-align: middle;\n",
       "    }\n",
       "\n",
       "    .dataframe tbody tr th {\n",
       "        vertical-align: top;\n",
       "    }\n",
       "\n",
       "    .dataframe thead th {\n",
       "        text-align: right;\n",
       "    }\n",
       "</style>\n",
       "<table border=\"1\" class=\"dataframe\">\n",
       "  <thead>\n",
       "    <tr style=\"text-align: right;\">\n",
       "      <th></th>\n",
       "      <th>eventBegin</th>\n",
       "      <th>team1</th>\n",
       "      <th>team2</th>\n",
       "      <th>score1</th>\n",
       "      <th>score2</th>\n",
       "      <th>RefOdd1</th>\n",
       "      <th>RefOddX</th>\n",
       "      <th>RefOdd2</th>\n",
       "      <th>RefOddOver</th>\n",
       "      <th>home</th>\n",
       "    </tr>\n",
       "  </thead>\n",
       "  <tbody>\n",
       "    <tr>\n",
       "      <th>0</th>\n",
       "      <td>2015-01-30 20:35:32</td>\n",
       "      <td>VfL Wolfsburg</td>\n",
       "      <td>Bayern München</td>\n",
       "      <td>4</td>\n",
       "      <td>1</td>\n",
       "      <td>7.49272</td>\n",
       "      <td>4.85413</td>\n",
       "      <td>1.51180</td>\n",
       "      <td>1.69718</td>\n",
       "      <td>1</td>\n",
       "    </tr>\n",
       "    <tr>\n",
       "      <th>1</th>\n",
       "      <td>2015-01-31 15:30:19</td>\n",
       "      <td>SC Freiburg</td>\n",
       "      <td>Eintracht Frankfurt</td>\n",
       "      <td>4</td>\n",
       "      <td>1</td>\n",
       "      <td>2.97516</td>\n",
       "      <td>3.94175</td>\n",
       "      <td>2.42760</td>\n",
       "      <td>1.70712</td>\n",
       "      <td>1</td>\n",
       "    </tr>\n",
       "    <tr>\n",
       "      <th>2</th>\n",
       "      <td>2015-01-31 15:30:56</td>\n",
       "      <td>Hamburger SV</td>\n",
       "      <td>1.FC Köln</td>\n",
       "      <td>0</td>\n",
       "      <td>2</td>\n",
       "      <td>2.54718</td>\n",
       "      <td>3.33901</td>\n",
       "      <td>3.26786</td>\n",
       "      <td>2.59439</td>\n",
       "      <td>1</td>\n",
       "    </tr>\n",
       "    <tr>\n",
       "      <th>3</th>\n",
       "      <td>2015-01-31 15:31:11</td>\n",
       "      <td>Schalke 04</td>\n",
       "      <td>Hannover 96</td>\n",
       "      <td>1</td>\n",
       "      <td>0</td>\n",
       "      <td>2.07487</td>\n",
       "      <td>3.81712</td>\n",
       "      <td>3.88638</td>\n",
       "      <td>1.82383</td>\n",
       "      <td>1</td>\n",
       "    </tr>\n",
       "    <tr>\n",
       "      <th>4</th>\n",
       "      <td>2015-01-31 15:31:21</td>\n",
       "      <td>FSV Mainz 05</td>\n",
       "      <td>SC Paderborn</td>\n",
       "      <td>5</td>\n",
       "      <td>0</td>\n",
       "      <td>2.00676</td>\n",
       "      <td>3.76686</td>\n",
       "      <td>4.25880</td>\n",
       "      <td>1.87892</td>\n",
       "      <td>1</td>\n",
       "    </tr>\n",
       "  </tbody>\n",
       "</table>\n",
       "</div>"
      ],
      "text/plain": [
       "            eventBegin          team1                team2 score1 score2  \\\n",
       "0  2015-01-30 20:35:32  VfL Wolfsburg       Bayern München      4      1   \n",
       "1  2015-01-31 15:30:19    SC Freiburg  Eintracht Frankfurt      4      1   \n",
       "2  2015-01-31 15:30:56   Hamburger SV            1.FC Köln      0      2   \n",
       "3  2015-01-31 15:31:11     Schalke 04          Hannover 96      1      0   \n",
       "4  2015-01-31 15:31:21   FSV Mainz 05         SC Paderborn      5      0   \n",
       "\n",
       "   RefOdd1  RefOddX  RefOdd2  RefOddOver  home  \n",
       "0  7.49272  4.85413  1.51180     1.69718     1  \n",
       "1  2.97516  3.94175  2.42760     1.70712     1  \n",
       "2  2.54718  3.33901  3.26786     2.59439     1  \n",
       "3  2.07487  3.81712  3.88638     1.82383     1  \n",
       "4  2.00676  3.76686  4.25880     1.87892     1  "
      ]
     },
     "execution_count": 27,
     "metadata": {},
     "output_type": "execute_result"
    }
   ],
   "source": [
    "matches_compl.head()"
   ]
  },
  {
   "cell_type": "code",
   "execution_count": 28,
   "id": "931bb06e",
   "metadata": {},
   "outputs": [],
   "source": [
    "matches_compl = matches_compl.reset_index()"
   ]
  },
  {
   "cell_type": "code",
   "execution_count": 29,
   "id": "39b4a15d",
   "metadata": {},
   "outputs": [
    {
     "data": {
      "text/html": [
       "<div>\n",
       "<style scoped>\n",
       "    .dataframe tbody tr th:only-of-type {\n",
       "        vertical-align: middle;\n",
       "    }\n",
       "\n",
       "    .dataframe tbody tr th {\n",
       "        vertical-align: top;\n",
       "    }\n",
       "\n",
       "    .dataframe thead th {\n",
       "        text-align: right;\n",
       "    }\n",
       "</style>\n",
       "<table border=\"1\" class=\"dataframe\">\n",
       "  <thead>\n",
       "    <tr style=\"text-align: right;\">\n",
       "      <th></th>\n",
       "      <th>index</th>\n",
       "      <th>eventBegin</th>\n",
       "      <th>team1</th>\n",
       "      <th>team2</th>\n",
       "      <th>score1</th>\n",
       "      <th>score2</th>\n",
       "      <th>RefOdd1</th>\n",
       "      <th>RefOddX</th>\n",
       "      <th>RefOdd2</th>\n",
       "      <th>RefOddOver</th>\n",
       "      <th>home</th>\n",
       "    </tr>\n",
       "  </thead>\n",
       "  <tbody>\n",
       "    <tr>\n",
       "      <th>0</th>\n",
       "      <td>0</td>\n",
       "      <td>2015-01-30 20:35:32</td>\n",
       "      <td>VfL Wolfsburg</td>\n",
       "      <td>Bayern München</td>\n",
       "      <td>4</td>\n",
       "      <td>1</td>\n",
       "      <td>7.49272</td>\n",
       "      <td>4.85413</td>\n",
       "      <td>1.51180</td>\n",
       "      <td>1.69718</td>\n",
       "      <td>1</td>\n",
       "    </tr>\n",
       "    <tr>\n",
       "      <th>1</th>\n",
       "      <td>1</td>\n",
       "      <td>2015-01-31 15:30:19</td>\n",
       "      <td>SC Freiburg</td>\n",
       "      <td>Eintracht Frankfurt</td>\n",
       "      <td>4</td>\n",
       "      <td>1</td>\n",
       "      <td>2.97516</td>\n",
       "      <td>3.94175</td>\n",
       "      <td>2.42760</td>\n",
       "      <td>1.70712</td>\n",
       "      <td>1</td>\n",
       "    </tr>\n",
       "    <tr>\n",
       "      <th>2</th>\n",
       "      <td>2</td>\n",
       "      <td>2015-01-31 15:30:56</td>\n",
       "      <td>Hamburger SV</td>\n",
       "      <td>1.FC Köln</td>\n",
       "      <td>0</td>\n",
       "      <td>2</td>\n",
       "      <td>2.54718</td>\n",
       "      <td>3.33901</td>\n",
       "      <td>3.26786</td>\n",
       "      <td>2.59439</td>\n",
       "      <td>1</td>\n",
       "    </tr>\n",
       "    <tr>\n",
       "      <th>3</th>\n",
       "      <td>3</td>\n",
       "      <td>2015-01-31 15:31:11</td>\n",
       "      <td>Schalke 04</td>\n",
       "      <td>Hannover 96</td>\n",
       "      <td>1</td>\n",
       "      <td>0</td>\n",
       "      <td>2.07487</td>\n",
       "      <td>3.81712</td>\n",
       "      <td>3.88638</td>\n",
       "      <td>1.82383</td>\n",
       "      <td>1</td>\n",
       "    </tr>\n",
       "    <tr>\n",
       "      <th>4</th>\n",
       "      <td>4</td>\n",
       "      <td>2015-01-31 15:31:21</td>\n",
       "      <td>FSV Mainz 05</td>\n",
       "      <td>SC Paderborn</td>\n",
       "      <td>5</td>\n",
       "      <td>0</td>\n",
       "      <td>2.00676</td>\n",
       "      <td>3.76686</td>\n",
       "      <td>4.25880</td>\n",
       "      <td>1.87892</td>\n",
       "      <td>1</td>\n",
       "    </tr>\n",
       "  </tbody>\n",
       "</table>\n",
       "</div>"
      ],
      "text/plain": [
       "   index           eventBegin          team1                team2 score1  \\\n",
       "0      0  2015-01-30 20:35:32  VfL Wolfsburg       Bayern München      4   \n",
       "1      1  2015-01-31 15:30:19    SC Freiburg  Eintracht Frankfurt      4   \n",
       "2      2  2015-01-31 15:30:56   Hamburger SV            1.FC Köln      0   \n",
       "3      3  2015-01-31 15:31:11     Schalke 04          Hannover 96      1   \n",
       "4      4  2015-01-31 15:31:21   FSV Mainz 05         SC Paderborn      5   \n",
       "\n",
       "  score2  RefOdd1  RefOddX  RefOdd2  RefOddOver  home  \n",
       "0      1  7.49272  4.85413  1.51180     1.69718     1  \n",
       "1      1  2.97516  3.94175  2.42760     1.70712     1  \n",
       "2      2  2.54718  3.33901  3.26786     2.59439     1  \n",
       "3      0  2.07487  3.81712  3.88638     1.82383     1  \n",
       "4      0  2.00676  3.76686  4.25880     1.87892     1  "
      ]
     },
     "execution_count": 29,
     "metadata": {},
     "output_type": "execute_result"
    }
   ],
   "source": [
    "matches_compl.head()"
   ]
  },
  {
   "cell_type": "code",
   "execution_count": 30,
   "id": "6b201a86",
   "metadata": {},
   "outputs": [],
   "source": [
    "matches_compl = matches_compl.sort_values(by=[\"index\", \"home\"], ascending=[True, False])"
   ]
  },
  {
   "cell_type": "code",
   "execution_count": 31,
   "id": "64735e9d",
   "metadata": {},
   "outputs": [],
   "source": [
    "matches_compl = matches_compl.reset_index(drop=True)"
   ]
  },
  {
   "cell_type": "code",
   "execution_count": 32,
   "id": "ef13dca0",
   "metadata": {},
   "outputs": [],
   "source": [
    "matches_compl = matches_compl.drop(columns=\"index\")"
   ]
  },
  {
   "cell_type": "code",
   "execution_count": 33,
   "id": "6793b17f",
   "metadata": {},
   "outputs": [
    {
     "data": {
      "text/html": [
       "<div>\n",
       "<style scoped>\n",
       "    .dataframe tbody tr th:only-of-type {\n",
       "        vertical-align: middle;\n",
       "    }\n",
       "\n",
       "    .dataframe tbody tr th {\n",
       "        vertical-align: top;\n",
       "    }\n",
       "\n",
       "    .dataframe thead th {\n",
       "        text-align: right;\n",
       "    }\n",
       "</style>\n",
       "<table border=\"1\" class=\"dataframe\">\n",
       "  <thead>\n",
       "    <tr style=\"text-align: right;\">\n",
       "      <th></th>\n",
       "      <th>eventBegin</th>\n",
       "      <th>team1</th>\n",
       "      <th>team2</th>\n",
       "      <th>score1</th>\n",
       "      <th>score2</th>\n",
       "      <th>RefOdd1</th>\n",
       "      <th>RefOddX</th>\n",
       "      <th>RefOdd2</th>\n",
       "      <th>RefOddOver</th>\n",
       "      <th>home</th>\n",
       "    </tr>\n",
       "  </thead>\n",
       "  <tbody>\n",
       "    <tr>\n",
       "      <th>0</th>\n",
       "      <td>2015-01-30 20:35:32</td>\n",
       "      <td>VfL Wolfsburg</td>\n",
       "      <td>Bayern München</td>\n",
       "      <td>4</td>\n",
       "      <td>1</td>\n",
       "      <td>7.49272</td>\n",
       "      <td>4.85413</td>\n",
       "      <td>1.51180</td>\n",
       "      <td>1.69718</td>\n",
       "      <td>1</td>\n",
       "    </tr>\n",
       "    <tr>\n",
       "      <th>1</th>\n",
       "      <td>2015-01-30 20:35:32</td>\n",
       "      <td>Bayern München</td>\n",
       "      <td>VfL Wolfsburg</td>\n",
       "      <td>1</td>\n",
       "      <td>4</td>\n",
       "      <td>1.51180</td>\n",
       "      <td>4.85413</td>\n",
       "      <td>7.49272</td>\n",
       "      <td>1.69718</td>\n",
       "      <td>0</td>\n",
       "    </tr>\n",
       "    <tr>\n",
       "      <th>2</th>\n",
       "      <td>2015-01-31 15:30:19</td>\n",
       "      <td>SC Freiburg</td>\n",
       "      <td>Eintracht Frankfurt</td>\n",
       "      <td>4</td>\n",
       "      <td>1</td>\n",
       "      <td>2.97516</td>\n",
       "      <td>3.94175</td>\n",
       "      <td>2.42760</td>\n",
       "      <td>1.70712</td>\n",
       "      <td>1</td>\n",
       "    </tr>\n",
       "    <tr>\n",
       "      <th>3</th>\n",
       "      <td>2015-01-31 15:30:19</td>\n",
       "      <td>Eintracht Frankfurt</td>\n",
       "      <td>SC Freiburg</td>\n",
       "      <td>1</td>\n",
       "      <td>4</td>\n",
       "      <td>2.42760</td>\n",
       "      <td>3.94175</td>\n",
       "      <td>2.97516</td>\n",
       "      <td>1.70712</td>\n",
       "      <td>0</td>\n",
       "    </tr>\n",
       "    <tr>\n",
       "      <th>4</th>\n",
       "      <td>2015-01-31 15:30:56</td>\n",
       "      <td>Hamburger SV</td>\n",
       "      <td>1.FC Köln</td>\n",
       "      <td>0</td>\n",
       "      <td>2</td>\n",
       "      <td>2.54718</td>\n",
       "      <td>3.33901</td>\n",
       "      <td>3.26786</td>\n",
       "      <td>2.59439</td>\n",
       "      <td>1</td>\n",
       "    </tr>\n",
       "    <tr>\n",
       "      <th>...</th>\n",
       "      <td>...</td>\n",
       "      <td>...</td>\n",
       "      <td>...</td>\n",
       "      <td>...</td>\n",
       "      <td>...</td>\n",
       "      <td>...</td>\n",
       "      <td>...</td>\n",
       "      <td>...</td>\n",
       "      <td>...</td>\n",
       "      <td>...</td>\n",
       "    </tr>\n",
       "    <tr>\n",
       "      <th>2927</th>\n",
       "      <td>2019-10-19 18:31:01</td>\n",
       "      <td>Borussia M'gladbach</td>\n",
       "      <td>Borussia Dortmund</td>\n",
       "      <td>0</td>\n",
       "      <td>1</td>\n",
       "      <td>6.25306</td>\n",
       "      <td>4.65549</td>\n",
       "      <td>1.59558</td>\n",
       "      <td>1.51266</td>\n",
       "      <td>0</td>\n",
       "    </tr>\n",
       "    <tr>\n",
       "      <th>2928</th>\n",
       "      <td>2019-10-20 15:31:16</td>\n",
       "      <td>1.FC Köln</td>\n",
       "      <td>SC Paderborn</td>\n",
       "      <td>3</td>\n",
       "      <td>0</td>\n",
       "      <td>1.77030</td>\n",
       "      <td>4.75075</td>\n",
       "      <td>4.49161</td>\n",
       "      <td>1.31833</td>\n",
       "      <td>1</td>\n",
       "    </tr>\n",
       "    <tr>\n",
       "      <th>2929</th>\n",
       "      <td>2019-10-20 15:31:16</td>\n",
       "      <td>SC Paderborn</td>\n",
       "      <td>1.FC Köln</td>\n",
       "      <td>0</td>\n",
       "      <td>3</td>\n",
       "      <td>4.49161</td>\n",
       "      <td>4.75075</td>\n",
       "      <td>1.77030</td>\n",
       "      <td>1.31833</td>\n",
       "      <td>0</td>\n",
       "    </tr>\n",
       "    <tr>\n",
       "      <th>2930</th>\n",
       "      <td>2019-10-20 18:01:33</td>\n",
       "      <td>1899 Hoffenheim</td>\n",
       "      <td>Schalke 04</td>\n",
       "      <td>2</td>\n",
       "      <td>0</td>\n",
       "      <td>2.76081</td>\n",
       "      <td>3.72033</td>\n",
       "      <td>2.72041</td>\n",
       "      <td>1.77509</td>\n",
       "      <td>1</td>\n",
       "    </tr>\n",
       "    <tr>\n",
       "      <th>2931</th>\n",
       "      <td>2019-10-20 18:01:33</td>\n",
       "      <td>Schalke 04</td>\n",
       "      <td>1899 Hoffenheim</td>\n",
       "      <td>0</td>\n",
       "      <td>2</td>\n",
       "      <td>2.72041</td>\n",
       "      <td>3.72033</td>\n",
       "      <td>2.76081</td>\n",
       "      <td>1.77509</td>\n",
       "      <td>0</td>\n",
       "    </tr>\n",
       "  </tbody>\n",
       "</table>\n",
       "<p>2932 rows × 10 columns</p>\n",
       "</div>"
      ],
      "text/plain": [
       "               eventBegin                team1                team2 score1  \\\n",
       "0     2015-01-30 20:35:32        VfL Wolfsburg       Bayern München      4   \n",
       "1     2015-01-30 20:35:32       Bayern München        VfL Wolfsburg      1   \n",
       "2     2015-01-31 15:30:19          SC Freiburg  Eintracht Frankfurt      4   \n",
       "3     2015-01-31 15:30:19  Eintracht Frankfurt          SC Freiburg      1   \n",
       "4     2015-01-31 15:30:56         Hamburger SV            1.FC Köln      0   \n",
       "...                   ...                  ...                  ...    ...   \n",
       "2927  2019-10-19 18:31:01  Borussia M'gladbach    Borussia Dortmund      0   \n",
       "2928  2019-10-20 15:31:16            1.FC Köln         SC Paderborn      3   \n",
       "2929  2019-10-20 15:31:16         SC Paderborn            1.FC Köln      0   \n",
       "2930  2019-10-20 18:01:33      1899 Hoffenheim           Schalke 04      2   \n",
       "2931  2019-10-20 18:01:33           Schalke 04      1899 Hoffenheim      0   \n",
       "\n",
       "     score2  RefOdd1  RefOddX  RefOdd2  RefOddOver  home  \n",
       "0         1  7.49272  4.85413  1.51180     1.69718     1  \n",
       "1         4  1.51180  4.85413  7.49272     1.69718     0  \n",
       "2         1  2.97516  3.94175  2.42760     1.70712     1  \n",
       "3         4  2.42760  3.94175  2.97516     1.70712     0  \n",
       "4         2  2.54718  3.33901  3.26786     2.59439     1  \n",
       "...     ...      ...      ...      ...         ...   ...  \n",
       "2927      1  6.25306  4.65549  1.59558     1.51266     0  \n",
       "2928      0  1.77030  4.75075  4.49161     1.31833     1  \n",
       "2929      3  4.49161  4.75075  1.77030     1.31833     0  \n",
       "2930      0  2.76081  3.72033  2.72041     1.77509     1  \n",
       "2931      2  2.72041  3.72033  2.76081     1.77509     0  \n",
       "\n",
       "[2932 rows x 10 columns]"
      ]
     },
     "execution_count": 33,
     "metadata": {},
     "output_type": "execute_result"
    }
   ],
   "source": [
    "matches_compl"
   ]
  },
  {
   "cell_type": "markdown",
   "id": "0e22bb3a",
   "metadata": {},
   "source": [
    "### Some overview over the data"
   ]
  },
  {
   "cell_type": "code",
   "execution_count": 34,
   "id": "221251f4",
   "metadata": {},
   "outputs": [
    {
     "data": {
      "text/plain": [
       "array(['VfL Wolfsburg', 'Bayern München', 'SC Freiburg',\n",
       "       'Eintracht Frankfurt', 'Hamburger SV', '1.FC Köln', 'Schalke 04',\n",
       "       'Hannover 96', 'FSV Mainz 05', 'SC Paderborn', 'VfB Stuttgart',\n",
       "       \"Borussia M'gladbach\", 'Bayer Leverkusen', 'Borussia Dortmund',\n",
       "       'Werder Bremen', 'Hertha BSC', 'FC Augsburg', '1899 Hoffenheim',\n",
       "       \"Bor. M'gladbach\", 'Paderborn', 'Bor. Dortmund', 'Wolfsburg',\n",
       "       'Hoffenheim', 'FSV Mainz', \"B. M'gladbach\", 'Mainz 05',\n",
       "       'Bay. München', 'Eint. Frankfurt', 'Eintr. Frankfurt', 'Augsburg',\n",
       "       \"M'gladbach\", 'B. Dortmund', 'FC Köln', 'Tabellendritter 2.BL',\n",
       "       'Karlsruher SC', 'FC Ingolstadt', 'SV Darmstadt 98',\n",
       "       'E. Frankfurt', 'Darmstadt 98', 'TSG 1899 Hoffenheim',\n",
       "       'Ingolstadt', 'Bayern Munich', 'Ein. Frankfurt', '1 FSV Mainz 05',\n",
       "       '1. FC Nürnberg', 'RB Leipzig', 'Freiburg', 'E. Braunschweig',\n",
       "       'Holstein Kiel', 'Fortuna Düsseldorf', 'B. Leverkusen',\n",
       "       'Fort. Düsseldorf', 'F. Düsseldorf', 'Union Berlin',\n",
       "       'FC Union Berlin'], dtype=object)"
      ]
     },
     "execution_count": 34,
     "metadata": {},
     "output_type": "execute_result"
    }
   ],
   "source": [
    "matches_compl.team1.unique()"
   ]
  },
  {
   "cell_type": "code",
   "execution_count": 35,
   "id": "8bb68da5",
   "metadata": {},
   "outputs": [
    {
     "data": {
      "text/plain": [
       "55"
      ]
     },
     "execution_count": 35,
     "metadata": {},
     "output_type": "execute_result"
    }
   ],
   "source": [
    "matches_compl.team1.nunique()"
   ]
  },
  {
   "cell_type": "code",
   "execution_count": 43,
   "id": "a0f63be0",
   "metadata": {},
   "outputs": [],
   "source": [
    "matches_compl.loc[:, \"clean_name\"] = matches_compl.apply(lambda row: clean_name(row), axis=1)"
   ]
  },
  {
   "cell_type": "code",
   "execution_count": 44,
   "id": "6995b5df",
   "metadata": {},
   "outputs": [
    {
     "data": {
      "text/html": [
       "<div>\n",
       "<style scoped>\n",
       "    .dataframe tbody tr th:only-of-type {\n",
       "        vertical-align: middle;\n",
       "    }\n",
       "\n",
       "    .dataframe tbody tr th {\n",
       "        vertical-align: top;\n",
       "    }\n",
       "\n",
       "    .dataframe thead th {\n",
       "        text-align: right;\n",
       "    }\n",
       "</style>\n",
       "<table border=\"1\" class=\"dataframe\">\n",
       "  <thead>\n",
       "    <tr style=\"text-align: right;\">\n",
       "      <th></th>\n",
       "      <th>eventBegin</th>\n",
       "      <th>team1</th>\n",
       "      <th>team2</th>\n",
       "      <th>score1</th>\n",
       "      <th>score2</th>\n",
       "      <th>RefOdd1</th>\n",
       "      <th>RefOddX</th>\n",
       "      <th>RefOdd2</th>\n",
       "      <th>RefOddOver</th>\n",
       "      <th>home</th>\n",
       "      <th>clean_name</th>\n",
       "    </tr>\n",
       "  </thead>\n",
       "  <tbody>\n",
       "    <tr>\n",
       "      <th>0</th>\n",
       "      <td>2015-01-30 20:35:32</td>\n",
       "      <td>VfL Wolfsburg</td>\n",
       "      <td>Bayern München</td>\n",
       "      <td>4</td>\n",
       "      <td>1</td>\n",
       "      <td>7.49272</td>\n",
       "      <td>4.85413</td>\n",
       "      <td>1.51180</td>\n",
       "      <td>1.69718</td>\n",
       "      <td>1</td>\n",
       "      <td>Wolfsburg</td>\n",
       "    </tr>\n",
       "    <tr>\n",
       "      <th>1</th>\n",
       "      <td>2015-01-30 20:35:32</td>\n",
       "      <td>Bayern München</td>\n",
       "      <td>VfL Wolfsburg</td>\n",
       "      <td>1</td>\n",
       "      <td>4</td>\n",
       "      <td>1.51180</td>\n",
       "      <td>4.85413</td>\n",
       "      <td>7.49272</td>\n",
       "      <td>1.69718</td>\n",
       "      <td>0</td>\n",
       "      <td>München</td>\n",
       "    </tr>\n",
       "    <tr>\n",
       "      <th>2</th>\n",
       "      <td>2015-01-31 15:30:19</td>\n",
       "      <td>SC Freiburg</td>\n",
       "      <td>Eintracht Frankfurt</td>\n",
       "      <td>4</td>\n",
       "      <td>1</td>\n",
       "      <td>2.97516</td>\n",
       "      <td>3.94175</td>\n",
       "      <td>2.42760</td>\n",
       "      <td>1.70712</td>\n",
       "      <td>1</td>\n",
       "      <td>Freiburg</td>\n",
       "    </tr>\n",
       "    <tr>\n",
       "      <th>3</th>\n",
       "      <td>2015-01-31 15:30:19</td>\n",
       "      <td>Eintracht Frankfurt</td>\n",
       "      <td>SC Freiburg</td>\n",
       "      <td>1</td>\n",
       "      <td>4</td>\n",
       "      <td>2.42760</td>\n",
       "      <td>3.94175</td>\n",
       "      <td>2.97516</td>\n",
       "      <td>1.70712</td>\n",
       "      <td>0</td>\n",
       "      <td>Frankfurt</td>\n",
       "    </tr>\n",
       "    <tr>\n",
       "      <th>4</th>\n",
       "      <td>2015-01-31 15:30:56</td>\n",
       "      <td>Hamburger SV</td>\n",
       "      <td>1.FC Köln</td>\n",
       "      <td>0</td>\n",
       "      <td>2</td>\n",
       "      <td>2.54718</td>\n",
       "      <td>3.33901</td>\n",
       "      <td>3.26786</td>\n",
       "      <td>2.59439</td>\n",
       "      <td>1</td>\n",
       "      <td>Hamburger</td>\n",
       "    </tr>\n",
       "  </tbody>\n",
       "</table>\n",
       "</div>"
      ],
      "text/plain": [
       "            eventBegin                team1                team2 score1  \\\n",
       "0  2015-01-30 20:35:32        VfL Wolfsburg       Bayern München      4   \n",
       "1  2015-01-30 20:35:32       Bayern München        VfL Wolfsburg      1   \n",
       "2  2015-01-31 15:30:19          SC Freiburg  Eintracht Frankfurt      4   \n",
       "3  2015-01-31 15:30:19  Eintracht Frankfurt          SC Freiburg      1   \n",
       "4  2015-01-31 15:30:56         Hamburger SV            1.FC Köln      0   \n",
       "\n",
       "  score2  RefOdd1  RefOddX  RefOdd2  RefOddOver  home clean_name  \n",
       "0      1  7.49272  4.85413  1.51180     1.69718     1  Wolfsburg  \n",
       "1      4  1.51180  4.85413  7.49272     1.69718     0    München  \n",
       "2      1  2.97516  3.94175  2.42760     1.70712     1   Freiburg  \n",
       "3      4  2.42760  3.94175  2.97516     1.70712     0  Frankfurt  \n",
       "4      2  2.54718  3.33901  3.26786     2.59439     1  Hamburger  "
      ]
     },
     "execution_count": 44,
     "metadata": {},
     "output_type": "execute_result"
    }
   ],
   "source": [
    "matches_compl.head()"
   ]
  },
  {
   "cell_type": "code",
   "execution_count": 48,
   "id": "a292dd5a",
   "metadata": {},
   "outputs": [
    {
     "data": {
      "text/plain": [
       "(2932, 11)"
      ]
     },
     "execution_count": 48,
     "metadata": {},
     "output_type": "execute_result"
    }
   ],
   "source": [
    "matches_compl.shape"
   ]
  },
  {
   "cell_type": "code",
   "execution_count": 50,
   "id": "9774d9b7",
   "metadata": {},
   "outputs": [
    {
     "data": {
      "text/plain": [
       "(2931, 11)"
      ]
     },
     "execution_count": 50,
     "metadata": {},
     "output_type": "execute_result"
    }
   ],
   "source": [
    "matches_compl.loc[matches_compl.clean_name != \"Tabellendritter\", ].shape"
   ]
  },
  {
   "cell_type": "code",
   "execution_count": 184,
   "id": "a50315ad",
   "metadata": {},
   "outputs": [
    {
     "data": {
      "text/plain": [
       "0       True\n",
       "1       True\n",
       "2       True\n",
       "3       True\n",
       "4       True\n",
       "        ... \n",
       "2927    True\n",
       "2928    True\n",
       "2929    True\n",
       "2930    True\n",
       "2931    True\n",
       "Name: score1, Length: 2931, dtype: bool"
      ]
     },
     "execution_count": 184,
     "metadata": {},
     "output_type": "execute_result"
    }
   ],
   "source": [
    "~matches_compl[\"score1\"].isna()"
   ]
  },
  {
   "cell_type": "code",
   "execution_count": 183,
   "id": "eed0eabb",
   "metadata": {},
   "outputs": [
    {
     "data": {
      "text/plain": [
       "0       False\n",
       "1       False\n",
       "2       False\n",
       "3       False\n",
       "4       False\n",
       "        ...  \n",
       "2927    False\n",
       "2928    False\n",
       "2929    False\n",
       "2930    False\n",
       "2931    False\n",
       "Name: score1, Length: 2931, dtype: bool"
      ]
     },
     "execution_count": 183,
     "metadata": {},
     "output_type": "execute_result"
    }
   ],
   "source": [
    "matches_compl[\"score1\"].isna()"
   ]
  },
  {
   "cell_type": "code",
   "execution_count": 185,
   "id": "3f569d5b",
   "metadata": {},
   "outputs": [],
   "source": [
    "#Drop Tabellendritter rows completely\n",
    "matches_compl = matches_compl.loc[matches_compl.clean_name != \"Tabellendritter\", ]\n",
    "#drop NA rows completely\n",
    "matches_compl = matches_compl.loc[~matches_compl[\"score1\"].isna(), ]"
   ]
  },
  {
   "cell_type": "code",
   "execution_count": 52,
   "id": "e117e473",
   "metadata": {},
   "outputs": [
    {
     "data": {
      "text/plain": [
       "array(['Wolfsburg', 'München', 'Freiburg', 'Frankfurt', 'Hamburger',\n",
       "       'Köln', 'Schalke', 'Hannover', 'Mainz', 'Paderborn', 'Stuttgart',\n",
       "       \"M'gladbach\", 'Leverkusen', 'Dortmund', 'Werder', 'Hertha',\n",
       "       'Augsburg', 'Hoffenheim', 'Karlsruher', 'Ingolstadt', 'Darmstadt',\n",
       "       'Nürnberg', 'Leipzig', 'Braunschweig', 'Holstein', 'Düsseldorf',\n",
       "       'Berlin'], dtype=object)"
      ]
     },
     "execution_count": 52,
     "metadata": {},
     "output_type": "execute_result"
    }
   ],
   "source": [
    "matches_compl.clean_name.unique()"
   ]
  },
  {
   "cell_type": "code",
   "execution_count": 53,
   "id": "1db71c0d",
   "metadata": {},
   "outputs": [
    {
     "data": {
      "text/plain": [
       "27"
      ]
     },
     "execution_count": 53,
     "metadata": {},
     "output_type": "execute_result"
    }
   ],
   "source": [
    "len(matches_compl.clean_name.unique())"
   ]
  },
  {
   "cell_type": "code",
   "execution_count": 186,
   "id": "bfbe52e5",
   "metadata": {},
   "outputs": [],
   "source": [
    "raw_names = matches_compl.clean_name.unique()"
   ]
  },
  {
   "cell_type": "code",
   "execution_count": 187,
   "id": "11ce4996",
   "metadata": {},
   "outputs": [],
   "source": [
    "team_names = [\"VfL Wolfsburg\", \"Bayern München\", \"SC Freiburg\", \"Eintracht Frankfurt\", \"Hamburger SV\", \"1.FC Köln\",\n",
    "             \"Schalke 04\", \"Hannover 96\", \"Mainz 05\", \"Paderborn SC\", \"VfB Stuttgart\", \"Borussia M'gladbach\",\n",
    "             \"Bayer Leverkusen\", \"Borussia Dortmund\", \"Werder Bremen\", \"Hertha BSC\", \"FC Augsburg\", \"TSG Hoffenheim\", \n",
    "             \"Karlsruher SC\", \"FC Ingolstadt\", \"SV Darmstadt\", \"FC Nürnberg\", \"RB Leipzig\", \"Eintracht Braunschweig\",\n",
    "             \"Holstein Kiel\", \"Fortuna Düsseldorf\", \"Union Berlin\"]"
   ]
  },
  {
   "cell_type": "code",
   "execution_count": 55,
   "id": "4315fe75",
   "metadata": {},
   "outputs": [
    {
     "data": {
      "text/plain": [
       "27"
      ]
     },
     "execution_count": 55,
     "metadata": {},
     "output_type": "execute_result"
    }
   ],
   "source": [
    "len(team_names)"
   ]
  },
  {
   "cell_type": "code",
   "execution_count": 188,
   "id": "a5ae6263",
   "metadata": {},
   "outputs": [],
   "source": [
    "team_dict = {}"
   ]
  },
  {
   "cell_type": "code",
   "execution_count": 189,
   "id": "5cc0bf97",
   "metadata": {},
   "outputs": [],
   "source": [
    "for i in range(len(team_names)):\n",
    "    team_dict[raw_names[i]] = team_names[i]"
   ]
  },
  {
   "cell_type": "code",
   "execution_count": 190,
   "id": "8f48f233",
   "metadata": {},
   "outputs": [
    {
     "data": {
      "text/plain": [
       "{'VfL Wolfsburg': 'VfL Wolfsburg',\n",
       " 'Bayern München': 'Bayern München',\n",
       " 'SC Freiburg': 'SC Freiburg',\n",
       " 'Eintracht Frankfurt': 'Eintracht Frankfurt',\n",
       " 'Hamburger SV': 'Hamburger SV',\n",
       " '1.FC Köln': '1.FC Köln',\n",
       " 'Schalke 04': 'Schalke 04',\n",
       " 'Hannover 96': 'Hannover 96',\n",
       " 'Mainz 05': 'Mainz 05',\n",
       " 'Paderborn SC': 'Paderborn SC',\n",
       " 'VfB Stuttgart': 'VfB Stuttgart',\n",
       " \"Borussia M'gladbach\": \"Borussia M'gladbach\",\n",
       " 'Bayer Leverkusen': 'Bayer Leverkusen',\n",
       " 'Borussia Dortmund': 'Borussia Dortmund',\n",
       " 'Werder Bremen': 'Werder Bremen',\n",
       " 'Hertha BSC': 'Hertha BSC',\n",
       " 'FC Augsburg': 'FC Augsburg',\n",
       " 'TSG Hoffenheim': 'TSG Hoffenheim',\n",
       " 'Karlsruher SC': 'Karlsruher SC',\n",
       " 'FC Ingolstadt': 'FC Ingolstadt',\n",
       " 'SV Darmstadt': 'SV Darmstadt',\n",
       " 'FC Nürnberg': 'FC Nürnberg',\n",
       " 'RB Leipzig': 'RB Leipzig',\n",
       " 'Eintracht Braunschweig': 'Eintracht Braunschweig',\n",
       " 'Holstein Kiel': 'Holstein Kiel',\n",
       " 'Fortuna Düsseldorf': 'Fortuna Düsseldorf',\n",
       " 'Union Berlin': 'Union Berlin'}"
      ]
     },
     "execution_count": 190,
     "metadata": {},
     "output_type": "execute_result"
    }
   ],
   "source": [
    "team_dict"
   ]
  },
  {
   "cell_type": "code",
   "execution_count": 191,
   "id": "0032df92",
   "metadata": {},
   "outputs": [],
   "source": [
    "matches_compl = matches_compl.replace({\"clean_name\": team_dict})"
   ]
  },
  {
   "cell_type": "code",
   "execution_count": 192,
   "id": "0ccdd4df",
   "metadata": {},
   "outputs": [
    {
     "data": {
      "text/html": [
       "<div>\n",
       "<style scoped>\n",
       "    .dataframe tbody tr th:only-of-type {\n",
       "        vertical-align: middle;\n",
       "    }\n",
       "\n",
       "    .dataframe tbody tr th {\n",
       "        vertical-align: top;\n",
       "    }\n",
       "\n",
       "    .dataframe thead th {\n",
       "        text-align: right;\n",
       "    }\n",
       "</style>\n",
       "<table border=\"1\" class=\"dataframe\">\n",
       "  <thead>\n",
       "    <tr style=\"text-align: right;\">\n",
       "      <th></th>\n",
       "      <th>eventBegin</th>\n",
       "      <th>team1</th>\n",
       "      <th>team2</th>\n",
       "      <th>score1</th>\n",
       "      <th>score2</th>\n",
       "      <th>RefOdd1</th>\n",
       "      <th>RefOddX</th>\n",
       "      <th>RefOdd2</th>\n",
       "      <th>RefOddOver</th>\n",
       "      <th>home</th>\n",
       "      <th>clean_name</th>\n",
       "    </tr>\n",
       "  </thead>\n",
       "  <tbody>\n",
       "    <tr>\n",
       "      <th>0</th>\n",
       "      <td>2015-01-30 20:35:32</td>\n",
       "      <td>VfL Wolfsburg</td>\n",
       "      <td>Bayern München</td>\n",
       "      <td>4</td>\n",
       "      <td>1</td>\n",
       "      <td>7.49272</td>\n",
       "      <td>4.85413</td>\n",
       "      <td>1.51180</td>\n",
       "      <td>1.69718</td>\n",
       "      <td>1</td>\n",
       "      <td>VfL Wolfsburg</td>\n",
       "    </tr>\n",
       "    <tr>\n",
       "      <th>1</th>\n",
       "      <td>2015-01-30 20:35:32</td>\n",
       "      <td>Bayern München</td>\n",
       "      <td>VfL Wolfsburg</td>\n",
       "      <td>1</td>\n",
       "      <td>4</td>\n",
       "      <td>1.51180</td>\n",
       "      <td>4.85413</td>\n",
       "      <td>7.49272</td>\n",
       "      <td>1.69718</td>\n",
       "      <td>0</td>\n",
       "      <td>Bayern München</td>\n",
       "    </tr>\n",
       "    <tr>\n",
       "      <th>2</th>\n",
       "      <td>2015-01-31 15:30:19</td>\n",
       "      <td>SC Freiburg</td>\n",
       "      <td>Eintracht Frankfurt</td>\n",
       "      <td>4</td>\n",
       "      <td>1</td>\n",
       "      <td>2.97516</td>\n",
       "      <td>3.94175</td>\n",
       "      <td>2.42760</td>\n",
       "      <td>1.70712</td>\n",
       "      <td>1</td>\n",
       "      <td>SC Freiburg</td>\n",
       "    </tr>\n",
       "    <tr>\n",
       "      <th>3</th>\n",
       "      <td>2015-01-31 15:30:19</td>\n",
       "      <td>Eintracht Frankfurt</td>\n",
       "      <td>SC Freiburg</td>\n",
       "      <td>1</td>\n",
       "      <td>4</td>\n",
       "      <td>2.42760</td>\n",
       "      <td>3.94175</td>\n",
       "      <td>2.97516</td>\n",
       "      <td>1.70712</td>\n",
       "      <td>0</td>\n",
       "      <td>Eintracht Frankfurt</td>\n",
       "    </tr>\n",
       "    <tr>\n",
       "      <th>4</th>\n",
       "      <td>2015-01-31 15:30:56</td>\n",
       "      <td>Hamburger SV</td>\n",
       "      <td>1.FC Köln</td>\n",
       "      <td>0</td>\n",
       "      <td>2</td>\n",
       "      <td>2.54718</td>\n",
       "      <td>3.33901</td>\n",
       "      <td>3.26786</td>\n",
       "      <td>2.59439</td>\n",
       "      <td>1</td>\n",
       "      <td>Hamburger SV</td>\n",
       "    </tr>\n",
       "  </tbody>\n",
       "</table>\n",
       "</div>"
      ],
      "text/plain": [
       "            eventBegin                team1                team2 score1  \\\n",
       "0  2015-01-30 20:35:32        VfL Wolfsburg       Bayern München      4   \n",
       "1  2015-01-30 20:35:32       Bayern München        VfL Wolfsburg      1   \n",
       "2  2015-01-31 15:30:19          SC Freiburg  Eintracht Frankfurt      4   \n",
       "3  2015-01-31 15:30:19  Eintracht Frankfurt          SC Freiburg      1   \n",
       "4  2015-01-31 15:30:56         Hamburger SV            1.FC Köln      0   \n",
       "\n",
       "  score2  RefOdd1  RefOddX  RefOdd2  RefOddOver  home           clean_name  \n",
       "0      1  7.49272  4.85413  1.51180     1.69718     1        VfL Wolfsburg  \n",
       "1      4  1.51180  4.85413  7.49272     1.69718     0       Bayern München  \n",
       "2      1  2.97516  3.94175  2.42760     1.70712     1          SC Freiburg  \n",
       "3      4  2.42760  3.94175  2.97516     1.70712     0  Eintracht Frankfurt  \n",
       "4      2  2.54718  3.33901  3.26786     2.59439     1         Hamburger SV  "
      ]
     },
     "execution_count": 192,
     "metadata": {},
     "output_type": "execute_result"
    }
   ],
   "source": [
    "matches_compl.head()"
   ]
  },
  {
   "cell_type": "code",
   "execution_count": 193,
   "id": "e399cac3",
   "metadata": {},
   "outputs": [
    {
     "data": {
      "text/plain": [
       "(2929, 11)"
      ]
     },
     "execution_count": 193,
     "metadata": {},
     "output_type": "execute_result"
    }
   ],
   "source": [
    "matches_compl.shape"
   ]
  },
  {
   "cell_type": "markdown",
   "id": "9e7cf943",
   "metadata": {},
   "source": [
    "## Preprocessing for Model"
   ]
  },
  {
   "cell_type": "code",
   "execution_count": 194,
   "id": "14904681",
   "metadata": {},
   "outputs": [],
   "source": [
    "from sklearn.preprocessing import OneHotEncoder"
   ]
  },
  {
   "cell_type": "code",
   "execution_count": 195,
   "id": "d75dded1",
   "metadata": {},
   "outputs": [],
   "source": [
    "oh_enc = OneHotEncoder(sparse_output=False)"
   ]
  },
  {
   "cell_type": "code",
   "execution_count": 196,
   "id": "f3267020",
   "metadata": {},
   "outputs": [],
   "source": [
    "import numpy as np"
   ]
  },
  {
   "cell_type": "code",
   "execution_count": 197,
   "id": "ea6e3214",
   "metadata": {},
   "outputs": [],
   "source": [
    "names_arr = np.array(matches_compl.clean_name)"
   ]
  },
  {
   "cell_type": "code",
   "execution_count": 198,
   "id": "725da9ed",
   "metadata": {},
   "outputs": [],
   "source": [
    "names_arr = names_arr.reshape(-1,1)"
   ]
  },
  {
   "cell_type": "code",
   "execution_count": 199,
   "id": "51330d21",
   "metadata": {},
   "outputs": [
    {
     "data": {
      "text/html": [
       "<style>#sk-container-id-9 {color: black;background-color: white;}#sk-container-id-9 pre{padding: 0;}#sk-container-id-9 div.sk-toggleable {background-color: white;}#sk-container-id-9 label.sk-toggleable__label {cursor: pointer;display: block;width: 100%;margin-bottom: 0;padding: 0.3em;box-sizing: border-box;text-align: center;}#sk-container-id-9 label.sk-toggleable__label-arrow:before {content: \"▸\";float: left;margin-right: 0.25em;color: #696969;}#sk-container-id-9 label.sk-toggleable__label-arrow:hover:before {color: black;}#sk-container-id-9 div.sk-estimator:hover label.sk-toggleable__label-arrow:before {color: black;}#sk-container-id-9 div.sk-toggleable__content {max-height: 0;max-width: 0;overflow: hidden;text-align: left;background-color: #f0f8ff;}#sk-container-id-9 div.sk-toggleable__content pre {margin: 0.2em;color: black;border-radius: 0.25em;background-color: #f0f8ff;}#sk-container-id-9 input.sk-toggleable__control:checked~div.sk-toggleable__content {max-height: 200px;max-width: 100%;overflow: auto;}#sk-container-id-9 input.sk-toggleable__control:checked~label.sk-toggleable__label-arrow:before {content: \"▾\";}#sk-container-id-9 div.sk-estimator input.sk-toggleable__control:checked~label.sk-toggleable__label {background-color: #d4ebff;}#sk-container-id-9 div.sk-label input.sk-toggleable__control:checked~label.sk-toggleable__label {background-color: #d4ebff;}#sk-container-id-9 input.sk-hidden--visually {border: 0;clip: rect(1px 1px 1px 1px);clip: rect(1px, 1px, 1px, 1px);height: 1px;margin: -1px;overflow: hidden;padding: 0;position: absolute;width: 1px;}#sk-container-id-9 div.sk-estimator {font-family: monospace;background-color: #f0f8ff;border: 1px dotted black;border-radius: 0.25em;box-sizing: border-box;margin-bottom: 0.5em;}#sk-container-id-9 div.sk-estimator:hover {background-color: #d4ebff;}#sk-container-id-9 div.sk-parallel-item::after {content: \"\";width: 100%;border-bottom: 1px solid gray;flex-grow: 1;}#sk-container-id-9 div.sk-label:hover label.sk-toggleable__label {background-color: #d4ebff;}#sk-container-id-9 div.sk-serial::before {content: \"\";position: absolute;border-left: 1px solid gray;box-sizing: border-box;top: 0;bottom: 0;left: 50%;z-index: 0;}#sk-container-id-9 div.sk-serial {display: flex;flex-direction: column;align-items: center;background-color: white;padding-right: 0.2em;padding-left: 0.2em;position: relative;}#sk-container-id-9 div.sk-item {position: relative;z-index: 1;}#sk-container-id-9 div.sk-parallel {display: flex;align-items: stretch;justify-content: center;background-color: white;position: relative;}#sk-container-id-9 div.sk-item::before, #sk-container-id-9 div.sk-parallel-item::before {content: \"\";position: absolute;border-left: 1px solid gray;box-sizing: border-box;top: 0;bottom: 0;left: 50%;z-index: -1;}#sk-container-id-9 div.sk-parallel-item {display: flex;flex-direction: column;z-index: 1;position: relative;background-color: white;}#sk-container-id-9 div.sk-parallel-item:first-child::after {align-self: flex-end;width: 50%;}#sk-container-id-9 div.sk-parallel-item:last-child::after {align-self: flex-start;width: 50%;}#sk-container-id-9 div.sk-parallel-item:only-child::after {width: 0;}#sk-container-id-9 div.sk-dashed-wrapped {border: 1px dashed gray;margin: 0 0.4em 0.5em 0.4em;box-sizing: border-box;padding-bottom: 0.4em;background-color: white;}#sk-container-id-9 div.sk-label label {font-family: monospace;font-weight: bold;display: inline-block;line-height: 1.2em;}#sk-container-id-9 div.sk-label-container {text-align: center;}#sk-container-id-9 div.sk-container {/* jupyter's `normalize.less` sets `[hidden] { display: none; }` but bootstrap.min.css set `[hidden] { display: none !important; }` so we also need the `!important` here to be able to override the default hidden behavior on the sphinx rendered scikit-learn.org. See: https://github.com/scikit-learn/scikit-learn/issues/21755 */display: inline-block !important;position: relative;}#sk-container-id-9 div.sk-text-repr-fallback {display: none;}</style><div id=\"sk-container-id-9\" class=\"sk-top-container\"><div class=\"sk-text-repr-fallback\"><pre>OneHotEncoder(sparse_output=False)</pre><b>In a Jupyter environment, please rerun this cell to show the HTML representation or trust the notebook. <br />On GitHub, the HTML representation is unable to render, please try loading this page with nbviewer.org.</b></div><div class=\"sk-container\" hidden><div class=\"sk-item\"><div class=\"sk-estimator sk-toggleable\"><input class=\"sk-toggleable__control sk-hidden--visually\" id=\"sk-estimator-id-11\" type=\"checkbox\" checked><label for=\"sk-estimator-id-11\" class=\"sk-toggleable__label sk-toggleable__label-arrow\">OneHotEncoder</label><div class=\"sk-toggleable__content\"><pre>OneHotEncoder(sparse_output=False)</pre></div></div></div></div></div>"
      ],
      "text/plain": [
       "OneHotEncoder(sparse_output=False)"
      ]
     },
     "execution_count": 199,
     "metadata": {},
     "output_type": "execute_result"
    }
   ],
   "source": [
    "oh_enc.fit(names_arr)"
   ]
  },
  {
   "cell_type": "code",
   "execution_count": 200,
   "id": "5ffabb21",
   "metadata": {},
   "outputs": [],
   "source": [
    "names_enc = oh_enc.transform(names_arr)"
   ]
  },
  {
   "cell_type": "code",
   "execution_count": 201,
   "id": "5449c91a",
   "metadata": {},
   "outputs": [
    {
     "data": {
      "text/plain": [
       "array([[0., 0., 0., ..., 0., 1., 0.],\n",
       "       [0., 0., 1., ..., 0., 0., 0.],\n",
       "       [0., 0., 0., ..., 0., 0., 0.],\n",
       "       ...,\n",
       "       [0., 0., 0., ..., 0., 0., 0.],\n",
       "       [0., 0., 0., ..., 0., 0., 0.],\n",
       "       [0., 0., 0., ..., 0., 0., 0.]])"
      ]
     },
     "execution_count": 201,
     "metadata": {},
     "output_type": "execute_result"
    }
   ],
   "source": [
    "names_enc"
   ]
  },
  {
   "cell_type": "code",
   "execution_count": 202,
   "id": "978ccf27",
   "metadata": {},
   "outputs": [
    {
     "data": {
      "text/html": [
       "<div>\n",
       "<style scoped>\n",
       "    .dataframe tbody tr th:only-of-type {\n",
       "        vertical-align: middle;\n",
       "    }\n",
       "\n",
       "    .dataframe tbody tr th {\n",
       "        vertical-align: top;\n",
       "    }\n",
       "\n",
       "    .dataframe thead th {\n",
       "        text-align: right;\n",
       "    }\n",
       "</style>\n",
       "<table border=\"1\" class=\"dataframe\">\n",
       "  <thead>\n",
       "    <tr style=\"text-align: right;\">\n",
       "      <th></th>\n",
       "      <th>0</th>\n",
       "      <th>1</th>\n",
       "      <th>2</th>\n",
       "      <th>3</th>\n",
       "      <th>4</th>\n",
       "      <th>5</th>\n",
       "      <th>6</th>\n",
       "      <th>7</th>\n",
       "      <th>8</th>\n",
       "      <th>9</th>\n",
       "      <th>...</th>\n",
       "      <th>17</th>\n",
       "      <th>18</th>\n",
       "      <th>19</th>\n",
       "      <th>20</th>\n",
       "      <th>21</th>\n",
       "      <th>22</th>\n",
       "      <th>23</th>\n",
       "      <th>24</th>\n",
       "      <th>25</th>\n",
       "      <th>26</th>\n",
       "    </tr>\n",
       "  </thead>\n",
       "  <tbody>\n",
       "    <tr>\n",
       "      <th>0</th>\n",
       "      <td>0.0</td>\n",
       "      <td>0.0</td>\n",
       "      <td>0.0</td>\n",
       "      <td>0.0</td>\n",
       "      <td>0.0</td>\n",
       "      <td>0.0</td>\n",
       "      <td>0.0</td>\n",
       "      <td>0.0</td>\n",
       "      <td>0.0</td>\n",
       "      <td>0.0</td>\n",
       "      <td>...</td>\n",
       "      <td>0.0</td>\n",
       "      <td>0.0</td>\n",
       "      <td>0.0</td>\n",
       "      <td>0.0</td>\n",
       "      <td>0.0</td>\n",
       "      <td>0.0</td>\n",
       "      <td>0.0</td>\n",
       "      <td>0.0</td>\n",
       "      <td>1.0</td>\n",
       "      <td>0.0</td>\n",
       "    </tr>\n",
       "    <tr>\n",
       "      <th>1</th>\n",
       "      <td>0.0</td>\n",
       "      <td>0.0</td>\n",
       "      <td>1.0</td>\n",
       "      <td>0.0</td>\n",
       "      <td>0.0</td>\n",
       "      <td>0.0</td>\n",
       "      <td>0.0</td>\n",
       "      <td>0.0</td>\n",
       "      <td>0.0</td>\n",
       "      <td>0.0</td>\n",
       "      <td>...</td>\n",
       "      <td>0.0</td>\n",
       "      <td>0.0</td>\n",
       "      <td>0.0</td>\n",
       "      <td>0.0</td>\n",
       "      <td>0.0</td>\n",
       "      <td>0.0</td>\n",
       "      <td>0.0</td>\n",
       "      <td>0.0</td>\n",
       "      <td>0.0</td>\n",
       "      <td>0.0</td>\n",
       "    </tr>\n",
       "    <tr>\n",
       "      <th>2</th>\n",
       "      <td>0.0</td>\n",
       "      <td>0.0</td>\n",
       "      <td>0.0</td>\n",
       "      <td>0.0</td>\n",
       "      <td>0.0</td>\n",
       "      <td>0.0</td>\n",
       "      <td>0.0</td>\n",
       "      <td>0.0</td>\n",
       "      <td>0.0</td>\n",
       "      <td>0.0</td>\n",
       "      <td>...</td>\n",
       "      <td>0.0</td>\n",
       "      <td>0.0</td>\n",
       "      <td>1.0</td>\n",
       "      <td>0.0</td>\n",
       "      <td>0.0</td>\n",
       "      <td>0.0</td>\n",
       "      <td>0.0</td>\n",
       "      <td>0.0</td>\n",
       "      <td>0.0</td>\n",
       "      <td>0.0</td>\n",
       "    </tr>\n",
       "    <tr>\n",
       "      <th>3</th>\n",
       "      <td>0.0</td>\n",
       "      <td>0.0</td>\n",
       "      <td>0.0</td>\n",
       "      <td>0.0</td>\n",
       "      <td>0.0</td>\n",
       "      <td>0.0</td>\n",
       "      <td>1.0</td>\n",
       "      <td>0.0</td>\n",
       "      <td>0.0</td>\n",
       "      <td>0.0</td>\n",
       "      <td>...</td>\n",
       "      <td>0.0</td>\n",
       "      <td>0.0</td>\n",
       "      <td>0.0</td>\n",
       "      <td>0.0</td>\n",
       "      <td>0.0</td>\n",
       "      <td>0.0</td>\n",
       "      <td>0.0</td>\n",
       "      <td>0.0</td>\n",
       "      <td>0.0</td>\n",
       "      <td>0.0</td>\n",
       "    </tr>\n",
       "    <tr>\n",
       "      <th>4</th>\n",
       "      <td>0.0</td>\n",
       "      <td>0.0</td>\n",
       "      <td>0.0</td>\n",
       "      <td>0.0</td>\n",
       "      <td>0.0</td>\n",
       "      <td>0.0</td>\n",
       "      <td>0.0</td>\n",
       "      <td>0.0</td>\n",
       "      <td>0.0</td>\n",
       "      <td>0.0</td>\n",
       "      <td>...</td>\n",
       "      <td>0.0</td>\n",
       "      <td>0.0</td>\n",
       "      <td>0.0</td>\n",
       "      <td>0.0</td>\n",
       "      <td>0.0</td>\n",
       "      <td>0.0</td>\n",
       "      <td>0.0</td>\n",
       "      <td>0.0</td>\n",
       "      <td>0.0</td>\n",
       "      <td>0.0</td>\n",
       "    </tr>\n",
       "    <tr>\n",
       "      <th>...</th>\n",
       "      <td>...</td>\n",
       "      <td>...</td>\n",
       "      <td>...</td>\n",
       "      <td>...</td>\n",
       "      <td>...</td>\n",
       "      <td>...</td>\n",
       "      <td>...</td>\n",
       "      <td>...</td>\n",
       "      <td>...</td>\n",
       "      <td>...</td>\n",
       "      <td>...</td>\n",
       "      <td>...</td>\n",
       "      <td>...</td>\n",
       "      <td>...</td>\n",
       "      <td>...</td>\n",
       "      <td>...</td>\n",
       "      <td>...</td>\n",
       "      <td>...</td>\n",
       "      <td>...</td>\n",
       "      <td>...</td>\n",
       "      <td>...</td>\n",
       "    </tr>\n",
       "    <tr>\n",
       "      <th>2924</th>\n",
       "      <td>0.0</td>\n",
       "      <td>0.0</td>\n",
       "      <td>0.0</td>\n",
       "      <td>0.0</td>\n",
       "      <td>1.0</td>\n",
       "      <td>0.0</td>\n",
       "      <td>0.0</td>\n",
       "      <td>0.0</td>\n",
       "      <td>0.0</td>\n",
       "      <td>0.0</td>\n",
       "      <td>...</td>\n",
       "      <td>0.0</td>\n",
       "      <td>0.0</td>\n",
       "      <td>0.0</td>\n",
       "      <td>0.0</td>\n",
       "      <td>0.0</td>\n",
       "      <td>0.0</td>\n",
       "      <td>0.0</td>\n",
       "      <td>0.0</td>\n",
       "      <td>0.0</td>\n",
       "      <td>0.0</td>\n",
       "    </tr>\n",
       "    <tr>\n",
       "      <th>2925</th>\n",
       "      <td>1.0</td>\n",
       "      <td>0.0</td>\n",
       "      <td>0.0</td>\n",
       "      <td>0.0</td>\n",
       "      <td>0.0</td>\n",
       "      <td>0.0</td>\n",
       "      <td>0.0</td>\n",
       "      <td>0.0</td>\n",
       "      <td>0.0</td>\n",
       "      <td>0.0</td>\n",
       "      <td>...</td>\n",
       "      <td>0.0</td>\n",
       "      <td>0.0</td>\n",
       "      <td>0.0</td>\n",
       "      <td>0.0</td>\n",
       "      <td>0.0</td>\n",
       "      <td>0.0</td>\n",
       "      <td>0.0</td>\n",
       "      <td>0.0</td>\n",
       "      <td>0.0</td>\n",
       "      <td>0.0</td>\n",
       "    </tr>\n",
       "    <tr>\n",
       "      <th>2926</th>\n",
       "      <td>0.0</td>\n",
       "      <td>0.0</td>\n",
       "      <td>0.0</td>\n",
       "      <td>0.0</td>\n",
       "      <td>0.0</td>\n",
       "      <td>0.0</td>\n",
       "      <td>0.0</td>\n",
       "      <td>0.0</td>\n",
       "      <td>0.0</td>\n",
       "      <td>0.0</td>\n",
       "      <td>...</td>\n",
       "      <td>1.0</td>\n",
       "      <td>0.0</td>\n",
       "      <td>0.0</td>\n",
       "      <td>0.0</td>\n",
       "      <td>0.0</td>\n",
       "      <td>0.0</td>\n",
       "      <td>0.0</td>\n",
       "      <td>0.0</td>\n",
       "      <td>0.0</td>\n",
       "      <td>0.0</td>\n",
       "    </tr>\n",
       "    <tr>\n",
       "      <th>2927</th>\n",
       "      <td>0.0</td>\n",
       "      <td>0.0</td>\n",
       "      <td>0.0</td>\n",
       "      <td>0.0</td>\n",
       "      <td>0.0</td>\n",
       "      <td>0.0</td>\n",
       "      <td>0.0</td>\n",
       "      <td>0.0</td>\n",
       "      <td>0.0</td>\n",
       "      <td>0.0</td>\n",
       "      <td>...</td>\n",
       "      <td>0.0</td>\n",
       "      <td>0.0</td>\n",
       "      <td>0.0</td>\n",
       "      <td>0.0</td>\n",
       "      <td>0.0</td>\n",
       "      <td>1.0</td>\n",
       "      <td>0.0</td>\n",
       "      <td>0.0</td>\n",
       "      <td>0.0</td>\n",
       "      <td>0.0</td>\n",
       "    </tr>\n",
       "    <tr>\n",
       "      <th>2928</th>\n",
       "      <td>0.0</td>\n",
       "      <td>0.0</td>\n",
       "      <td>0.0</td>\n",
       "      <td>0.0</td>\n",
       "      <td>0.0</td>\n",
       "      <td>0.0</td>\n",
       "      <td>0.0</td>\n",
       "      <td>0.0</td>\n",
       "      <td>0.0</td>\n",
       "      <td>0.0</td>\n",
       "      <td>...</td>\n",
       "      <td>0.0</td>\n",
       "      <td>0.0</td>\n",
       "      <td>0.0</td>\n",
       "      <td>0.0</td>\n",
       "      <td>1.0</td>\n",
       "      <td>0.0</td>\n",
       "      <td>0.0</td>\n",
       "      <td>0.0</td>\n",
       "      <td>0.0</td>\n",
       "      <td>0.0</td>\n",
       "    </tr>\n",
       "  </tbody>\n",
       "</table>\n",
       "<p>2929 rows × 27 columns</p>\n",
       "</div>"
      ],
      "text/plain": [
       "       0    1    2    3    4    5    6    7    8    9   ...   17   18   19  \\\n",
       "0     0.0  0.0  0.0  0.0  0.0  0.0  0.0  0.0  0.0  0.0  ...  0.0  0.0  0.0   \n",
       "1     0.0  0.0  1.0  0.0  0.0  0.0  0.0  0.0  0.0  0.0  ...  0.0  0.0  0.0   \n",
       "2     0.0  0.0  0.0  0.0  0.0  0.0  0.0  0.0  0.0  0.0  ...  0.0  0.0  1.0   \n",
       "3     0.0  0.0  0.0  0.0  0.0  0.0  1.0  0.0  0.0  0.0  ...  0.0  0.0  0.0   \n",
       "4     0.0  0.0  0.0  0.0  0.0  0.0  0.0  0.0  0.0  0.0  ...  0.0  0.0  0.0   \n",
       "...   ...  ...  ...  ...  ...  ...  ...  ...  ...  ...  ...  ...  ...  ...   \n",
       "2924  0.0  0.0  0.0  0.0  1.0  0.0  0.0  0.0  0.0  0.0  ...  0.0  0.0  0.0   \n",
       "2925  1.0  0.0  0.0  0.0  0.0  0.0  0.0  0.0  0.0  0.0  ...  0.0  0.0  0.0   \n",
       "2926  0.0  0.0  0.0  0.0  0.0  0.0  0.0  0.0  0.0  0.0  ...  1.0  0.0  0.0   \n",
       "2927  0.0  0.0  0.0  0.0  0.0  0.0  0.0  0.0  0.0  0.0  ...  0.0  0.0  0.0   \n",
       "2928  0.0  0.0  0.0  0.0  0.0  0.0  0.0  0.0  0.0  0.0  ...  0.0  0.0  0.0   \n",
       "\n",
       "       20   21   22   23   24   25   26  \n",
       "0     0.0  0.0  0.0  0.0  0.0  1.0  0.0  \n",
       "1     0.0  0.0  0.0  0.0  0.0  0.0  0.0  \n",
       "2     0.0  0.0  0.0  0.0  0.0  0.0  0.0  \n",
       "3     0.0  0.0  0.0  0.0  0.0  0.0  0.0  \n",
       "4     0.0  0.0  0.0  0.0  0.0  0.0  0.0  \n",
       "...   ...  ...  ...  ...  ...  ...  ...  \n",
       "2924  0.0  0.0  0.0  0.0  0.0  0.0  0.0  \n",
       "2925  0.0  0.0  0.0  0.0  0.0  0.0  0.0  \n",
       "2926  0.0  0.0  0.0  0.0  0.0  0.0  0.0  \n",
       "2927  0.0  0.0  1.0  0.0  0.0  0.0  0.0  \n",
       "2928  0.0  1.0  0.0  0.0  0.0  0.0  0.0  \n",
       "\n",
       "[2929 rows x 27 columns]"
      ]
     },
     "execution_count": 202,
     "metadata": {},
     "output_type": "execute_result"
    }
   ],
   "source": [
    "pd.DataFrame(names_enc)"
   ]
  },
  {
   "cell_type": "code",
   "execution_count": 203,
   "id": "b5616f5d",
   "metadata": {},
   "outputs": [],
   "source": [
    "y_df = matches_compl.apply(lambda row: match_result(row), axis=1)"
   ]
  },
  {
   "cell_type": "code",
   "execution_count": 204,
   "id": "6cf2d381",
   "metadata": {},
   "outputs": [
    {
     "data": {
      "text/plain": [
       "0       home\n",
       "1       home\n",
       "2       home\n",
       "3       home\n",
       "4       away\n",
       "        ... \n",
       "2927    home\n",
       "2928    home\n",
       "2929    home\n",
       "2930    home\n",
       "2931    home\n",
       "Length: 2929, dtype: object"
      ]
     },
     "execution_count": 204,
     "metadata": {},
     "output_type": "execute_result"
    }
   ],
   "source": [
    "y_df"
   ]
  },
  {
   "cell_type": "code",
   "execution_count": 165,
   "id": "1bf4c25f",
   "metadata": {},
   "outputs": [
    {
     "data": {
      "text/plain": [
       "array(['home', 'away', 'draw', None], dtype=object)"
      ]
     },
     "execution_count": 165,
     "metadata": {},
     "output_type": "execute_result"
    }
   ],
   "source": [
    "y_df.unique()"
   ]
  },
  {
   "cell_type": "code",
   "execution_count": 205,
   "id": "86994f20",
   "metadata": {},
   "outputs": [],
   "source": [
    "y_arr = np.array(y_df)"
   ]
  },
  {
   "cell_type": "code",
   "execution_count": 206,
   "id": "7c5726c3",
   "metadata": {},
   "outputs": [
    {
     "data": {
      "text/plain": [
       "(2929,)"
      ]
     },
     "execution_count": 206,
     "metadata": {},
     "output_type": "execute_result"
    }
   ],
   "source": [
    "y_arr.shape"
   ]
  },
  {
   "cell_type": "code",
   "execution_count": 207,
   "id": "f6a8f729",
   "metadata": {},
   "outputs": [],
   "source": [
    "from sklearn.preprocessing import LabelEncoder"
   ]
  },
  {
   "cell_type": "code",
   "execution_count": 208,
   "id": "448824ad",
   "metadata": {},
   "outputs": [],
   "source": [
    "lab_enc = LabelEncoder()"
   ]
  },
  {
   "cell_type": "code",
   "execution_count": 209,
   "id": "2cdc41b0",
   "metadata": {},
   "outputs": [
    {
     "data": {
      "text/html": [
       "<style>#sk-container-id-10 {color: black;background-color: white;}#sk-container-id-10 pre{padding: 0;}#sk-container-id-10 div.sk-toggleable {background-color: white;}#sk-container-id-10 label.sk-toggleable__label {cursor: pointer;display: block;width: 100%;margin-bottom: 0;padding: 0.3em;box-sizing: border-box;text-align: center;}#sk-container-id-10 label.sk-toggleable__label-arrow:before {content: \"▸\";float: left;margin-right: 0.25em;color: #696969;}#sk-container-id-10 label.sk-toggleable__label-arrow:hover:before {color: black;}#sk-container-id-10 div.sk-estimator:hover label.sk-toggleable__label-arrow:before {color: black;}#sk-container-id-10 div.sk-toggleable__content {max-height: 0;max-width: 0;overflow: hidden;text-align: left;background-color: #f0f8ff;}#sk-container-id-10 div.sk-toggleable__content pre {margin: 0.2em;color: black;border-radius: 0.25em;background-color: #f0f8ff;}#sk-container-id-10 input.sk-toggleable__control:checked~div.sk-toggleable__content {max-height: 200px;max-width: 100%;overflow: auto;}#sk-container-id-10 input.sk-toggleable__control:checked~label.sk-toggleable__label-arrow:before {content: \"▾\";}#sk-container-id-10 div.sk-estimator input.sk-toggleable__control:checked~label.sk-toggleable__label {background-color: #d4ebff;}#sk-container-id-10 div.sk-label input.sk-toggleable__control:checked~label.sk-toggleable__label {background-color: #d4ebff;}#sk-container-id-10 input.sk-hidden--visually {border: 0;clip: rect(1px 1px 1px 1px);clip: rect(1px, 1px, 1px, 1px);height: 1px;margin: -1px;overflow: hidden;padding: 0;position: absolute;width: 1px;}#sk-container-id-10 div.sk-estimator {font-family: monospace;background-color: #f0f8ff;border: 1px dotted black;border-radius: 0.25em;box-sizing: border-box;margin-bottom: 0.5em;}#sk-container-id-10 div.sk-estimator:hover {background-color: #d4ebff;}#sk-container-id-10 div.sk-parallel-item::after {content: \"\";width: 100%;border-bottom: 1px solid gray;flex-grow: 1;}#sk-container-id-10 div.sk-label:hover label.sk-toggleable__label {background-color: #d4ebff;}#sk-container-id-10 div.sk-serial::before {content: \"\";position: absolute;border-left: 1px solid gray;box-sizing: border-box;top: 0;bottom: 0;left: 50%;z-index: 0;}#sk-container-id-10 div.sk-serial {display: flex;flex-direction: column;align-items: center;background-color: white;padding-right: 0.2em;padding-left: 0.2em;position: relative;}#sk-container-id-10 div.sk-item {position: relative;z-index: 1;}#sk-container-id-10 div.sk-parallel {display: flex;align-items: stretch;justify-content: center;background-color: white;position: relative;}#sk-container-id-10 div.sk-item::before, #sk-container-id-10 div.sk-parallel-item::before {content: \"\";position: absolute;border-left: 1px solid gray;box-sizing: border-box;top: 0;bottom: 0;left: 50%;z-index: -1;}#sk-container-id-10 div.sk-parallel-item {display: flex;flex-direction: column;z-index: 1;position: relative;background-color: white;}#sk-container-id-10 div.sk-parallel-item:first-child::after {align-self: flex-end;width: 50%;}#sk-container-id-10 div.sk-parallel-item:last-child::after {align-self: flex-start;width: 50%;}#sk-container-id-10 div.sk-parallel-item:only-child::after {width: 0;}#sk-container-id-10 div.sk-dashed-wrapped {border: 1px dashed gray;margin: 0 0.4em 0.5em 0.4em;box-sizing: border-box;padding-bottom: 0.4em;background-color: white;}#sk-container-id-10 div.sk-label label {font-family: monospace;font-weight: bold;display: inline-block;line-height: 1.2em;}#sk-container-id-10 div.sk-label-container {text-align: center;}#sk-container-id-10 div.sk-container {/* jupyter's `normalize.less` sets `[hidden] { display: none; }` but bootstrap.min.css set `[hidden] { display: none !important; }` so we also need the `!important` here to be able to override the default hidden behavior on the sphinx rendered scikit-learn.org. See: https://github.com/scikit-learn/scikit-learn/issues/21755 */display: inline-block !important;position: relative;}#sk-container-id-10 div.sk-text-repr-fallback {display: none;}</style><div id=\"sk-container-id-10\" class=\"sk-top-container\"><div class=\"sk-text-repr-fallback\"><pre>LabelEncoder()</pre><b>In a Jupyter environment, please rerun this cell to show the HTML representation or trust the notebook. <br />On GitHub, the HTML representation is unable to render, please try loading this page with nbviewer.org.</b></div><div class=\"sk-container\" hidden><div class=\"sk-item\"><div class=\"sk-estimator sk-toggleable\"><input class=\"sk-toggleable__control sk-hidden--visually\" id=\"sk-estimator-id-12\" type=\"checkbox\" checked><label for=\"sk-estimator-id-12\" class=\"sk-toggleable__label sk-toggleable__label-arrow\">LabelEncoder</label><div class=\"sk-toggleable__content\"><pre>LabelEncoder()</pre></div></div></div></div></div>"
      ],
      "text/plain": [
       "LabelEncoder()"
      ]
     },
     "execution_count": 209,
     "metadata": {},
     "output_type": "execute_result"
    }
   ],
   "source": [
    "lab_enc.fit(y_arr)"
   ]
  },
  {
   "cell_type": "code",
   "execution_count": 210,
   "id": "12b143d4",
   "metadata": {},
   "outputs": [],
   "source": [
    "y_enc = lab_enc.transform(y_arr)"
   ]
  },
  {
   "cell_type": "code",
   "execution_count": 211,
   "id": "cab8b6b7",
   "metadata": {},
   "outputs": [
    {
     "data": {
      "text/plain": [
       "array([2, 2, 2, ..., 2, 2, 2])"
      ]
     },
     "execution_count": 211,
     "metadata": {},
     "output_type": "execute_result"
    }
   ],
   "source": [
    "y_enc"
   ]
  },
  {
   "cell_type": "code",
   "execution_count": 212,
   "id": "2a5fac6e",
   "metadata": {},
   "outputs": [
    {
     "data": {
      "text/plain": [
       "array(['away', 'draw', 'home'], dtype=object)"
      ]
     },
     "execution_count": 212,
     "metadata": {},
     "output_type": "execute_result"
    }
   ],
   "source": [
    "lab_enc.inverse_transform([0,1,2])"
   ]
  },
  {
   "cell_type": "code",
   "execution_count": 213,
   "id": "30e51696",
   "metadata": {},
   "outputs": [
    {
     "data": {
      "text/plain": [
       "(2929, 27)"
      ]
     },
     "execution_count": 213,
     "metadata": {},
     "output_type": "execute_result"
    }
   ],
   "source": [
    "names_enc.shape"
   ]
  },
  {
   "cell_type": "code",
   "execution_count": 214,
   "id": "7a983261",
   "metadata": {},
   "outputs": [
    {
     "data": {
      "text/plain": [
       "(2929,)"
      ]
     },
     "execution_count": 214,
     "metadata": {},
     "output_type": "execute_result"
    }
   ],
   "source": [
    "y_enc.shape"
   ]
  },
  {
   "cell_type": "code",
   "execution_count": 215,
   "id": "25c1092b",
   "metadata": {},
   "outputs": [],
   "source": [
    "home_var = np.array(matches_compl.home).reshape(-1,1)"
   ]
  },
  {
   "cell_type": "code",
   "execution_count": 216,
   "id": "ec9ac46d",
   "metadata": {},
   "outputs": [
    {
     "data": {
      "text/plain": [
       "(2929, 1)"
      ]
     },
     "execution_count": 216,
     "metadata": {},
     "output_type": "execute_result"
    }
   ],
   "source": [
    "home_var.shape"
   ]
  },
  {
   "cell_type": "code",
   "execution_count": 217,
   "id": "87a30773",
   "metadata": {},
   "outputs": [],
   "source": [
    "X_full = np.concatenate((names_enc, home_var), axis=1)"
   ]
  },
  {
   "cell_type": "code",
   "execution_count": 218,
   "id": "5e58cb1b",
   "metadata": {},
   "outputs": [
    {
     "data": {
      "text/plain": [
       "(2929, 28)"
      ]
     },
     "execution_count": 218,
     "metadata": {},
     "output_type": "execute_result"
    }
   ],
   "source": [
    "X_full.shape"
   ]
  },
  {
   "cell_type": "code",
   "execution_count": 224,
   "id": "b97a7e4a",
   "metadata": {},
   "outputs": [],
   "source": [
    "X_train, X_test = X_full[:2300, ], X_full[2300:, ]\n",
    "y_train, y_test = y_enc[:2300], y_enc[2300:]"
   ]
  },
  {
   "cell_type": "code",
   "execution_count": 225,
   "id": "f25b33d4",
   "metadata": {},
   "outputs": [
    {
     "data": {
      "text/plain": [
       "(2300, 28)"
      ]
     },
     "execution_count": 225,
     "metadata": {},
     "output_type": "execute_result"
    }
   ],
   "source": [
    "X_train.shape"
   ]
  },
  {
   "cell_type": "code",
   "execution_count": 226,
   "id": "19416f10",
   "metadata": {},
   "outputs": [
    {
     "data": {
      "text/plain": [
       "(629, 28)"
      ]
     },
     "execution_count": 226,
     "metadata": {},
     "output_type": "execute_result"
    }
   ],
   "source": [
    "X_test.shape"
   ]
  },
  {
   "cell_type": "code",
   "execution_count": 227,
   "id": "2a24f5c4",
   "metadata": {},
   "outputs": [
    {
     "data": {
      "text/plain": [
       "(2300,)"
      ]
     },
     "execution_count": 227,
     "metadata": {},
     "output_type": "execute_result"
    }
   ],
   "source": [
    "y_train.shape"
   ]
  },
  {
   "cell_type": "code",
   "execution_count": 228,
   "id": "8868e3c8",
   "metadata": {},
   "outputs": [
    {
     "data": {
      "text/plain": [
       "(629,)"
      ]
     },
     "execution_count": 228,
     "metadata": {},
     "output_type": "execute_result"
    }
   ],
   "source": [
    "y_test.shape"
   ]
  },
  {
   "cell_type": "code",
   "execution_count": 229,
   "id": "beb377c1",
   "metadata": {},
   "outputs": [],
   "source": [
    "from sklearn.ensemble import GradientBoostingClassifier"
   ]
  },
  {
   "cell_type": "code",
   "execution_count": 230,
   "id": "a9abd17a",
   "metadata": {},
   "outputs": [],
   "source": [
    "xgb_mod = GradientBoostingClassifier(n_estimators=100, learning_rate=1.0, max_depth=1, random_state=0)"
   ]
  },
  {
   "cell_type": "code",
   "execution_count": 231,
   "id": "9142f83f",
   "metadata": {},
   "outputs": [
    {
     "data": {
      "text/html": [
       "<style>#sk-container-id-11 {color: black;background-color: white;}#sk-container-id-11 pre{padding: 0;}#sk-container-id-11 div.sk-toggleable {background-color: white;}#sk-container-id-11 label.sk-toggleable__label {cursor: pointer;display: block;width: 100%;margin-bottom: 0;padding: 0.3em;box-sizing: border-box;text-align: center;}#sk-container-id-11 label.sk-toggleable__label-arrow:before {content: \"▸\";float: left;margin-right: 0.25em;color: #696969;}#sk-container-id-11 label.sk-toggleable__label-arrow:hover:before {color: black;}#sk-container-id-11 div.sk-estimator:hover label.sk-toggleable__label-arrow:before {color: black;}#sk-container-id-11 div.sk-toggleable__content {max-height: 0;max-width: 0;overflow: hidden;text-align: left;background-color: #f0f8ff;}#sk-container-id-11 div.sk-toggleable__content pre {margin: 0.2em;color: black;border-radius: 0.25em;background-color: #f0f8ff;}#sk-container-id-11 input.sk-toggleable__control:checked~div.sk-toggleable__content {max-height: 200px;max-width: 100%;overflow: auto;}#sk-container-id-11 input.sk-toggleable__control:checked~label.sk-toggleable__label-arrow:before {content: \"▾\";}#sk-container-id-11 div.sk-estimator input.sk-toggleable__control:checked~label.sk-toggleable__label {background-color: #d4ebff;}#sk-container-id-11 div.sk-label input.sk-toggleable__control:checked~label.sk-toggleable__label {background-color: #d4ebff;}#sk-container-id-11 input.sk-hidden--visually {border: 0;clip: rect(1px 1px 1px 1px);clip: rect(1px, 1px, 1px, 1px);height: 1px;margin: -1px;overflow: hidden;padding: 0;position: absolute;width: 1px;}#sk-container-id-11 div.sk-estimator {font-family: monospace;background-color: #f0f8ff;border: 1px dotted black;border-radius: 0.25em;box-sizing: border-box;margin-bottom: 0.5em;}#sk-container-id-11 div.sk-estimator:hover {background-color: #d4ebff;}#sk-container-id-11 div.sk-parallel-item::after {content: \"\";width: 100%;border-bottom: 1px solid gray;flex-grow: 1;}#sk-container-id-11 div.sk-label:hover label.sk-toggleable__label {background-color: #d4ebff;}#sk-container-id-11 div.sk-serial::before {content: \"\";position: absolute;border-left: 1px solid gray;box-sizing: border-box;top: 0;bottom: 0;left: 50%;z-index: 0;}#sk-container-id-11 div.sk-serial {display: flex;flex-direction: column;align-items: center;background-color: white;padding-right: 0.2em;padding-left: 0.2em;position: relative;}#sk-container-id-11 div.sk-item {position: relative;z-index: 1;}#sk-container-id-11 div.sk-parallel {display: flex;align-items: stretch;justify-content: center;background-color: white;position: relative;}#sk-container-id-11 div.sk-item::before, #sk-container-id-11 div.sk-parallel-item::before {content: \"\";position: absolute;border-left: 1px solid gray;box-sizing: border-box;top: 0;bottom: 0;left: 50%;z-index: -1;}#sk-container-id-11 div.sk-parallel-item {display: flex;flex-direction: column;z-index: 1;position: relative;background-color: white;}#sk-container-id-11 div.sk-parallel-item:first-child::after {align-self: flex-end;width: 50%;}#sk-container-id-11 div.sk-parallel-item:last-child::after {align-self: flex-start;width: 50%;}#sk-container-id-11 div.sk-parallel-item:only-child::after {width: 0;}#sk-container-id-11 div.sk-dashed-wrapped {border: 1px dashed gray;margin: 0 0.4em 0.5em 0.4em;box-sizing: border-box;padding-bottom: 0.4em;background-color: white;}#sk-container-id-11 div.sk-label label {font-family: monospace;font-weight: bold;display: inline-block;line-height: 1.2em;}#sk-container-id-11 div.sk-label-container {text-align: center;}#sk-container-id-11 div.sk-container {/* jupyter's `normalize.less` sets `[hidden] { display: none; }` but bootstrap.min.css set `[hidden] { display: none !important; }` so we also need the `!important` here to be able to override the default hidden behavior on the sphinx rendered scikit-learn.org. See: https://github.com/scikit-learn/scikit-learn/issues/21755 */display: inline-block !important;position: relative;}#sk-container-id-11 div.sk-text-repr-fallback {display: none;}</style><div id=\"sk-container-id-11\" class=\"sk-top-container\"><div class=\"sk-text-repr-fallback\"><pre>GradientBoostingClassifier(learning_rate=1.0, max_depth=1, random_state=0)</pre><b>In a Jupyter environment, please rerun this cell to show the HTML representation or trust the notebook. <br />On GitHub, the HTML representation is unable to render, please try loading this page with nbviewer.org.</b></div><div class=\"sk-container\" hidden><div class=\"sk-item\"><div class=\"sk-estimator sk-toggleable\"><input class=\"sk-toggleable__control sk-hidden--visually\" id=\"sk-estimator-id-13\" type=\"checkbox\" checked><label for=\"sk-estimator-id-13\" class=\"sk-toggleable__label sk-toggleable__label-arrow\">GradientBoostingClassifier</label><div class=\"sk-toggleable__content\"><pre>GradientBoostingClassifier(learning_rate=1.0, max_depth=1, random_state=0)</pre></div></div></div></div></div>"
      ],
      "text/plain": [
       "GradientBoostingClassifier(learning_rate=1.0, max_depth=1, random_state=0)"
      ]
     },
     "execution_count": 231,
     "metadata": {},
     "output_type": "execute_result"
    }
   ],
   "source": [
    "xgb_mod.fit(X_train, y_train)"
   ]
  },
  {
   "cell_type": "code",
   "execution_count": 232,
   "id": "c9a7aec3",
   "metadata": {},
   "outputs": [
    {
     "data": {
      "text/plain": [
       "0.43243243243243246"
      ]
     },
     "execution_count": 232,
     "metadata": {},
     "output_type": "execute_result"
    }
   ],
   "source": [
    "xgb_mod.score(X_test, y_test)"
   ]
  },
  {
   "cell_type": "code",
   "execution_count": 233,
   "id": "eb4398f5",
   "metadata": {},
   "outputs": [],
   "source": [
    "y_pred = xgb_mod.predict(X_test)"
   ]
  },
  {
   "cell_type": "code",
   "execution_count": 234,
   "id": "060ef679",
   "metadata": {},
   "outputs": [],
   "source": [
    "from sklearn.metrics import accuracy_score"
   ]
  },
  {
   "cell_type": "code",
   "execution_count": 235,
   "id": "ba4b722f",
   "metadata": {},
   "outputs": [
    {
     "data": {
      "text/plain": [
       "0.43243243243243246"
      ]
     },
     "execution_count": 235,
     "metadata": {},
     "output_type": "execute_result"
    }
   ],
   "source": [
    "accuracy_score(y_test, y_pred)"
   ]
  },
  {
   "cell_type": "code",
   "execution_count": 236,
   "id": "11ec63d8",
   "metadata": {},
   "outputs": [],
   "source": [
    "params = {\"max_depth\": [1,2,3,4,5], \"learning_rate\": [0.1, 0.3, 0.5, 0.8, 1, 1.5, 2], \"n_estimators\": [40, 80, 100, 200], \n",
    "          \"n_iter_no_change\": [5, 10, 20, 40]}"
   ]
  },
  {
   "cell_type": "code",
   "execution_count": 237,
   "id": "ce8f0a78",
   "metadata": {},
   "outputs": [],
   "source": [
    "from sklearn.model_selection import GridSearchCV"
   ]
  },
  {
   "cell_type": "code",
   "execution_count": 254,
   "id": "2a6077e4",
   "metadata": {},
   "outputs": [],
   "source": [
    "grid_search = GridSearchCV(GradientBoostingClassifier(), param_grid=params, scoring=\"f1_weighted\")"
   ]
  },
  {
   "cell_type": "code",
   "execution_count": 255,
   "id": "91acf5f5",
   "metadata": {},
   "outputs": [
    {
     "data": {
      "text/html": [
       "<style>#sk-container-id-15 {color: black;background-color: white;}#sk-container-id-15 pre{padding: 0;}#sk-container-id-15 div.sk-toggleable {background-color: white;}#sk-container-id-15 label.sk-toggleable__label {cursor: pointer;display: block;width: 100%;margin-bottom: 0;padding: 0.3em;box-sizing: border-box;text-align: center;}#sk-container-id-15 label.sk-toggleable__label-arrow:before {content: \"▸\";float: left;margin-right: 0.25em;color: #696969;}#sk-container-id-15 label.sk-toggleable__label-arrow:hover:before {color: black;}#sk-container-id-15 div.sk-estimator:hover label.sk-toggleable__label-arrow:before {color: black;}#sk-container-id-15 div.sk-toggleable__content {max-height: 0;max-width: 0;overflow: hidden;text-align: left;background-color: #f0f8ff;}#sk-container-id-15 div.sk-toggleable__content pre {margin: 0.2em;color: black;border-radius: 0.25em;background-color: #f0f8ff;}#sk-container-id-15 input.sk-toggleable__control:checked~div.sk-toggleable__content {max-height: 200px;max-width: 100%;overflow: auto;}#sk-container-id-15 input.sk-toggleable__control:checked~label.sk-toggleable__label-arrow:before {content: \"▾\";}#sk-container-id-15 div.sk-estimator input.sk-toggleable__control:checked~label.sk-toggleable__label {background-color: #d4ebff;}#sk-container-id-15 div.sk-label input.sk-toggleable__control:checked~label.sk-toggleable__label {background-color: #d4ebff;}#sk-container-id-15 input.sk-hidden--visually {border: 0;clip: rect(1px 1px 1px 1px);clip: rect(1px, 1px, 1px, 1px);height: 1px;margin: -1px;overflow: hidden;padding: 0;position: absolute;width: 1px;}#sk-container-id-15 div.sk-estimator {font-family: monospace;background-color: #f0f8ff;border: 1px dotted black;border-radius: 0.25em;box-sizing: border-box;margin-bottom: 0.5em;}#sk-container-id-15 div.sk-estimator:hover {background-color: #d4ebff;}#sk-container-id-15 div.sk-parallel-item::after {content: \"\";width: 100%;border-bottom: 1px solid gray;flex-grow: 1;}#sk-container-id-15 div.sk-label:hover label.sk-toggleable__label {background-color: #d4ebff;}#sk-container-id-15 div.sk-serial::before {content: \"\";position: absolute;border-left: 1px solid gray;box-sizing: border-box;top: 0;bottom: 0;left: 50%;z-index: 0;}#sk-container-id-15 div.sk-serial {display: flex;flex-direction: column;align-items: center;background-color: white;padding-right: 0.2em;padding-left: 0.2em;position: relative;}#sk-container-id-15 div.sk-item {position: relative;z-index: 1;}#sk-container-id-15 div.sk-parallel {display: flex;align-items: stretch;justify-content: center;background-color: white;position: relative;}#sk-container-id-15 div.sk-item::before, #sk-container-id-15 div.sk-parallel-item::before {content: \"\";position: absolute;border-left: 1px solid gray;box-sizing: border-box;top: 0;bottom: 0;left: 50%;z-index: -1;}#sk-container-id-15 div.sk-parallel-item {display: flex;flex-direction: column;z-index: 1;position: relative;background-color: white;}#sk-container-id-15 div.sk-parallel-item:first-child::after {align-self: flex-end;width: 50%;}#sk-container-id-15 div.sk-parallel-item:last-child::after {align-self: flex-start;width: 50%;}#sk-container-id-15 div.sk-parallel-item:only-child::after {width: 0;}#sk-container-id-15 div.sk-dashed-wrapped {border: 1px dashed gray;margin: 0 0.4em 0.5em 0.4em;box-sizing: border-box;padding-bottom: 0.4em;background-color: white;}#sk-container-id-15 div.sk-label label {font-family: monospace;font-weight: bold;display: inline-block;line-height: 1.2em;}#sk-container-id-15 div.sk-label-container {text-align: center;}#sk-container-id-15 div.sk-container {/* jupyter's `normalize.less` sets `[hidden] { display: none; }` but bootstrap.min.css set `[hidden] { display: none !important; }` so we also need the `!important` here to be able to override the default hidden behavior on the sphinx rendered scikit-learn.org. See: https://github.com/scikit-learn/scikit-learn/issues/21755 */display: inline-block !important;position: relative;}#sk-container-id-15 div.sk-text-repr-fallback {display: none;}</style><div id=\"sk-container-id-15\" class=\"sk-top-container\"><div class=\"sk-text-repr-fallback\"><pre>GridSearchCV(estimator=GradientBoostingClassifier(),\n",
       "             param_grid={&#x27;learning_rate&#x27;: [0.1, 0.3, 0.5, 0.8, 1, 1.5, 2],\n",
       "                         &#x27;max_depth&#x27;: [1, 2, 3, 4, 5],\n",
       "                         &#x27;n_estimators&#x27;: [40, 80, 100, 200],\n",
       "                         &#x27;n_iter_no_change&#x27;: [5, 10, 20, 40]},\n",
       "             scoring=&#x27;f1_weighted&#x27;)</pre><b>In a Jupyter environment, please rerun this cell to show the HTML representation or trust the notebook. <br />On GitHub, the HTML representation is unable to render, please try loading this page with nbviewer.org.</b></div><div class=\"sk-container\" hidden><div class=\"sk-item sk-dashed-wrapped\"><div class=\"sk-label-container\"><div class=\"sk-label sk-toggleable\"><input class=\"sk-toggleable__control sk-hidden--visually\" id=\"sk-estimator-id-21\" type=\"checkbox\" ><label for=\"sk-estimator-id-21\" class=\"sk-toggleable__label sk-toggleable__label-arrow\">GridSearchCV</label><div class=\"sk-toggleable__content\"><pre>GridSearchCV(estimator=GradientBoostingClassifier(),\n",
       "             param_grid={&#x27;learning_rate&#x27;: [0.1, 0.3, 0.5, 0.8, 1, 1.5, 2],\n",
       "                         &#x27;max_depth&#x27;: [1, 2, 3, 4, 5],\n",
       "                         &#x27;n_estimators&#x27;: [40, 80, 100, 200],\n",
       "                         &#x27;n_iter_no_change&#x27;: [5, 10, 20, 40]},\n",
       "             scoring=&#x27;f1_weighted&#x27;)</pre></div></div></div><div class=\"sk-parallel\"><div class=\"sk-parallel-item\"><div class=\"sk-item\"><div class=\"sk-label-container\"><div class=\"sk-label sk-toggleable\"><input class=\"sk-toggleable__control sk-hidden--visually\" id=\"sk-estimator-id-22\" type=\"checkbox\" ><label for=\"sk-estimator-id-22\" class=\"sk-toggleable__label sk-toggleable__label-arrow\">estimator: GradientBoostingClassifier</label><div class=\"sk-toggleable__content\"><pre>GradientBoostingClassifier()</pre></div></div></div><div class=\"sk-serial\"><div class=\"sk-item\"><div class=\"sk-estimator sk-toggleable\"><input class=\"sk-toggleable__control sk-hidden--visually\" id=\"sk-estimator-id-23\" type=\"checkbox\" ><label for=\"sk-estimator-id-23\" class=\"sk-toggleable__label sk-toggleable__label-arrow\">GradientBoostingClassifier</label><div class=\"sk-toggleable__content\"><pre>GradientBoostingClassifier()</pre></div></div></div></div></div></div></div></div></div></div>"
      ],
      "text/plain": [
       "GridSearchCV(estimator=GradientBoostingClassifier(),\n",
       "             param_grid={'learning_rate': [0.1, 0.3, 0.5, 0.8, 1, 1.5, 2],\n",
       "                         'max_depth': [1, 2, 3, 4, 5],\n",
       "                         'n_estimators': [40, 80, 100, 200],\n",
       "                         'n_iter_no_change': [5, 10, 20, 40]},\n",
       "             scoring='f1_weighted')"
      ]
     },
     "execution_count": 255,
     "metadata": {},
     "output_type": "execute_result"
    }
   ],
   "source": [
    "grid_search.fit(X_train, y_train)"
   ]
  },
  {
   "cell_type": "code",
   "execution_count": 256,
   "id": "c41ad8d9",
   "metadata": {},
   "outputs": [
    {
     "data": {
      "text/plain": [
       "0.4046944646185395"
      ]
     },
     "execution_count": 256,
     "metadata": {},
     "output_type": "execute_result"
    }
   ],
   "source": [
    "grid_search.best_score_"
   ]
  },
  {
   "cell_type": "code",
   "execution_count": 257,
   "id": "47982f8e",
   "metadata": {},
   "outputs": [
    {
     "data": {
      "text/plain": [
       "{'learning_rate': 0.8,\n",
       " 'max_depth': 4,\n",
       " 'n_estimators': 100,\n",
       " 'n_iter_no_change': 10}"
      ]
     },
     "execution_count": 257,
     "metadata": {},
     "output_type": "execute_result"
    }
   ],
   "source": [
    "grid_search.best_params_"
   ]
  },
  {
   "cell_type": "code",
   "execution_count": 150,
   "id": "a5f61005",
   "metadata": {},
   "outputs": [],
   "source": [
    "from sklearn.metrics import f1_score"
   ]
  },
  {
   "cell_type": "code",
   "execution_count": 260,
   "id": "7778c9b4",
   "metadata": {},
   "outputs": [],
   "source": [
    "xgb_mod_improved = GradientBoostingClassifier(learning_rate=0.8, max_depth=4, n_estimators=100, n_iter_no_change=10)"
   ]
  },
  {
   "cell_type": "code",
   "execution_count": 261,
   "id": "fd5aa63f",
   "metadata": {},
   "outputs": [
    {
     "data": {
      "text/html": [
       "<style>#sk-container-id-16 {color: black;background-color: white;}#sk-container-id-16 pre{padding: 0;}#sk-container-id-16 div.sk-toggleable {background-color: white;}#sk-container-id-16 label.sk-toggleable__label {cursor: pointer;display: block;width: 100%;margin-bottom: 0;padding: 0.3em;box-sizing: border-box;text-align: center;}#sk-container-id-16 label.sk-toggleable__label-arrow:before {content: \"▸\";float: left;margin-right: 0.25em;color: #696969;}#sk-container-id-16 label.sk-toggleable__label-arrow:hover:before {color: black;}#sk-container-id-16 div.sk-estimator:hover label.sk-toggleable__label-arrow:before {color: black;}#sk-container-id-16 div.sk-toggleable__content {max-height: 0;max-width: 0;overflow: hidden;text-align: left;background-color: #f0f8ff;}#sk-container-id-16 div.sk-toggleable__content pre {margin: 0.2em;color: black;border-radius: 0.25em;background-color: #f0f8ff;}#sk-container-id-16 input.sk-toggleable__control:checked~div.sk-toggleable__content {max-height: 200px;max-width: 100%;overflow: auto;}#sk-container-id-16 input.sk-toggleable__control:checked~label.sk-toggleable__label-arrow:before {content: \"▾\";}#sk-container-id-16 div.sk-estimator input.sk-toggleable__control:checked~label.sk-toggleable__label {background-color: #d4ebff;}#sk-container-id-16 div.sk-label input.sk-toggleable__control:checked~label.sk-toggleable__label {background-color: #d4ebff;}#sk-container-id-16 input.sk-hidden--visually {border: 0;clip: rect(1px 1px 1px 1px);clip: rect(1px, 1px, 1px, 1px);height: 1px;margin: -1px;overflow: hidden;padding: 0;position: absolute;width: 1px;}#sk-container-id-16 div.sk-estimator {font-family: monospace;background-color: #f0f8ff;border: 1px dotted black;border-radius: 0.25em;box-sizing: border-box;margin-bottom: 0.5em;}#sk-container-id-16 div.sk-estimator:hover {background-color: #d4ebff;}#sk-container-id-16 div.sk-parallel-item::after {content: \"\";width: 100%;border-bottom: 1px solid gray;flex-grow: 1;}#sk-container-id-16 div.sk-label:hover label.sk-toggleable__label {background-color: #d4ebff;}#sk-container-id-16 div.sk-serial::before {content: \"\";position: absolute;border-left: 1px solid gray;box-sizing: border-box;top: 0;bottom: 0;left: 50%;z-index: 0;}#sk-container-id-16 div.sk-serial {display: flex;flex-direction: column;align-items: center;background-color: white;padding-right: 0.2em;padding-left: 0.2em;position: relative;}#sk-container-id-16 div.sk-item {position: relative;z-index: 1;}#sk-container-id-16 div.sk-parallel {display: flex;align-items: stretch;justify-content: center;background-color: white;position: relative;}#sk-container-id-16 div.sk-item::before, #sk-container-id-16 div.sk-parallel-item::before {content: \"\";position: absolute;border-left: 1px solid gray;box-sizing: border-box;top: 0;bottom: 0;left: 50%;z-index: -1;}#sk-container-id-16 div.sk-parallel-item {display: flex;flex-direction: column;z-index: 1;position: relative;background-color: white;}#sk-container-id-16 div.sk-parallel-item:first-child::after {align-self: flex-end;width: 50%;}#sk-container-id-16 div.sk-parallel-item:last-child::after {align-self: flex-start;width: 50%;}#sk-container-id-16 div.sk-parallel-item:only-child::after {width: 0;}#sk-container-id-16 div.sk-dashed-wrapped {border: 1px dashed gray;margin: 0 0.4em 0.5em 0.4em;box-sizing: border-box;padding-bottom: 0.4em;background-color: white;}#sk-container-id-16 div.sk-label label {font-family: monospace;font-weight: bold;display: inline-block;line-height: 1.2em;}#sk-container-id-16 div.sk-label-container {text-align: center;}#sk-container-id-16 div.sk-container {/* jupyter's `normalize.less` sets `[hidden] { display: none; }` but bootstrap.min.css set `[hidden] { display: none !important; }` so we also need the `!important` here to be able to override the default hidden behavior on the sphinx rendered scikit-learn.org. See: https://github.com/scikit-learn/scikit-learn/issues/21755 */display: inline-block !important;position: relative;}#sk-container-id-16 div.sk-text-repr-fallback {display: none;}</style><div id=\"sk-container-id-16\" class=\"sk-top-container\"><div class=\"sk-text-repr-fallback\"><pre>GradientBoostingClassifier(learning_rate=0.8, max_depth=4, n_iter_no_change=10)</pre><b>In a Jupyter environment, please rerun this cell to show the HTML representation or trust the notebook. <br />On GitHub, the HTML representation is unable to render, please try loading this page with nbviewer.org.</b></div><div class=\"sk-container\" hidden><div class=\"sk-item\"><div class=\"sk-estimator sk-toggleable\"><input class=\"sk-toggleable__control sk-hidden--visually\" id=\"sk-estimator-id-24\" type=\"checkbox\" checked><label for=\"sk-estimator-id-24\" class=\"sk-toggleable__label sk-toggleable__label-arrow\">GradientBoostingClassifier</label><div class=\"sk-toggleable__content\"><pre>GradientBoostingClassifier(learning_rate=0.8, max_depth=4, n_iter_no_change=10)</pre></div></div></div></div></div>"
      ],
      "text/plain": [
       "GradientBoostingClassifier(learning_rate=0.8, max_depth=4, n_iter_no_change=10)"
      ]
     },
     "execution_count": 261,
     "metadata": {},
     "output_type": "execute_result"
    }
   ],
   "source": [
    "xgb_mod_improved.fit(X_train, y_train)"
   ]
  },
  {
   "cell_type": "code",
   "execution_count": 262,
   "id": "4fb58a15",
   "metadata": {},
   "outputs": [],
   "source": [
    "y_pred_improved = xgb_mod_improved.predict(X_test)"
   ]
  },
  {
   "cell_type": "code",
   "execution_count": 264,
   "id": "9cb7a58b",
   "metadata": {},
   "outputs": [
    {
     "data": {
      "text/plain": [
       "0.40027308707753856"
      ]
     },
     "execution_count": 264,
     "metadata": {},
     "output_type": "execute_result"
    }
   ],
   "source": [
    "f1_score(y_test, y_pred_improved, average=\"weighted\")"
   ]
  },
  {
   "cell_type": "code",
   "execution_count": 157,
   "id": "dfcab5e6",
   "metadata": {},
   "outputs": [],
   "source": [
    "from sklearn.metrics import precision_score, recall_score"
   ]
  },
  {
   "cell_type": "code",
   "execution_count": 265,
   "id": "5520763c",
   "metadata": {},
   "outputs": [
    {
     "data": {
      "text/plain": [
       "2    1334\n",
       "0     864\n",
       "1     731\n",
       "dtype: int64"
      ]
     },
     "execution_count": 265,
     "metadata": {},
     "output_type": "execute_result"
    }
   ],
   "source": [
    "pd.value_counts(pd.Series(y_enc))"
   ]
  },
  {
   "cell_type": "code",
   "execution_count": 266,
   "id": "bd04a0a4",
   "metadata": {},
   "outputs": [
    {
     "data": {
      "text/plain": [
       "2    470\n",
       "0    125\n",
       "1     34\n",
       "dtype: int64"
      ]
     },
     "execution_count": 266,
     "metadata": {},
     "output_type": "execute_result"
    }
   ],
   "source": [
    "pd.value_counts(pd.Series(y_pred_improved))"
   ]
  },
  {
   "cell_type": "code",
   "execution_count": 267,
   "id": "159f7f2b",
   "metadata": {},
   "outputs": [
    {
     "data": {
      "text/plain": [
       "2    270\n",
       "0    208\n",
       "1    151\n",
       "dtype: int64"
      ]
     },
     "execution_count": 267,
     "metadata": {},
     "output_type": "execute_result"
    }
   ],
   "source": [
    "pd.value_counts(pd.Series(y_test))"
   ]
  },
  {
   "cell_type": "code",
   "execution_count": 268,
   "id": "8a57809c",
   "metadata": {},
   "outputs": [],
   "source": [
    "probs_pred = xgb_mod_improved.predict_proba(X_test)"
   ]
  },
  {
   "cell_type": "code",
   "execution_count": 269,
   "id": "e8bf4797",
   "metadata": {},
   "outputs": [
    {
     "data": {
      "text/plain": [
       "array([[0.13620238, 0.31547513, 0.5483225 ],\n",
       "       [0.31651951, 0.31294751, 0.37053298],\n",
       "       [0.24371222, 0.28522605, 0.47106173],\n",
       "       ...,\n",
       "       [0.22333256, 0.1422895 , 0.63437794],\n",
       "       [0.18819327, 0.29605951, 0.51574723],\n",
       "       [0.29923398, 0.23904429, 0.46172172]])"
      ]
     },
     "execution_count": 269,
     "metadata": {},
     "output_type": "execute_result"
    }
   ],
   "source": [
    "probs_pred"
   ]
  },
  {
   "cell_type": "code",
   "execution_count": 271,
   "id": "c3fd2fc8",
   "metadata": {},
   "outputs": [
    {
     "data": {
      "text/html": [
       "<div>\n",
       "<style scoped>\n",
       "    .dataframe tbody tr th:only-of-type {\n",
       "        vertical-align: middle;\n",
       "    }\n",
       "\n",
       "    .dataframe tbody tr th {\n",
       "        vertical-align: top;\n",
       "    }\n",
       "\n",
       "    .dataframe thead th {\n",
       "        text-align: right;\n",
       "    }\n",
       "</style>\n",
       "<table border=\"1\" class=\"dataframe\">\n",
       "  <thead>\n",
       "    <tr style=\"text-align: right;\">\n",
       "      <th></th>\n",
       "      <th>eventBegin</th>\n",
       "      <th>team1</th>\n",
       "      <th>team2</th>\n",
       "      <th>score1</th>\n",
       "      <th>score2</th>\n",
       "      <th>RefOdd1</th>\n",
       "      <th>RefOddX</th>\n",
       "      <th>RefOdd2</th>\n",
       "      <th>RefOddOver</th>\n",
       "      <th>home</th>\n",
       "    </tr>\n",
       "    <tr>\n",
       "      <th>clean_name</th>\n",
       "      <th></th>\n",
       "      <th></th>\n",
       "      <th></th>\n",
       "      <th></th>\n",
       "      <th></th>\n",
       "      <th></th>\n",
       "      <th></th>\n",
       "      <th></th>\n",
       "      <th></th>\n",
       "      <th></th>\n",
       "    </tr>\n",
       "  </thead>\n",
       "  <tbody>\n",
       "    <tr>\n",
       "      <th>1.FC Köln</th>\n",
       "      <td>128</td>\n",
       "      <td>128</td>\n",
       "      <td>128</td>\n",
       "      <td>128</td>\n",
       "      <td>128</td>\n",
       "      <td>126</td>\n",
       "      <td>126</td>\n",
       "      <td>126</td>\n",
       "      <td>126</td>\n",
       "      <td>128</td>\n",
       "    </tr>\n",
       "    <tr>\n",
       "      <th>Bayer Leverkusen</th>\n",
       "      <td>161</td>\n",
       "      <td>161</td>\n",
       "      <td>161</td>\n",
       "      <td>161</td>\n",
       "      <td>161</td>\n",
       "      <td>160</td>\n",
       "      <td>160</td>\n",
       "      <td>160</td>\n",
       "      <td>158</td>\n",
       "      <td>161</td>\n",
       "    </tr>\n",
       "    <tr>\n",
       "      <th>Bayern München</th>\n",
       "      <td>166</td>\n",
       "      <td>166</td>\n",
       "      <td>166</td>\n",
       "      <td>166</td>\n",
       "      <td>166</td>\n",
       "      <td>163</td>\n",
       "      <td>163</td>\n",
       "      <td>163</td>\n",
       "      <td>162</td>\n",
       "      <td>166</td>\n",
       "    </tr>\n",
       "    <tr>\n",
       "      <th>Borussia Dortmund</th>\n",
       "      <td>164</td>\n",
       "      <td>164</td>\n",
       "      <td>164</td>\n",
       "      <td>164</td>\n",
       "      <td>164</td>\n",
       "      <td>163</td>\n",
       "      <td>163</td>\n",
       "      <td>163</td>\n",
       "      <td>162</td>\n",
       "      <td>164</td>\n",
       "    </tr>\n",
       "    <tr>\n",
       "      <th>Borussia M'gladbach</th>\n",
       "      <td>160</td>\n",
       "      <td>160</td>\n",
       "      <td>160</td>\n",
       "      <td>160</td>\n",
       "      <td>160</td>\n",
       "      <td>158</td>\n",
       "      <td>158</td>\n",
       "      <td>158</td>\n",
       "      <td>159</td>\n",
       "      <td>160</td>\n",
       "    </tr>\n",
       "    <tr>\n",
       "      <th>Eintracht Braunschweig</th>\n",
       "      <td>2</td>\n",
       "      <td>2</td>\n",
       "      <td>2</td>\n",
       "      <td>2</td>\n",
       "      <td>2</td>\n",
       "      <td>2</td>\n",
       "      <td>2</td>\n",
       "      <td>2</td>\n",
       "      <td>2</td>\n",
       "      <td>2</td>\n",
       "    </tr>\n",
       "    <tr>\n",
       "      <th>Eintracht Frankfurt</th>\n",
       "      <td>165</td>\n",
       "      <td>165</td>\n",
       "      <td>165</td>\n",
       "      <td>165</td>\n",
       "      <td>165</td>\n",
       "      <td>165</td>\n",
       "      <td>165</td>\n",
       "      <td>165</td>\n",
       "      <td>165</td>\n",
       "      <td>165</td>\n",
       "    </tr>\n",
       "    <tr>\n",
       "      <th>FC Augsburg</th>\n",
       "      <td>161</td>\n",
       "      <td>161</td>\n",
       "      <td>161</td>\n",
       "      <td>161</td>\n",
       "      <td>161</td>\n",
       "      <td>156</td>\n",
       "      <td>156</td>\n",
       "      <td>156</td>\n",
       "      <td>159</td>\n",
       "      <td>161</td>\n",
       "    </tr>\n",
       "    <tr>\n",
       "      <th>FC Ingolstadt</th>\n",
       "      <td>68</td>\n",
       "      <td>68</td>\n",
       "      <td>68</td>\n",
       "      <td>68</td>\n",
       "      <td>68</td>\n",
       "      <td>68</td>\n",
       "      <td>68</td>\n",
       "      <td>68</td>\n",
       "      <td>68</td>\n",
       "      <td>68</td>\n",
       "    </tr>\n",
       "    <tr>\n",
       "      <th>FC Nürnberg</th>\n",
       "      <td>37</td>\n",
       "      <td>37</td>\n",
       "      <td>37</td>\n",
       "      <td>37</td>\n",
       "      <td>37</td>\n",
       "      <td>37</td>\n",
       "      <td>37</td>\n",
       "      <td>37</td>\n",
       "      <td>37</td>\n",
       "      <td>37</td>\n",
       "    </tr>\n",
       "    <tr>\n",
       "      <th>Fortuna Düsseldorf</th>\n",
       "      <td>42</td>\n",
       "      <td>42</td>\n",
       "      <td>42</td>\n",
       "      <td>42</td>\n",
       "      <td>42</td>\n",
       "      <td>42</td>\n",
       "      <td>42</td>\n",
       "      <td>42</td>\n",
       "      <td>42</td>\n",
       "      <td>42</td>\n",
       "    </tr>\n",
       "    <tr>\n",
       "      <th>Hamburger SV</th>\n",
       "      <td>122</td>\n",
       "      <td>122</td>\n",
       "      <td>122</td>\n",
       "      <td>122</td>\n",
       "      <td>122</td>\n",
       "      <td>121</td>\n",
       "      <td>121</td>\n",
       "      <td>121</td>\n",
       "      <td>120</td>\n",
       "      <td>122</td>\n",
       "    </tr>\n",
       "    <tr>\n",
       "      <th>Hannover 96</th>\n",
       "      <td>119</td>\n",
       "      <td>119</td>\n",
       "      <td>119</td>\n",
       "      <td>119</td>\n",
       "      <td>119</td>\n",
       "      <td>118</td>\n",
       "      <td>118</td>\n",
       "      <td>118</td>\n",
       "      <td>119</td>\n",
       "      <td>119</td>\n",
       "    </tr>\n",
       "    <tr>\n",
       "      <th>Hertha BSC</th>\n",
       "      <td>161</td>\n",
       "      <td>161</td>\n",
       "      <td>161</td>\n",
       "      <td>161</td>\n",
       "      <td>161</td>\n",
       "      <td>161</td>\n",
       "      <td>161</td>\n",
       "      <td>161</td>\n",
       "      <td>161</td>\n",
       "      <td>161</td>\n",
       "    </tr>\n",
       "    <tr>\n",
       "      <th>Holstein Kiel</th>\n",
       "      <td>2</td>\n",
       "      <td>2</td>\n",
       "      <td>2</td>\n",
       "      <td>2</td>\n",
       "      <td>2</td>\n",
       "      <td>2</td>\n",
       "      <td>2</td>\n",
       "      <td>2</td>\n",
       "      <td>2</td>\n",
       "      <td>2</td>\n",
       "    </tr>\n",
       "    <tr>\n",
       "      <th>Karlsruher SC</th>\n",
       "      <td>2</td>\n",
       "      <td>2</td>\n",
       "      <td>2</td>\n",
       "      <td>2</td>\n",
       "      <td>2</td>\n",
       "      <td>2</td>\n",
       "      <td>2</td>\n",
       "      <td>2</td>\n",
       "      <td>2</td>\n",
       "      <td>2</td>\n",
       "    </tr>\n",
       "    <tr>\n",
       "      <th>Mainz 05</th>\n",
       "      <td>161</td>\n",
       "      <td>161</td>\n",
       "      <td>161</td>\n",
       "      <td>161</td>\n",
       "      <td>161</td>\n",
       "      <td>158</td>\n",
       "      <td>158</td>\n",
       "      <td>158</td>\n",
       "      <td>159</td>\n",
       "      <td>161</td>\n",
       "    </tr>\n",
       "    <tr>\n",
       "      <th>Paderborn SC</th>\n",
       "      <td>25</td>\n",
       "      <td>25</td>\n",
       "      <td>25</td>\n",
       "      <td>25</td>\n",
       "      <td>25</td>\n",
       "      <td>25</td>\n",
       "      <td>25</td>\n",
       "      <td>25</td>\n",
       "      <td>25</td>\n",
       "      <td>25</td>\n",
       "    </tr>\n",
       "    <tr>\n",
       "      <th>RB Leipzig</th>\n",
       "      <td>111</td>\n",
       "      <td>111</td>\n",
       "      <td>111</td>\n",
       "      <td>111</td>\n",
       "      <td>111</td>\n",
       "      <td>109</td>\n",
       "      <td>109</td>\n",
       "      <td>109</td>\n",
       "      <td>107</td>\n",
       "      <td>111</td>\n",
       "    </tr>\n",
       "    <tr>\n",
       "      <th>SC Freiburg</th>\n",
       "      <td>127</td>\n",
       "      <td>127</td>\n",
       "      <td>127</td>\n",
       "      <td>127</td>\n",
       "      <td>127</td>\n",
       "      <td>124</td>\n",
       "      <td>124</td>\n",
       "      <td>124</td>\n",
       "      <td>126</td>\n",
       "      <td>127</td>\n",
       "    </tr>\n",
       "    <tr>\n",
       "      <th>SV Darmstadt</th>\n",
       "      <td>68</td>\n",
       "      <td>68</td>\n",
       "      <td>68</td>\n",
       "      <td>68</td>\n",
       "      <td>68</td>\n",
       "      <td>67</td>\n",
       "      <td>67</td>\n",
       "      <td>67</td>\n",
       "      <td>67</td>\n",
       "      <td>68</td>\n",
       "    </tr>\n",
       "    <tr>\n",
       "      <th>Schalke 04</th>\n",
       "      <td>161</td>\n",
       "      <td>161</td>\n",
       "      <td>161</td>\n",
       "      <td>161</td>\n",
       "      <td>161</td>\n",
       "      <td>161</td>\n",
       "      <td>161</td>\n",
       "      <td>161</td>\n",
       "      <td>161</td>\n",
       "      <td>161</td>\n",
       "    </tr>\n",
       "    <tr>\n",
       "      <th>TSG Hoffenheim</th>\n",
       "      <td>161</td>\n",
       "      <td>161</td>\n",
       "      <td>161</td>\n",
       "      <td>161</td>\n",
       "      <td>161</td>\n",
       "      <td>160</td>\n",
       "      <td>160</td>\n",
       "      <td>160</td>\n",
       "      <td>161</td>\n",
       "      <td>161</td>\n",
       "    </tr>\n",
       "    <tr>\n",
       "      <th>Union Berlin</th>\n",
       "      <td>9</td>\n",
       "      <td>9</td>\n",
       "      <td>9</td>\n",
       "      <td>9</td>\n",
       "      <td>9</td>\n",
       "      <td>9</td>\n",
       "      <td>9</td>\n",
       "      <td>9</td>\n",
       "      <td>9</td>\n",
       "      <td>9</td>\n",
       "    </tr>\n",
       "    <tr>\n",
       "      <th>VfB Stuttgart</th>\n",
       "      <td>119</td>\n",
       "      <td>119</td>\n",
       "      <td>119</td>\n",
       "      <td>119</td>\n",
       "      <td>119</td>\n",
       "      <td>119</td>\n",
       "      <td>119</td>\n",
       "      <td>119</td>\n",
       "      <td>118</td>\n",
       "      <td>119</td>\n",
       "    </tr>\n",
       "    <tr>\n",
       "      <th>VfL Wolfsburg</th>\n",
       "      <td>166</td>\n",
       "      <td>166</td>\n",
       "      <td>166</td>\n",
       "      <td>166</td>\n",
       "      <td>166</td>\n",
       "      <td>165</td>\n",
       "      <td>165</td>\n",
       "      <td>165</td>\n",
       "      <td>165</td>\n",
       "      <td>166</td>\n",
       "    </tr>\n",
       "    <tr>\n",
       "      <th>Werder Bremen</th>\n",
       "      <td>161</td>\n",
       "      <td>161</td>\n",
       "      <td>161</td>\n",
       "      <td>161</td>\n",
       "      <td>161</td>\n",
       "      <td>161</td>\n",
       "      <td>161</td>\n",
       "      <td>161</td>\n",
       "      <td>160</td>\n",
       "      <td>161</td>\n",
       "    </tr>\n",
       "  </tbody>\n",
       "</table>\n",
       "</div>"
      ],
      "text/plain": [
       "                        eventBegin  team1  team2  score1  score2  RefOdd1  \\\n",
       "clean_name                                                                  \n",
       "1.FC Köln                      128    128    128     128     128      126   \n",
       "Bayer Leverkusen               161    161    161     161     161      160   \n",
       "Bayern München                 166    166    166     166     166      163   \n",
       "Borussia Dortmund              164    164    164     164     164      163   \n",
       "Borussia M'gladbach            160    160    160     160     160      158   \n",
       "Eintracht Braunschweig           2      2      2       2       2        2   \n",
       "Eintracht Frankfurt            165    165    165     165     165      165   \n",
       "FC Augsburg                    161    161    161     161     161      156   \n",
       "FC Ingolstadt                   68     68     68      68      68       68   \n",
       "FC Nürnberg                     37     37     37      37      37       37   \n",
       "Fortuna Düsseldorf              42     42     42      42      42       42   \n",
       "Hamburger SV                   122    122    122     122     122      121   \n",
       "Hannover 96                    119    119    119     119     119      118   \n",
       "Hertha BSC                     161    161    161     161     161      161   \n",
       "Holstein Kiel                    2      2      2       2       2        2   \n",
       "Karlsruher SC                    2      2      2       2       2        2   \n",
       "Mainz 05                       161    161    161     161     161      158   \n",
       "Paderborn SC                    25     25     25      25      25       25   \n",
       "RB Leipzig                     111    111    111     111     111      109   \n",
       "SC Freiburg                    127    127    127     127     127      124   \n",
       "SV Darmstadt                    68     68     68      68      68       67   \n",
       "Schalke 04                     161    161    161     161     161      161   \n",
       "TSG Hoffenheim                 161    161    161     161     161      160   \n",
       "Union Berlin                     9      9      9       9       9        9   \n",
       "VfB Stuttgart                  119    119    119     119     119      119   \n",
       "VfL Wolfsburg                  166    166    166     166     166      165   \n",
       "Werder Bremen                  161    161    161     161     161      161   \n",
       "\n",
       "                        RefOddX  RefOdd2  RefOddOver  home  \n",
       "clean_name                                                  \n",
       "1.FC Köln                   126      126         126   128  \n",
       "Bayer Leverkusen            160      160         158   161  \n",
       "Bayern München              163      163         162   166  \n",
       "Borussia Dortmund           163      163         162   164  \n",
       "Borussia M'gladbach         158      158         159   160  \n",
       "Eintracht Braunschweig        2        2           2     2  \n",
       "Eintracht Frankfurt         165      165         165   165  \n",
       "FC Augsburg                 156      156         159   161  \n",
       "FC Ingolstadt                68       68          68    68  \n",
       "FC Nürnberg                  37       37          37    37  \n",
       "Fortuna Düsseldorf           42       42          42    42  \n",
       "Hamburger SV                121      121         120   122  \n",
       "Hannover 96                 118      118         119   119  \n",
       "Hertha BSC                  161      161         161   161  \n",
       "Holstein Kiel                 2        2           2     2  \n",
       "Karlsruher SC                 2        2           2     2  \n",
       "Mainz 05                    158      158         159   161  \n",
       "Paderborn SC                 25       25          25    25  \n",
       "RB Leipzig                  109      109         107   111  \n",
       "SC Freiburg                 124      124         126   127  \n",
       "SV Darmstadt                 67       67          67    68  \n",
       "Schalke 04                  161      161         161   161  \n",
       "TSG Hoffenheim              160      160         161   161  \n",
       "Union Berlin                  9        9           9     9  \n",
       "VfB Stuttgart               119      119         118   119  \n",
       "VfL Wolfsburg               165      165         165   166  \n",
       "Werder Bremen               161      161         160   161  "
      ]
     },
     "execution_count": 271,
     "metadata": {},
     "output_type": "execute_result"
    }
   ],
   "source": [
    "matches_compl.groupby(by=\"clean_name\").count()"
   ]
  },
  {
   "cell_type": "code",
   "execution_count": null,
   "id": "e73eebbf",
   "metadata": {},
   "outputs": [],
   "source": []
  }
 ],
 "metadata": {
  "kernelspec": {
   "display_name": "Python 3 (ipykernel)",
   "language": "python",
   "name": "python3"
  },
  "language_info": {
   "codemirror_mode": {
    "name": "ipython",
    "version": 3
   },
   "file_extension": ".py",
   "mimetype": "text/x-python",
   "name": "python",
   "nbconvert_exporter": "python",
   "pygments_lexer": "ipython3",
   "version": "3.10.6"
  },
  "toc": {
   "base_numbering": 1,
   "nav_menu": {},
   "number_sections": true,
   "sideBar": true,
   "skip_h1_title": false,
   "title_cell": "Table of Contents",
   "title_sidebar": "Contents",
   "toc_cell": false,
   "toc_position": {},
   "toc_section_display": true,
   "toc_window_display": false
  }
 },
 "nbformat": 4,
 "nbformat_minor": 5
}
