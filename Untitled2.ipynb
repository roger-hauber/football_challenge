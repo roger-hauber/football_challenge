{
 "cells": [
  {
   "cell_type": "markdown",
   "id": "8627a19d",
   "metadata": {},
   "source": [
    "# Data Preparation"
   ]
  },
  {
   "cell_type": "markdown",
   "id": "01b499af",
   "metadata": {},
   "source": [
    "Bringing the data into the desired format, where each match is represented by two rows with home and away team switched."
   ]
  },
  {
   "cell_type": "markdown",
   "id": "1bc7120b",
   "metadata": {},
   "source": [
    "**1 - Imports and reading csv files**"
   ]
  },
  {
   "cell_type": "code",
   "execution_count": 44,
   "id": "16bf5913",
   "metadata": {},
   "outputs": [],
   "source": [
    "#imports\n",
    "import pandas as pd\n",
    "import numpy as np"
   ]
  },
  {
   "cell_type": "code",
   "execution_count": 60,
   "id": "b6a6b018",
   "metadata": {},
   "outputs": [],
   "source": [
    "#Read the train.csv and test.csv data ()\n",
    "train = pd.read_csv(\"train.csv\", encoding = \"ISO-8859-1\")\n",
    "#test.csv has rows wrapped in \"\", which makes parsing a bit difficult. \n",
    "#quoting = 3 ignores all quotes and we can get rid of them manually\n",
    "test = pd.read_csv(\"test.csv\", encoding=\"ISO-8859-1\", quoting=3)"
   ]
  },
  {
   "cell_type": "code",
   "execution_count": 61,
   "id": "0dd0cb66",
   "metadata": {},
   "outputs": [
    {
     "data": {
      "text/html": [
       "<div>\n",
       "<style scoped>\n",
       "    .dataframe tbody tr th:only-of-type {\n",
       "        vertical-align: middle;\n",
       "    }\n",
       "\n",
       "    .dataframe tbody tr th {\n",
       "        vertical-align: top;\n",
       "    }\n",
       "\n",
       "    .dataframe thead th {\n",
       "        text-align: right;\n",
       "    }\n",
       "</style>\n",
       "<table border=\"1\" class=\"dataframe\">\n",
       "  <thead>\n",
       "    <tr style=\"text-align: right;\">\n",
       "      <th></th>\n",
       "      <th>Unnamed: 0</th>\n",
       "      <th>eventBegin</th>\n",
       "      <th>paarung</th>\n",
       "      <th>score</th>\n",
       "      <th>RefOdd1</th>\n",
       "      <th>RefOddX</th>\n",
       "      <th>RefOdd2</th>\n",
       "      <th>RefOddOver</th>\n",
       "    </tr>\n",
       "  </thead>\n",
       "  <tbody>\n",
       "    <tr>\n",
       "      <th>0</th>\n",
       "      <td>1</td>\n",
       "      <td>2015-01-30 20:35:32</td>\n",
       "      <td>VfL Wolfsburg - Bayern München</td>\n",
       "      <td>4:1 (2:0)</td>\n",
       "      <td>7.49272</td>\n",
       "      <td>4.85413</td>\n",
       "      <td>1.51180</td>\n",
       "      <td>1.69718</td>\n",
       "    </tr>\n",
       "    <tr>\n",
       "      <th>1</th>\n",
       "      <td>2</td>\n",
       "      <td>2015-01-31 15:30:19</td>\n",
       "      <td>SC Freiburg - Eintracht Frankfurt</td>\n",
       "      <td>4:1 (0:1)</td>\n",
       "      <td>2.97516</td>\n",
       "      <td>3.94175</td>\n",
       "      <td>2.42760</td>\n",
       "      <td>1.70712</td>\n",
       "    </tr>\n",
       "    <tr>\n",
       "      <th>2</th>\n",
       "      <td>3</td>\n",
       "      <td>2015-01-31 15:30:56</td>\n",
       "      <td>Hamburger SV - 1.FC Köln</td>\n",
       "      <td>0:2 (0:0)</td>\n",
       "      <td>2.54718</td>\n",
       "      <td>3.33901</td>\n",
       "      <td>3.26786</td>\n",
       "      <td>2.59439</td>\n",
       "    </tr>\n",
       "    <tr>\n",
       "      <th>3</th>\n",
       "      <td>4</td>\n",
       "      <td>2015-01-31 15:31:11</td>\n",
       "      <td>Schalke 04 - Hannover 96</td>\n",
       "      <td>1:0 (1:0)</td>\n",
       "      <td>2.07487</td>\n",
       "      <td>3.81712</td>\n",
       "      <td>3.88638</td>\n",
       "      <td>1.82383</td>\n",
       "    </tr>\n",
       "    <tr>\n",
       "      <th>4</th>\n",
       "      <td>5</td>\n",
       "      <td>2015-01-31 15:31:21</td>\n",
       "      <td>FSV Mainz 05 - SC Paderborn</td>\n",
       "      <td>5:0 (1:0)</td>\n",
       "      <td>2.00676</td>\n",
       "      <td>3.76686</td>\n",
       "      <td>4.25880</td>\n",
       "      <td>1.87892</td>\n",
       "    </tr>\n",
       "  </tbody>\n",
       "</table>\n",
       "</div>"
      ],
      "text/plain": [
       "   Unnamed: 0           eventBegin                            paarung  \\\n",
       "0           1  2015-01-30 20:35:32     VfL Wolfsburg - Bayern München   \n",
       "1           2  2015-01-31 15:30:19  SC Freiburg - Eintracht Frankfurt   \n",
       "2           3  2015-01-31 15:30:56           Hamburger SV - 1.FC Köln   \n",
       "3           4  2015-01-31 15:31:11           Schalke 04 - Hannover 96   \n",
       "4           5  2015-01-31 15:31:21        FSV Mainz 05 - SC Paderborn   \n",
       "\n",
       "       score  RefOdd1  RefOddX  RefOdd2  RefOddOver  \n",
       "0  4:1 (2:0)  7.49272  4.85413  1.51180     1.69718  \n",
       "1  4:1 (0:1)  2.97516  3.94175  2.42760     1.70712  \n",
       "2  0:2 (0:0)  2.54718  3.33901  3.26786     2.59439  \n",
       "3  1:0 (1:0)  2.07487  3.81712  3.88638     1.82383  \n",
       "4  5:0 (1:0)  2.00676  3.76686  4.25880     1.87892  "
      ]
     },
     "execution_count": 61,
     "metadata": {},
     "output_type": "execute_result"
    }
   ],
   "source": [
    "#Check out the data frames\n",
    "train.head()"
   ]
  },
  {
   "cell_type": "code",
   "execution_count": 62,
   "id": "8fb60bea",
   "metadata": {},
   "outputs": [],
   "source": [
    "#manually get rid of quotes\n",
    "test.columns = train.columns\n",
    "for col in test.select_dtypes(include=\"object\"):\n",
    "    test[col] = test[col].str.strip(\"\\\"\")"
   ]
  },
  {
   "cell_type": "code",
   "execution_count": 63,
   "id": "43b571f7",
   "metadata": {},
   "outputs": [
    {
     "data": {
      "text/html": [
       "<div>\n",
       "<style scoped>\n",
       "    .dataframe tbody tr th:only-of-type {\n",
       "        vertical-align: middle;\n",
       "    }\n",
       "\n",
       "    .dataframe tbody tr th {\n",
       "        vertical-align: top;\n",
       "    }\n",
       "\n",
       "    .dataframe thead th {\n",
       "        text-align: right;\n",
       "    }\n",
       "</style>\n",
       "<table border=\"1\" class=\"dataframe\">\n",
       "  <thead>\n",
       "    <tr style=\"text-align: right;\">\n",
       "      <th></th>\n",
       "      <th>Unnamed: 0</th>\n",
       "      <th>eventBegin</th>\n",
       "      <th>paarung</th>\n",
       "      <th>score</th>\n",
       "      <th>RefOdd1</th>\n",
       "      <th>RefOddX</th>\n",
       "      <th>RefOdd2</th>\n",
       "      <th>RefOddOver</th>\n",
       "    </tr>\n",
       "  </thead>\n",
       "  <tbody>\n",
       "    <tr>\n",
       "      <th>0</th>\n",
       "      <td>1467</td>\n",
       "      <td>2019-10-25 20:30:06</td>\n",
       "      <td>FSV Mainz 05 - 1.FC Köln</td>\n",
       "      <td>NaN</td>\n",
       "      <td>NaN</td>\n",
       "      <td>NaN</td>\n",
       "      <td>NaN</td>\n",
       "      <td>NA</td>\n",
       "    </tr>\n",
       "    <tr>\n",
       "      <th>1</th>\n",
       "      <td>1468</td>\n",
       "      <td>2019-10-26 15:30:00</td>\n",
       "      <td>SC Freiburg  - RB Leipzig</td>\n",
       "      <td>NaN</td>\n",
       "      <td>NaN</td>\n",
       "      <td>NaN</td>\n",
       "      <td>NaN</td>\n",
       "      <td>NA</td>\n",
       "    </tr>\n",
       "    <tr>\n",
       "      <th>2</th>\n",
       "      <td>1469</td>\n",
       "      <td>2019-10-26 15:30:35</td>\n",
       "      <td>SC Paderborn - Fortuna Düsseldorf</td>\n",
       "      <td>NaN</td>\n",
       "      <td>NaN</td>\n",
       "      <td>NaN</td>\n",
       "      <td>NaN</td>\n",
       "      <td>NA</td>\n",
       "    </tr>\n",
       "    <tr>\n",
       "      <th>3</th>\n",
       "      <td>1470</td>\n",
       "      <td>2019-10-26 15:30:42</td>\n",
       "      <td>Bayern München - FC Union Berlin</td>\n",
       "      <td>NaN</td>\n",
       "      <td>NaN</td>\n",
       "      <td>NaN</td>\n",
       "      <td>NaN</td>\n",
       "      <td>NA</td>\n",
       "    </tr>\n",
       "    <tr>\n",
       "      <th>4</th>\n",
       "      <td>1471</td>\n",
       "      <td>2019-10-26 15:31:02</td>\n",
       "      <td>Hertha BSC - 1899 Hoffenheim</td>\n",
       "      <td>NaN</td>\n",
       "      <td>NaN</td>\n",
       "      <td>NaN</td>\n",
       "      <td>NaN</td>\n",
       "      <td>NA</td>\n",
       "    </tr>\n",
       "  </tbody>\n",
       "</table>\n",
       "</div>"
      ],
      "text/plain": [
       "  Unnamed: 0           eventBegin                            paarung  score  \\\n",
       "0       1467  2019-10-25 20:30:06           FSV Mainz 05 - 1.FC Köln    NaN   \n",
       "1       1468  2019-10-26 15:30:00          SC Freiburg  - RB Leipzig    NaN   \n",
       "2       1469  2019-10-26 15:30:35  SC Paderborn - Fortuna Düsseldorf    NaN   \n",
       "3       1470  2019-10-26 15:30:42   Bayern München - FC Union Berlin    NaN   \n",
       "4       1471  2019-10-26 15:31:02       Hertha BSC - 1899 Hoffenheim    NaN   \n",
       "\n",
       "   RefOdd1  RefOddX  RefOdd2 RefOddOver  \n",
       "0      NaN      NaN      NaN         NA  \n",
       "1      NaN      NaN      NaN         NA  \n",
       "2      NaN      NaN      NaN         NA  \n",
       "3      NaN      NaN      NaN         NA  \n",
       "4      NaN      NaN      NaN         NA  "
      ]
     },
     "execution_count": 63,
     "metadata": {},
     "output_type": "execute_result"
    }
   ],
   "source": [
    "test.head()"
   ]
  },
  {
   "cell_type": "markdown",
   "id": "5ec74bb6",
   "metadata": {},
   "source": [
    "**2 - Parsing both teams from \"paarung\" variable**"
   ]
  },
  {
   "cell_type": "code",
   "execution_count": 64,
   "id": "3668ae0c",
   "metadata": {},
   "outputs": [],
   "source": [
    "#defining a couple of functions\n",
    "def home_team(row):\n",
    "    team = row[\"paarung\"].split(\"-\")[0]\n",
    "    team = team.strip()\n",
    "    return team\n",
    "\n",
    "def away_team(row):\n",
    "    team = row[\"paarung\"].split(\"-\")[1]\n",
    "    team = team.strip()\n",
    "    return team"
   ]
  },
  {
   "cell_type": "code",
   "execution_count": 65,
   "id": "3b7977f5",
   "metadata": {},
   "outputs": [],
   "source": [
    "#Apply both functions to the train and test df\n",
    "train[\"team1\"] = train.apply(lambda row: home_team(row), axis = 1)\n",
    "train[\"team2\"] = train.apply(lambda row: away_team(row), axis = 1)"
   ]
  },
  {
   "cell_type": "code",
   "execution_count": 66,
   "id": "da167963",
   "metadata": {},
   "outputs": [],
   "source": [
    "#test df\n",
    "test[\"team1\"] = test.apply(lambda row: home_team(row), axis = 1)\n",
    "test[\"team2\"] = test.apply(lambda row: away_team(row), axis = 1)"
   ]
  },
  {
   "cell_type": "code",
   "execution_count": 67,
   "id": "b8377912",
   "metadata": {},
   "outputs": [
    {
     "data": {
      "text/plain": [
       "array(['VfL Wolfsburg', 'SC Freiburg', 'Hamburger SV', 'Schalke 04',\n",
       "       'FSV Mainz 05', 'VfB Stuttgart', 'Bayer Leverkusen',\n",
       "       'Werder Bremen', 'FC Augsburg', 'Eintracht Frankfurt',\n",
       "       'Hannover 96', \"Bor. M'gladbach\", 'Bayern München',\n",
       "       '1899 Hoffenheim', 'Paderborn', 'Hertha BSC', '1.FC Köln',\n",
       "       'Bor. Dortmund', 'Wolfsburg', 'FSV Mainz', \"B. M'gladbach\",\n",
       "       'Borussia Dortmund', 'SC Paderborn', \"Borussia M'gladbach\",\n",
       "       'Mainz 05', 'Eint. Frankfurt', 'Hoffenheim', 'Bay. München',\n",
       "       \"M'gladbach\", 'B. Dortmund', 'Karlsruher SC', 'SV Darmstadt 98',\n",
       "       'FC Ingolstadt', 'Ingolstadt', 'Ein. Frankfurt', 'Augsburg',\n",
       "       'E. Frankfurt', '1. FC Nürnberg', 'RB Leipzig', 'Freiburg',\n",
       "       'E. Braunschweig', 'Holstein Kiel', 'Fortuna Düsseldorf',\n",
       "       'B. Leverkusen', 'Fort. Düsseldorf', 'Eintr. Frankfurt',\n",
       "       'F. Düsseldorf', 'FC Union Berlin', 'Union Berlin'], dtype=object)"
      ]
     },
     "execution_count": 67,
     "metadata": {},
     "output_type": "execute_result"
    }
   ],
   "source": [
    "#check unique values of team1 and team2\n",
    "train[\"team1\"].unique()"
   ]
  },
  {
   "cell_type": "code",
   "execution_count": 68,
   "id": "626b75ee",
   "metadata": {},
   "outputs": [
    {
     "data": {
      "text/plain": [
       "array(['Bayern München', 'Eintracht Frankfurt', '1.FC Köln',\n",
       "       'Hannover 96', 'SC Paderborn', \"Borussia M'gladbach\",\n",
       "       'Borussia Dortmund', 'Hertha BSC', '1899 Hoffenheim',\n",
       "       'VfL Wolfsburg', 'FSV Mainz 05', 'SC Freiburg', 'Schalke 04',\n",
       "       'Werder Bremen', 'Hamburger SV', 'Bayer Leverkusen',\n",
       "       'VfB Stuttgart', 'FC Augsburg', 'Hoffenheim', 'Bor. Dortmund',\n",
       "       'FSV Mainz', 'Wolfsburg', \"Bor. M'gladbach\", 'Bay. München',\n",
       "       \"B. M'gladbach\", 'Eintr. Frankfurt', 'Augsburg', 'FC Köln',\n",
       "       'Tabellendritter 2.BL', 'Karlsruher SC', 'FC Ingolstadt',\n",
       "       'E. Frankfurt', 'Darmstadt 98', 'TSG 1899 Hoffenheim',\n",
       "       'SV Darmstadt 98', 'Bayern Munich', 'Ein. Frankfurt',\n",
       "       '1 FSV Mainz 05', 'Eint. Frankfurt', 'Ingolstadt',\n",
       "       '1. FC Nürnberg', 'RB Leipzig', 'E. Braunschweig', 'Holstein Kiel',\n",
       "       'Fortuna Düsseldorf', 'B. Dortmund', 'B. Leverkusen',\n",
       "       'Union Berlin', 'FC Union Berlin', 'F. Düsseldorf'], dtype=object)"
      ]
     },
     "execution_count": 68,
     "metadata": {},
     "output_type": "execute_result"
    }
   ],
   "source": [
    "train[\"team2\"].unique()"
   ]
  },
  {
   "cell_type": "code",
   "execution_count": 69,
   "id": "a169ae11",
   "metadata": {},
   "outputs": [],
   "source": [
    "#team2 contains the unspecified \"Tabellendritter 2 BL\" - drop those rows\n",
    "train = train.loc[train.team2 != \"Tabellendritter 2.BL\", ]"
   ]
  },
  {
   "cell_type": "code",
   "execution_count": 70,
   "id": "7fc34de9",
   "metadata": {},
   "outputs": [],
   "source": [
    "#a lot of variability in naming of same teams - clean that up with a couple of steps\n",
    "\n",
    "#function that returns the longer element of the team name (usually the city name, but for a few exceptions..)\n",
    "def clean_name(row, team):\n",
    "    \n",
    "    name = max(row[team].split(), key=len)\n",
    "    name = name.strip()\n",
    "    #handle exceptions \"Eintracht Frankfurt\" \"1.FC Köln\" and \"Borussia Dortmund\" and \"Bayern Munich\"\n",
    "    if name == \"Eintracht\":\n",
    "        name = \"Frankfurt\"\n",
    "    elif name == \"1.FC\":\n",
    "        name = \"Köln\"\n",
    "    elif name ==  \"Borussia\":\n",
    "        name = \"Dortmund\"\n",
    "    elif name == \"Bayern\":\n",
    "        name = \"München\"\n",
    "        \n",
    "    \n",
    "    return name"
   ]
  },
  {
   "cell_type": "code",
   "execution_count": 71,
   "id": "19da51f3",
   "metadata": {},
   "outputs": [],
   "source": [
    "#Apply both functions to the train and test df\n",
    "train[\"team1\"] = train.apply(lambda row: clean_name(row, \"team1\"), axis = 1)\n",
    "train[\"team2\"] = train.apply(lambda row: clean_name(row, \"team2\"), axis = 1)"
   ]
  },
  {
   "cell_type": "code",
   "execution_count": 72,
   "id": "ff7b6a3f",
   "metadata": {},
   "outputs": [],
   "source": [
    "#test df\n",
    "test[\"team1\"] = test.apply(lambda row: clean_name(row, \"team1\"), axis = 1)\n",
    "test[\"team2\"] = test.apply(lambda row: clean_name(row, \"team2\"), axis = 1)"
   ]
  },
  {
   "cell_type": "markdown",
   "id": "c37f1d64",
   "metadata": {},
   "source": [
    "**3 - Parsing scores from \"score\" - only for train (obviously)**"
   ]
  },
  {
   "cell_type": "code",
   "execution_count": 74,
   "id": "1c5924c7",
   "metadata": {},
   "outputs": [],
   "source": [
    "train.loc[:, \"score1\"] = train.loc[:, \"score\"].str[0]\n",
    "train.loc[:, \"score2\"] = train.loc[:, \"score\"].str[2]"
   ]
  },
  {
   "cell_type": "code",
   "execution_count": 76,
   "id": "5f7d8311",
   "metadata": {},
   "outputs": [],
   "source": [
    "#add empty score1 and score2 columns to test df - to keep the same shape and format\n",
    "test.loc[:, \"score1\"] = None\n",
    "test.loc[:, \"score2\"] = None"
   ]
  },
  {
   "cell_type": "markdown",
   "id": "a42e98d0",
   "metadata": {},
   "source": [
    "**4 - bring dataframe in required format**"
   ]
  },
  {
   "cell_type": "code",
   "execution_count": 79,
   "id": "56c8af6a",
   "metadata": {},
   "outputs": [],
   "source": [
    "#for now still with one row per match\n",
    "train = train.loc[:, [\"eventBegin\", \"team1\", \"team2\", \"score1\", \"score2\", \"RefOdd1\", \"RefOddX\", \"RefOdd2\", \"RefOddOver\"]]\n",
    "test = test.loc[:, [\"eventBegin\", \"team1\", \"team2\", \"score1\", \"score2\", \"RefOdd1\", \"RefOddX\", \"RefOdd2\", \"RefOddOver\"]]"
   ]
  },
  {
   "cell_type": "code",
   "execution_count": 80,
   "id": "49ca25ef",
   "metadata": {},
   "outputs": [],
   "source": [
    "#add a \"home\" variable and set it to 1\n",
    "train[\"home\"] = 1\n",
    "test[\"home\"] = 1"
   ]
  },
  {
   "cell_type": "code",
   "execution_count": 85,
   "id": "d50a67ad",
   "metadata": {},
   "outputs": [],
   "source": [
    "#create alternative dataframes that swap team1 and 2, score1 and 2 and RefOdd1 and 1 and add \"home\" = 0\n",
    "train_alt = pd.concat([train.eventBegin, train.team2, train.team1, \n",
    "                          train.score2, train.score1, train.RefOdd2, train.RefOddX, train.RefOdd1, \n",
    "                          train.RefOddOver], axis=1)\n",
    "train_alt[\"home\"] = 0\n",
    "\n",
    "test_alt = pd.concat([test.eventBegin, test.team2, test.team1, \n",
    "                          test.score2, test.score1, test.RefOdd2, test.RefOddX, test.RefOdd1, \n",
    "                          test.RefOddOver], axis=1)\n",
    "test_alt[\"home\"] = 0"
   ]
  },
  {
   "cell_type": "code",
   "execution_count": 88,
   "id": "a60a081f",
   "metadata": {},
   "outputs": [
    {
     "data": {
      "text/html": [
       "<div>\n",
       "<style scoped>\n",
       "    .dataframe tbody tr th:only-of-type {\n",
       "        vertical-align: middle;\n",
       "    }\n",
       "\n",
       "    .dataframe tbody tr th {\n",
       "        vertical-align: top;\n",
       "    }\n",
       "\n",
       "    .dataframe thead th {\n",
       "        text-align: right;\n",
       "    }\n",
       "</style>\n",
       "<table border=\"1\" class=\"dataframe\">\n",
       "  <thead>\n",
       "    <tr style=\"text-align: right;\">\n",
       "      <th></th>\n",
       "      <th>eventBegin</th>\n",
       "      <th>team1</th>\n",
       "      <th>team2</th>\n",
       "      <th>score1</th>\n",
       "      <th>score2</th>\n",
       "      <th>RefOdd1</th>\n",
       "      <th>RefOddX</th>\n",
       "      <th>RefOdd2</th>\n",
       "      <th>RefOddOver</th>\n",
       "      <th>home</th>\n",
       "    </tr>\n",
       "  </thead>\n",
       "  <tbody>\n",
       "    <tr>\n",
       "      <th>0</th>\n",
       "      <td>2015-01-30 20:35:32</td>\n",
       "      <td>München</td>\n",
       "      <td>Wolfsburg</td>\n",
       "      <td>1</td>\n",
       "      <td>4</td>\n",
       "      <td>1.51180</td>\n",
       "      <td>4.85413</td>\n",
       "      <td>7.49272</td>\n",
       "      <td>1.69718</td>\n",
       "      <td>0</td>\n",
       "    </tr>\n",
       "    <tr>\n",
       "      <th>1</th>\n",
       "      <td>2015-01-31 15:30:19</td>\n",
       "      <td>Frankfurt</td>\n",
       "      <td>Freiburg</td>\n",
       "      <td>1</td>\n",
       "      <td>4</td>\n",
       "      <td>2.42760</td>\n",
       "      <td>3.94175</td>\n",
       "      <td>2.97516</td>\n",
       "      <td>1.70712</td>\n",
       "      <td>0</td>\n",
       "    </tr>\n",
       "    <tr>\n",
       "      <th>2</th>\n",
       "      <td>2015-01-31 15:30:56</td>\n",
       "      <td>Köln</td>\n",
       "      <td>Hamburger</td>\n",
       "      <td>2</td>\n",
       "      <td>0</td>\n",
       "      <td>3.26786</td>\n",
       "      <td>3.33901</td>\n",
       "      <td>2.54718</td>\n",
       "      <td>2.59439</td>\n",
       "      <td>0</td>\n",
       "    </tr>\n",
       "    <tr>\n",
       "      <th>3</th>\n",
       "      <td>2015-01-31 15:31:11</td>\n",
       "      <td>Hannover</td>\n",
       "      <td>Schalke</td>\n",
       "      <td>0</td>\n",
       "      <td>1</td>\n",
       "      <td>3.88638</td>\n",
       "      <td>3.81712</td>\n",
       "      <td>2.07487</td>\n",
       "      <td>1.82383</td>\n",
       "      <td>0</td>\n",
       "    </tr>\n",
       "    <tr>\n",
       "      <th>4</th>\n",
       "      <td>2015-01-31 15:31:21</td>\n",
       "      <td>Paderborn</td>\n",
       "      <td>Mainz</td>\n",
       "      <td>0</td>\n",
       "      <td>5</td>\n",
       "      <td>4.25880</td>\n",
       "      <td>3.76686</td>\n",
       "      <td>2.00676</td>\n",
       "      <td>1.87892</td>\n",
       "      <td>0</td>\n",
       "    </tr>\n",
       "  </tbody>\n",
       "</table>\n",
       "</div>"
      ],
      "text/plain": [
       "            eventBegin      team1      team2 score1 score2  RefOdd1  RefOddX  \\\n",
       "0  2015-01-30 20:35:32    München  Wolfsburg      1      4  1.51180  4.85413   \n",
       "1  2015-01-31 15:30:19  Frankfurt   Freiburg      1      4  2.42760  3.94175   \n",
       "2  2015-01-31 15:30:56       Köln  Hamburger      2      0  3.26786  3.33901   \n",
       "3  2015-01-31 15:31:11   Hannover    Schalke      0      1  3.88638  3.81712   \n",
       "4  2015-01-31 15:31:21  Paderborn      Mainz      0      5  4.25880  3.76686   \n",
       "\n",
       "   RefOdd2  RefOddOver  home  \n",
       "0  7.49272     1.69718     0  \n",
       "1  2.97516     1.70712     0  \n",
       "2  2.54718     2.59439     0  \n",
       "3  2.07487     1.82383     0  \n",
       "4  2.00676     1.87892     0  "
      ]
     },
     "execution_count": 88,
     "metadata": {},
     "output_type": "execute_result"
    }
   ],
   "source": [
    "train_alt.head()"
   ]
  },
  {
   "cell_type": "code",
   "execution_count": 89,
   "id": "ce062869",
   "metadata": {},
   "outputs": [],
   "source": [
    "#rename columns\n",
    "train_alt.columns = train.columns\n",
    "test_alt.columns = test.columns"
   ]
  },
  {
   "cell_type": "code",
   "execution_count": 109,
   "id": "4517cc69",
   "metadata": {},
   "outputs": [],
   "source": [
    "#combine the two dfs each with concat and then sort by index and home (make index explicit)\n",
    "train_compl = pd.concat([train, train_alt], axis = 0)\n",
    "test_compl = pd.concat([test, test_alt], axis = 0)"
   ]
  },
  {
   "cell_type": "code",
   "execution_count": null,
   "id": "e815e719",
   "metadata": {},
   "outputs": [],
   "source": []
  },
  {
   "cell_type": "code",
   "execution_count": 110,
   "id": "570e7d5d",
   "metadata": {},
   "outputs": [],
   "source": [
    "#reset index\n",
    "train_compl = train_compl.reset_index()"
   ]
  },
  {
   "cell_type": "code",
   "execution_count": 111,
   "id": "d6a0556c",
   "metadata": {},
   "outputs": [],
   "source": [
    "#sort\n",
    "train_compl = train_compl.sort_values(by=[\"index\", \"home\"], ascending=[True, False])\n",
    "#drop old index column\n",
    "train_compl = train_compl.drop(columns= \"index\")\n",
    "#reset index again (no new column)\n",
    "train_compl = train_compl.reset_index(drop=True)"
   ]
  },
  {
   "cell_type": "code",
   "execution_count": 113,
   "id": "5ee3bebf",
   "metadata": {},
   "outputs": [],
   "source": [
    "#repeat for test df\n",
    "test_compl = test_compl.reset_index()\n",
    "test_compl = test_compl.sort_values(by=[\"index\", \"home\"], ascending=[True, False])\n",
    "test_compl = test_compl.drop(columns=\"index\")\n",
    "test_compl = test_compl.reset_index(drop=True)"
   ]
  },
  {
   "cell_type": "markdown",
   "id": "e6827e24",
   "metadata": {},
   "source": [
    "**One last glance and overview over dfs**"
   ]
  },
  {
   "cell_type": "code",
   "execution_count": 127,
   "id": "58ccab95",
   "metadata": {},
   "outputs": [],
   "source": [
    "#the team names are only the city names and not the \"proper\" club names - let's replace them\n",
    "#make a dictionary from the raw_names and the proper names\n",
    "raw_names = train_compl.team1.unique()\n",
    "proper_names = [\"VfL Wolfsburg\", \"Bayern München\", \"SC Freiburg\", \"Eintracht Frankfurt\", \"Hamburger SV\", \"1.FC Köln\",\n",
    "             \"Schalke 04\", \"Hannover 96\", \"Mainz 05\", \"Paderborn SC\", \"VfB Stuttgart\", \"Borussia M'gladbach\",\n",
    "             \"Bayer Leverkusen\", \"Borussia Dortmund\", \"Werder Bremen\", \"Hertha BSC\", \"FC Augsburg\", \"TSG Hoffenheim\", \n",
    "             \"Karlsruher SC\", \"FC Ingolstadt\", \"SV Darmstadt\", \"FC Nürnberg\", \"RB Leipzig\", \"Eintracht Braunschweig\",\n",
    "             \"Holstein Kiel\", \"Fortuna Düsseldorf\", \"Union Berlin\"]"
   ]
  },
  {
   "cell_type": "code",
   "execution_count": 128,
   "id": "b4b4f8ee",
   "metadata": {},
   "outputs": [],
   "source": [
    "team_dict = {}\n",
    "for i in range(len(raw_names)):\n",
    "    team_dict[raw_names[i]] = proper_names[i]"
   ]
  },
  {
   "cell_type": "code",
   "execution_count": 130,
   "id": "4ffe5fdd",
   "metadata": {},
   "outputs": [],
   "source": [
    "train_compl = train_compl.replace({\"team1\": team_dict, \"team2\": team_dict})"
   ]
  },
  {
   "cell_type": "code",
   "execution_count": 131,
   "id": "1fe7f19e",
   "metadata": {},
   "outputs": [],
   "source": [
    "test_compl = test_compl.replace({\"team1\": team_dict, \"team2\": team_dict})"
   ]
  },
  {
   "cell_type": "code",
   "execution_count": 120,
   "id": "958c401c",
   "metadata": {},
   "outputs": [
    {
     "name": "stdout",
     "output_type": "stream",
     "text": [
      "<class 'pandas.core.frame.DataFrame'>\n",
      "Int64Index: 2928 entries, 0 to 2929\n",
      "Data columns (total 10 columns):\n",
      " #   Column      Non-Null Count  Dtype  \n",
      "---  ------      --------------  -----  \n",
      " 0   eventBegin  2928 non-null   object \n",
      " 1   team1       2928 non-null   object \n",
      " 2   team2       2928 non-null   object \n",
      " 3   score1      2928 non-null   object \n",
      " 4   score2      2928 non-null   object \n",
      " 5   RefOdd1     2902 non-null   float64\n",
      " 6   RefOddX     2902 non-null   float64\n",
      " 7   RefOdd2     2902 non-null   float64\n",
      " 8   RefOddOver  2902 non-null   float64\n",
      " 9   home        2928 non-null   int64  \n",
      "dtypes: float64(4), int64(1), object(5)\n",
      "memory usage: 251.6+ KB\n"
     ]
    }
   ],
   "source": [
    "train_compl.info()"
   ]
  },
  {
   "cell_type": "code",
   "execution_count": 119,
   "id": "ecd2c77a",
   "metadata": {},
   "outputs": [],
   "source": [
    "#two missing rows for score - drop these\n",
    "train_compl = train_compl.loc[~train_compl[\"score1\"].isna(), ]"
   ]
  },
  {
   "cell_type": "code",
   "execution_count": 124,
   "id": "187e3006",
   "metadata": {},
   "outputs": [
    {
     "name": "stdout",
     "output_type": "stream",
     "text": [
      "<class 'pandas.core.frame.DataFrame'>\n",
      "RangeIndex: 18 entries, 0 to 17\n",
      "Data columns (total 10 columns):\n",
      " #   Column      Non-Null Count  Dtype  \n",
      "---  ------      --------------  -----  \n",
      " 0   eventBegin  18 non-null     object \n",
      " 1   team1       18 non-null     object \n",
      " 2   team2       18 non-null     object \n",
      " 3   score1      0 non-null      object \n",
      " 4   score2      0 non-null      object \n",
      " 5   RefOdd1     0 non-null      float64\n",
      " 6   RefOddX     0 non-null      float64\n",
      " 7   RefOdd2     0 non-null      float64\n",
      " 8   RefOddOver  0 non-null      object \n",
      " 9   home        18 non-null     int64  \n",
      "dtypes: float64(3), int64(1), object(6)\n",
      "memory usage: 1.5+ KB\n"
     ]
    }
   ],
   "source": [
    "#test df\n",
    "test_compl.info()"
   ]
  },
  {
   "cell_type": "code",
   "execution_count": 123,
   "id": "68081135",
   "metadata": {},
   "outputs": [],
   "source": [
    "#test dfs RefOddOver is actually treated as a character column\n",
    "test_compl[\"RefOddOver\"] = None"
   ]
  },
  {
   "cell_type": "markdown",
   "id": "a602e769",
   "metadata": {},
   "source": [
    "**Final cleaned up and reformatted dataframe of the train data**"
   ]
  },
  {
   "cell_type": "code",
   "execution_count": 132,
   "id": "01d707ed",
   "metadata": {},
   "outputs": [
    {
     "data": {
      "text/html": [
       "<div>\n",
       "<style scoped>\n",
       "    .dataframe tbody tr th:only-of-type {\n",
       "        vertical-align: middle;\n",
       "    }\n",
       "\n",
       "    .dataframe tbody tr th {\n",
       "        vertical-align: top;\n",
       "    }\n",
       "\n",
       "    .dataframe thead th {\n",
       "        text-align: right;\n",
       "    }\n",
       "</style>\n",
       "<table border=\"1\" class=\"dataframe\">\n",
       "  <thead>\n",
       "    <tr style=\"text-align: right;\">\n",
       "      <th></th>\n",
       "      <th>eventBegin</th>\n",
       "      <th>team1</th>\n",
       "      <th>team2</th>\n",
       "      <th>score1</th>\n",
       "      <th>score2</th>\n",
       "      <th>RefOdd1</th>\n",
       "      <th>RefOddX</th>\n",
       "      <th>RefOdd2</th>\n",
       "      <th>RefOddOver</th>\n",
       "      <th>home</th>\n",
       "    </tr>\n",
       "  </thead>\n",
       "  <tbody>\n",
       "    <tr>\n",
       "      <th>0</th>\n",
       "      <td>2015-01-30 20:35:32</td>\n",
       "      <td>VfL Wolfsburg</td>\n",
       "      <td>Bayern München</td>\n",
       "      <td>4</td>\n",
       "      <td>1</td>\n",
       "      <td>7.49272</td>\n",
       "      <td>4.85413</td>\n",
       "      <td>1.51180</td>\n",
       "      <td>1.69718</td>\n",
       "      <td>1</td>\n",
       "    </tr>\n",
       "    <tr>\n",
       "      <th>1</th>\n",
       "      <td>2015-01-30 20:35:32</td>\n",
       "      <td>Bayern München</td>\n",
       "      <td>VfL Wolfsburg</td>\n",
       "      <td>1</td>\n",
       "      <td>4</td>\n",
       "      <td>1.51180</td>\n",
       "      <td>4.85413</td>\n",
       "      <td>7.49272</td>\n",
       "      <td>1.69718</td>\n",
       "      <td>0</td>\n",
       "    </tr>\n",
       "    <tr>\n",
       "      <th>2</th>\n",
       "      <td>2015-01-31 15:30:19</td>\n",
       "      <td>SC Freiburg</td>\n",
       "      <td>Eintracht Frankfurt</td>\n",
       "      <td>4</td>\n",
       "      <td>1</td>\n",
       "      <td>2.97516</td>\n",
       "      <td>3.94175</td>\n",
       "      <td>2.42760</td>\n",
       "      <td>1.70712</td>\n",
       "      <td>1</td>\n",
       "    </tr>\n",
       "    <tr>\n",
       "      <th>3</th>\n",
       "      <td>2015-01-31 15:30:19</td>\n",
       "      <td>Eintracht Frankfurt</td>\n",
       "      <td>SC Freiburg</td>\n",
       "      <td>1</td>\n",
       "      <td>4</td>\n",
       "      <td>2.42760</td>\n",
       "      <td>3.94175</td>\n",
       "      <td>2.97516</td>\n",
       "      <td>1.70712</td>\n",
       "      <td>0</td>\n",
       "    </tr>\n",
       "    <tr>\n",
       "      <th>4</th>\n",
       "      <td>2015-01-31 15:30:56</td>\n",
       "      <td>Hamburger SV</td>\n",
       "      <td>1.FC Köln</td>\n",
       "      <td>0</td>\n",
       "      <td>2</td>\n",
       "      <td>2.54718</td>\n",
       "      <td>3.33901</td>\n",
       "      <td>3.26786</td>\n",
       "      <td>2.59439</td>\n",
       "      <td>1</td>\n",
       "    </tr>\n",
       "  </tbody>\n",
       "</table>\n",
       "</div>"
      ],
      "text/plain": [
       "            eventBegin                team1                team2 score1  \\\n",
       "0  2015-01-30 20:35:32        VfL Wolfsburg       Bayern München      4   \n",
       "1  2015-01-30 20:35:32       Bayern München        VfL Wolfsburg      1   \n",
       "2  2015-01-31 15:30:19          SC Freiburg  Eintracht Frankfurt      4   \n",
       "3  2015-01-31 15:30:19  Eintracht Frankfurt          SC Freiburg      1   \n",
       "4  2015-01-31 15:30:56         Hamburger SV            1.FC Köln      0   \n",
       "\n",
       "  score2  RefOdd1  RefOddX  RefOdd2  RefOddOver  home  \n",
       "0      1  7.49272  4.85413  1.51180     1.69718     1  \n",
       "1      4  1.51180  4.85413  7.49272     1.69718     0  \n",
       "2      1  2.97516  3.94175  2.42760     1.70712     1  \n",
       "3      4  2.42760  3.94175  2.97516     1.70712     0  \n",
       "4      2  2.54718  3.33901  3.26786     2.59439     1  "
      ]
     },
     "execution_count": 132,
     "metadata": {},
     "output_type": "execute_result"
    }
   ],
   "source": [
    "train_compl.head()"
   ]
  },
  {
   "cell_type": "markdown",
   "id": "902cd443",
   "metadata": {},
   "source": [
    "# Model selection"
   ]
  },
  {
   "cell_type": "markdown",
   "id": "fb984762",
   "metadata": {},
   "source": [
    "We are dealing with a multi-class classification problem, as there are three possible outcomes: home win, draw, away win.\n",
    "Since the only data we have available in the test data (the upcoming match day) are the teams involved in the matches we will need to rely on the past outcomes of those teams to predict the outcomes/the outcome probabilities.\n",
    "\n",
    "I would suggest using Gradient Boosting as a modelling algorithm - an ensemble method combining multiple decision trees. It handles multi class classification well and typically outperforms for example random forests."
   ]
  },
  {
   "cell_type": "markdown",
   "id": "5e00d0ed",
   "metadata": {},
   "source": [
    "# Fitting a model"
   ]
  },
  {
   "cell_type": "markdown",
   "id": "5a474884",
   "metadata": {},
   "source": [
    "**1 - prepping the data for fitting**"
   ]
  },
  {
   "cell_type": "code",
   "execution_count": 133,
   "id": "a1d6ac58",
   "metadata": {},
   "outputs": [],
   "source": [
    "# first step: create an outcome variable by comparing the scores \n",
    "def match_result(row):\n",
    "    if row[\"score1\"] == row[\"score2\"]:\n",
    "            return \"draw\"\n",
    "    \n",
    "    elif row[\"home\"] == 1:\n",
    "    \n",
    "        if row[\"score1\"] > row[\"score2\"]:\n",
    "            return \"home\"\n",
    "    \n",
    "        elif row[\"score1\"] < row[\"score2\"]:\n",
    "            return \"away\"\n",
    "    \n",
    "    elif row[\"home\"] == 0:\n",
    "        \n",
    "        if row[\"score1\"] < row[\"score2\"]:\n",
    "            return \"home\"\n",
    "        \n",
    "        elif row[\"score1\"] > row[\"score2\"]:\n",
    "            return \"away\""
   ]
  },
  {
   "cell_type": "code",
   "execution_count": 134,
   "id": "c34245a9",
   "metadata": {},
   "outputs": [],
   "source": [
    "train_compl[\"result\"] = train_compl.apply(lambda row: match_result(row), axis = 1)"
   ]
  },
  {
   "cell_type": "code",
   "execution_count": 135,
   "id": "1ac58ce3",
   "metadata": {},
   "outputs": [
    {
     "data": {
      "text/html": [
       "<div>\n",
       "<style scoped>\n",
       "    .dataframe tbody tr th:only-of-type {\n",
       "        vertical-align: middle;\n",
       "    }\n",
       "\n",
       "    .dataframe tbody tr th {\n",
       "        vertical-align: top;\n",
       "    }\n",
       "\n",
       "    .dataframe thead th {\n",
       "        text-align: right;\n",
       "    }\n",
       "</style>\n",
       "<table border=\"1\" class=\"dataframe\">\n",
       "  <thead>\n",
       "    <tr style=\"text-align: right;\">\n",
       "      <th></th>\n",
       "      <th>eventBegin</th>\n",
       "      <th>team1</th>\n",
       "      <th>team2</th>\n",
       "      <th>score1</th>\n",
       "      <th>score2</th>\n",
       "      <th>RefOdd1</th>\n",
       "      <th>RefOddX</th>\n",
       "      <th>RefOdd2</th>\n",
       "      <th>RefOddOver</th>\n",
       "      <th>home</th>\n",
       "      <th>result</th>\n",
       "    </tr>\n",
       "  </thead>\n",
       "  <tbody>\n",
       "    <tr>\n",
       "      <th>0</th>\n",
       "      <td>2015-01-30 20:35:32</td>\n",
       "      <td>VfL Wolfsburg</td>\n",
       "      <td>Bayern München</td>\n",
       "      <td>4</td>\n",
       "      <td>1</td>\n",
       "      <td>7.49272</td>\n",
       "      <td>4.85413</td>\n",
       "      <td>1.51180</td>\n",
       "      <td>1.69718</td>\n",
       "      <td>1</td>\n",
       "      <td>home</td>\n",
       "    </tr>\n",
       "    <tr>\n",
       "      <th>1</th>\n",
       "      <td>2015-01-30 20:35:32</td>\n",
       "      <td>Bayern München</td>\n",
       "      <td>VfL Wolfsburg</td>\n",
       "      <td>1</td>\n",
       "      <td>4</td>\n",
       "      <td>1.51180</td>\n",
       "      <td>4.85413</td>\n",
       "      <td>7.49272</td>\n",
       "      <td>1.69718</td>\n",
       "      <td>0</td>\n",
       "      <td>home</td>\n",
       "    </tr>\n",
       "    <tr>\n",
       "      <th>2</th>\n",
       "      <td>2015-01-31 15:30:19</td>\n",
       "      <td>SC Freiburg</td>\n",
       "      <td>Eintracht Frankfurt</td>\n",
       "      <td>4</td>\n",
       "      <td>1</td>\n",
       "      <td>2.97516</td>\n",
       "      <td>3.94175</td>\n",
       "      <td>2.42760</td>\n",
       "      <td>1.70712</td>\n",
       "      <td>1</td>\n",
       "      <td>home</td>\n",
       "    </tr>\n",
       "    <tr>\n",
       "      <th>3</th>\n",
       "      <td>2015-01-31 15:30:19</td>\n",
       "      <td>Eintracht Frankfurt</td>\n",
       "      <td>SC Freiburg</td>\n",
       "      <td>1</td>\n",
       "      <td>4</td>\n",
       "      <td>2.42760</td>\n",
       "      <td>3.94175</td>\n",
       "      <td>2.97516</td>\n",
       "      <td>1.70712</td>\n",
       "      <td>0</td>\n",
       "      <td>home</td>\n",
       "    </tr>\n",
       "    <tr>\n",
       "      <th>4</th>\n",
       "      <td>2015-01-31 15:30:56</td>\n",
       "      <td>Hamburger SV</td>\n",
       "      <td>1.FC Köln</td>\n",
       "      <td>0</td>\n",
       "      <td>2</td>\n",
       "      <td>2.54718</td>\n",
       "      <td>3.33901</td>\n",
       "      <td>3.26786</td>\n",
       "      <td>2.59439</td>\n",
       "      <td>1</td>\n",
       "      <td>away</td>\n",
       "    </tr>\n",
       "  </tbody>\n",
       "</table>\n",
       "</div>"
      ],
      "text/plain": [
       "            eventBegin                team1                team2 score1  \\\n",
       "0  2015-01-30 20:35:32        VfL Wolfsburg       Bayern München      4   \n",
       "1  2015-01-30 20:35:32       Bayern München        VfL Wolfsburg      1   \n",
       "2  2015-01-31 15:30:19          SC Freiburg  Eintracht Frankfurt      4   \n",
       "3  2015-01-31 15:30:19  Eintracht Frankfurt          SC Freiburg      1   \n",
       "4  2015-01-31 15:30:56         Hamburger SV            1.FC Köln      0   \n",
       "\n",
       "  score2  RefOdd1  RefOddX  RefOdd2  RefOddOver  home result  \n",
       "0      1  7.49272  4.85413  1.51180     1.69718     1   home  \n",
       "1      4  1.51180  4.85413  7.49272     1.69718     0   home  \n",
       "2      1  2.97516  3.94175  2.42760     1.70712     1   home  \n",
       "3      4  2.42760  3.94175  2.97516     1.70712     0   home  \n",
       "4      2  2.54718  3.33901  3.26786     2.59439     1   away  "
      ]
     },
     "execution_count": 135,
     "metadata": {},
     "output_type": "execute_result"
    }
   ],
   "source": [
    "train_compl.head()"
   ]
  },
  {
   "cell_type": "markdown",
   "id": "625182d8",
   "metadata": {},
   "source": [
    "**For fitting I will only use the home == 1 rows but then use both team1 and team2 as features for the model**"
   ]
  },
  {
   "cell_type": "code",
   "execution_count": null,
   "id": "f6368cf5",
   "metadata": {},
   "outputs": [],
   "source": [
    "from sklearn.preprocessing import OneHotEncoder\n",
    "from sklearn.preprocessing import LabelEncoder"
   ]
  },
  {
   "cell_type": "code",
   "execution_count": 143,
   "id": "f37796a5",
   "metadata": {},
   "outputs": [],
   "source": [
    "#prepare the columns for encoding\n",
    "X_train = np.array(train_compl.loc[train_compl.home == 1, [\"team1\", \"team2\"]])"
   ]
  },
  {
   "cell_type": "code",
   "execution_count": 144,
   "id": "4c004af4",
   "metadata": {},
   "outputs": [],
   "source": [
    "#set up an encoder instance\n",
    "ohe = OneHotEncoder(sparse_output=False)"
   ]
  },
  {
   "cell_type": "code",
   "execution_count": 145,
   "id": "25da01f4",
   "metadata": {},
   "outputs": [],
   "source": [
    "#fit and transform the feature variables\n",
    "X_train = ohe.fit_transform(X_train)"
   ]
  },
  {
   "cell_type": "code",
   "execution_count": 172,
   "id": "c3d0e201",
   "metadata": {},
   "outputs": [],
   "source": [
    "#now apply same encoding to X_test\n",
    "X_test = np.array(test_compl.loc[test_compl.home == 1, [\"team1\", \"team2\"]])"
   ]
  },
  {
   "cell_type": "code",
   "execution_count": 173,
   "id": "4091c24d",
   "metadata": {},
   "outputs": [],
   "source": [
    "X_test = ohe.transform(X_test)"
   ]
  },
  {
   "cell_type": "code",
   "execution_count": null,
   "id": "09e518b9",
   "metadata": {},
   "outputs": [],
   "source": [
    "# Label Encode the outcome variable"
   ]
  },
  {
   "cell_type": "code",
   "execution_count": 149,
   "id": "06434817",
   "metadata": {},
   "outputs": [],
   "source": [
    "#encoder instance\n",
    "lab_enc = LabelEncoder()"
   ]
  },
  {
   "cell_type": "code",
   "execution_count": 169,
   "id": "cf3e39dc",
   "metadata": {},
   "outputs": [],
   "source": [
    "y_train = np.array(train_compl.loc[train_compl.home == 1, \"result\"])"
   ]
  },
  {
   "cell_type": "code",
   "execution_count": 170,
   "id": "37360586",
   "metadata": {},
   "outputs": [],
   "source": [
    "y_train = lab_enc.fit_transform(y_train)"
   ]
  },
  {
   "cell_type": "code",
   "execution_count": null,
   "id": "c86a467b",
   "metadata": {},
   "outputs": [],
   "source": []
  },
  {
   "cell_type": "markdown",
   "id": "fd9e67e7",
   "metadata": {},
   "source": [
    "**2 - Fitting the model**"
   ]
  },
  {
   "cell_type": "code",
   "execution_count": 155,
   "id": "94a35f86",
   "metadata": {},
   "outputs": [],
   "source": [
    "from sklearn.ensemble import GradientBoostingClassifier"
   ]
  },
  {
   "cell_type": "code",
   "execution_count": 156,
   "id": "4a3f9b6b",
   "metadata": {},
   "outputs": [],
   "source": [
    "#set up model instance with default hyperparameters\n",
    "mod = GradientBoostingClassifier()"
   ]
  },
  {
   "cell_type": "code",
   "execution_count": 171,
   "id": "da0f42a2",
   "metadata": {},
   "outputs": [
    {
     "data": {
      "text/html": [
       "<style>#sk-container-id-2 {color: black;background-color: white;}#sk-container-id-2 pre{padding: 0;}#sk-container-id-2 div.sk-toggleable {background-color: white;}#sk-container-id-2 label.sk-toggleable__label {cursor: pointer;display: block;width: 100%;margin-bottom: 0;padding: 0.3em;box-sizing: border-box;text-align: center;}#sk-container-id-2 label.sk-toggleable__label-arrow:before {content: \"▸\";float: left;margin-right: 0.25em;color: #696969;}#sk-container-id-2 label.sk-toggleable__label-arrow:hover:before {color: black;}#sk-container-id-2 div.sk-estimator:hover label.sk-toggleable__label-arrow:before {color: black;}#sk-container-id-2 div.sk-toggleable__content {max-height: 0;max-width: 0;overflow: hidden;text-align: left;background-color: #f0f8ff;}#sk-container-id-2 div.sk-toggleable__content pre {margin: 0.2em;color: black;border-radius: 0.25em;background-color: #f0f8ff;}#sk-container-id-2 input.sk-toggleable__control:checked~div.sk-toggleable__content {max-height: 200px;max-width: 100%;overflow: auto;}#sk-container-id-2 input.sk-toggleable__control:checked~label.sk-toggleable__label-arrow:before {content: \"▾\";}#sk-container-id-2 div.sk-estimator input.sk-toggleable__control:checked~label.sk-toggleable__label {background-color: #d4ebff;}#sk-container-id-2 div.sk-label input.sk-toggleable__control:checked~label.sk-toggleable__label {background-color: #d4ebff;}#sk-container-id-2 input.sk-hidden--visually {border: 0;clip: rect(1px 1px 1px 1px);clip: rect(1px, 1px, 1px, 1px);height: 1px;margin: -1px;overflow: hidden;padding: 0;position: absolute;width: 1px;}#sk-container-id-2 div.sk-estimator {font-family: monospace;background-color: #f0f8ff;border: 1px dotted black;border-radius: 0.25em;box-sizing: border-box;margin-bottom: 0.5em;}#sk-container-id-2 div.sk-estimator:hover {background-color: #d4ebff;}#sk-container-id-2 div.sk-parallel-item::after {content: \"\";width: 100%;border-bottom: 1px solid gray;flex-grow: 1;}#sk-container-id-2 div.sk-label:hover label.sk-toggleable__label {background-color: #d4ebff;}#sk-container-id-2 div.sk-serial::before {content: \"\";position: absolute;border-left: 1px solid gray;box-sizing: border-box;top: 0;bottom: 0;left: 50%;z-index: 0;}#sk-container-id-2 div.sk-serial {display: flex;flex-direction: column;align-items: center;background-color: white;padding-right: 0.2em;padding-left: 0.2em;position: relative;}#sk-container-id-2 div.sk-item {position: relative;z-index: 1;}#sk-container-id-2 div.sk-parallel {display: flex;align-items: stretch;justify-content: center;background-color: white;position: relative;}#sk-container-id-2 div.sk-item::before, #sk-container-id-2 div.sk-parallel-item::before {content: \"\";position: absolute;border-left: 1px solid gray;box-sizing: border-box;top: 0;bottom: 0;left: 50%;z-index: -1;}#sk-container-id-2 div.sk-parallel-item {display: flex;flex-direction: column;z-index: 1;position: relative;background-color: white;}#sk-container-id-2 div.sk-parallel-item:first-child::after {align-self: flex-end;width: 50%;}#sk-container-id-2 div.sk-parallel-item:last-child::after {align-self: flex-start;width: 50%;}#sk-container-id-2 div.sk-parallel-item:only-child::after {width: 0;}#sk-container-id-2 div.sk-dashed-wrapped {border: 1px dashed gray;margin: 0 0.4em 0.5em 0.4em;box-sizing: border-box;padding-bottom: 0.4em;background-color: white;}#sk-container-id-2 div.sk-label label {font-family: monospace;font-weight: bold;display: inline-block;line-height: 1.2em;}#sk-container-id-2 div.sk-label-container {text-align: center;}#sk-container-id-2 div.sk-container {/* jupyter's `normalize.less` sets `[hidden] { display: none; }` but bootstrap.min.css set `[hidden] { display: none !important; }` so we also need the `!important` here to be able to override the default hidden behavior on the sphinx rendered scikit-learn.org. See: https://github.com/scikit-learn/scikit-learn/issues/21755 */display: inline-block !important;position: relative;}#sk-container-id-2 div.sk-text-repr-fallback {display: none;}</style><div id=\"sk-container-id-2\" class=\"sk-top-container\"><div class=\"sk-text-repr-fallback\"><pre>GradientBoostingClassifier()</pre><b>In a Jupyter environment, please rerun this cell to show the HTML representation or trust the notebook. <br />On GitHub, the HTML representation is unable to render, please try loading this page with nbviewer.org.</b></div><div class=\"sk-container\" hidden><div class=\"sk-item\"><div class=\"sk-estimator sk-toggleable\"><input class=\"sk-toggleable__control sk-hidden--visually\" id=\"sk-estimator-id-2\" type=\"checkbox\" checked><label for=\"sk-estimator-id-2\" class=\"sk-toggleable__label sk-toggleable__label-arrow\">GradientBoostingClassifier</label><div class=\"sk-toggleable__content\"><pre>GradientBoostingClassifier()</pre></div></div></div></div></div>"
      ],
      "text/plain": [
       "GradientBoostingClassifier()"
      ]
     },
     "execution_count": 171,
     "metadata": {},
     "output_type": "execute_result"
    }
   ],
   "source": [
    "#and fit the model\n",
    "mod.fit(X_train, y_train)"
   ]
  },
  {
   "cell_type": "markdown",
   "id": "acb44612",
   "metadata": {},
   "source": [
    "**3 - Predict probabilities for X_test**"
   ]
  },
  {
   "cell_type": "code",
   "execution_count": 176,
   "id": "5b05e24a",
   "metadata": {},
   "outputs": [],
   "source": [
    "#predict \n",
    "probs_predicted = mod.predict_proba(X_test)"
   ]
  },
  {
   "cell_type": "code",
   "execution_count": 188,
   "id": "debd7dd5",
   "metadata": {
    "scrolled": true
   },
   "outputs": [
    {
     "data": {
      "text/plain": [
       "array([[0.46877033, 0.29141752, 0.23981215],\n",
       "       [0.41082921, 0.22077229, 0.3683985 ],\n",
       "       [0.11879092, 0.16074306, 0.72046603],\n",
       "       [0.54808491, 0.40684763, 0.04506746],\n",
       "       [0.41058378, 0.35616195, 0.23325427],\n",
       "       [0.26096237, 0.33457843, 0.4044592 ],\n",
       "       [0.46031006, 0.25442209, 0.28526786],\n",
       "       [0.43622631, 0.31595179, 0.2478219 ],\n",
       "       [0.64988602, 0.12259908, 0.2275149 ]])"
      ]
     },
     "execution_count": 188,
     "metadata": {},
     "output_type": "execute_result"
    }
   ],
   "source": [
    "probs_predicted"
   ]
  },
  {
   "cell_type": "code",
   "execution_count": 178,
   "id": "760af1c5",
   "metadata": {},
   "outputs": [],
   "source": [
    "#rearrange columns in array from [away, draw, home] to [home, draw, away] like in the dataframes\n",
    "probs_predicted = probs_predicted[:, [2,1,0]]"
   ]
  },
  {
   "cell_type": "code",
   "execution_count": 186,
   "id": "8f0b6829",
   "metadata": {},
   "outputs": [],
   "source": [
    "#fill in the missing odds in test df\n",
    "test_compl.loc[test_compl.home==1, [\"RefOdd1\", \"RefOddX\", \"RefOdd2\"]] = 1/probs_predicted\n",
    "#switched order for home == 0\n",
    "test_compl.loc[test_compl.home==0, [\"RefOdd1\", \"RefOddX\", \"RefOdd2\"]] = 1/probs_predicted[:, [2,1,0]]"
   ]
  },
  {
   "cell_type": "code",
   "execution_count": 187,
   "id": "0d887986",
   "metadata": {},
   "outputs": [
    {
     "data": {
      "text/html": [
       "<div>\n",
       "<style scoped>\n",
       "    .dataframe tbody tr th:only-of-type {\n",
       "        vertical-align: middle;\n",
       "    }\n",
       "\n",
       "    .dataframe tbody tr th {\n",
       "        vertical-align: top;\n",
       "    }\n",
       "\n",
       "    .dataframe thead th {\n",
       "        text-align: right;\n",
       "    }\n",
       "</style>\n",
       "<table border=\"1\" class=\"dataframe\">\n",
       "  <thead>\n",
       "    <tr style=\"text-align: right;\">\n",
       "      <th></th>\n",
       "      <th>eventBegin</th>\n",
       "      <th>team1</th>\n",
       "      <th>team2</th>\n",
       "      <th>score1</th>\n",
       "      <th>score2</th>\n",
       "      <th>RefOdd1</th>\n",
       "      <th>RefOddX</th>\n",
       "      <th>RefOdd2</th>\n",
       "      <th>RefOddOver</th>\n",
       "      <th>home</th>\n",
       "    </tr>\n",
       "  </thead>\n",
       "  <tbody>\n",
       "    <tr>\n",
       "      <th>0</th>\n",
       "      <td>2019-10-25 20:30:06</td>\n",
       "      <td>Mainz 05</td>\n",
       "      <td>1.FC Köln</td>\n",
       "      <td>None</td>\n",
       "      <td>None</td>\n",
       "      <td>2.133241</td>\n",
       "      <td>3.431503</td>\n",
       "      <td>4.169931</td>\n",
       "      <td>None</td>\n",
       "      <td>1</td>\n",
       "    </tr>\n",
       "    <tr>\n",
       "      <th>1</th>\n",
       "      <td>2019-10-25 20:30:06</td>\n",
       "      <td>1.FC Köln</td>\n",
       "      <td>Mainz 05</td>\n",
       "      <td>None</td>\n",
       "      <td>None</td>\n",
       "      <td>4.169931</td>\n",
       "      <td>3.431503</td>\n",
       "      <td>2.133241</td>\n",
       "      <td>None</td>\n",
       "      <td>0</td>\n",
       "    </tr>\n",
       "    <tr>\n",
       "      <th>2</th>\n",
       "      <td>2019-10-26 15:30:00</td>\n",
       "      <td>SC Freiburg</td>\n",
       "      <td>RB Leipzig</td>\n",
       "      <td>None</td>\n",
       "      <td>None</td>\n",
       "      <td>2.434101</td>\n",
       "      <td>4.529554</td>\n",
       "      <td>2.714452</td>\n",
       "      <td>None</td>\n",
       "      <td>1</td>\n",
       "    </tr>\n",
       "    <tr>\n",
       "      <th>3</th>\n",
       "      <td>2019-10-26 15:30:00</td>\n",
       "      <td>RB Leipzig</td>\n",
       "      <td>SC Freiburg</td>\n",
       "      <td>None</td>\n",
       "      <td>None</td>\n",
       "      <td>2.714452</td>\n",
       "      <td>4.529554</td>\n",
       "      <td>2.434101</td>\n",
       "      <td>None</td>\n",
       "      <td>0</td>\n",
       "    </tr>\n",
       "    <tr>\n",
       "      <th>4</th>\n",
       "      <td>2019-10-26 15:30:35</td>\n",
       "      <td>Paderborn SC</td>\n",
       "      <td>Fortuna Düsseldorf</td>\n",
       "      <td>None</td>\n",
       "      <td>None</td>\n",
       "      <td>8.418152</td>\n",
       "      <td>6.221109</td>\n",
       "      <td>1.387990</td>\n",
       "      <td>None</td>\n",
       "      <td>1</td>\n",
       "    </tr>\n",
       "  </tbody>\n",
       "</table>\n",
       "</div>"
      ],
      "text/plain": [
       "            eventBegin         team1               team2 score1 score2  \\\n",
       "0  2019-10-25 20:30:06      Mainz 05           1.FC Köln   None   None   \n",
       "1  2019-10-25 20:30:06     1.FC Köln            Mainz 05   None   None   \n",
       "2  2019-10-26 15:30:00   SC Freiburg          RB Leipzig   None   None   \n",
       "3  2019-10-26 15:30:00    RB Leipzig         SC Freiburg   None   None   \n",
       "4  2019-10-26 15:30:35  Paderborn SC  Fortuna Düsseldorf   None   None   \n",
       "\n",
       "    RefOdd1   RefOddX   RefOdd2 RefOddOver  home  \n",
       "0  2.133241  3.431503  4.169931       None     1  \n",
       "1  4.169931  3.431503  2.133241       None     0  \n",
       "2  2.434101  4.529554  2.714452       None     1  \n",
       "3  2.714452  4.529554  2.434101       None     0  \n",
       "4  8.418152  6.221109  1.387990       None     1  "
      ]
     },
     "execution_count": 187,
     "metadata": {},
     "output_type": "execute_result"
    }
   ],
   "source": [
    "test_compl.head()"
   ]
  },
  {
   "cell_type": "code",
   "execution_count": null,
   "id": "6910673f",
   "metadata": {},
   "outputs": [],
   "source": []
  }
 ],
 "metadata": {
  "kernelspec": {
   "display_name": "Python 3 (ipykernel)",
   "language": "python",
   "name": "python3"
  },
  "language_info": {
   "codemirror_mode": {
    "name": "ipython",
    "version": 3
   },
   "file_extension": ".py",
   "mimetype": "text/x-python",
   "name": "python",
   "nbconvert_exporter": "python",
   "pygments_lexer": "ipython3",
   "version": "3.10.6"
  },
  "toc": {
   "base_numbering": 1,
   "nav_menu": {},
   "number_sections": true,
   "sideBar": true,
   "skip_h1_title": false,
   "title_cell": "Table of Contents",
   "title_sidebar": "Contents",
   "toc_cell": false,
   "toc_position": {},
   "toc_section_display": true,
   "toc_window_display": false
  }
 },
 "nbformat": 4,
 "nbformat_minor": 5
}
